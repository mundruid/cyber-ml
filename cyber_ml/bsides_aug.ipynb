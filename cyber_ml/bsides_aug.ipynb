{
 "cells": [
  {
   "cell_type": "code",
   "execution_count": 1,
   "metadata": {},
   "outputs": [],
   "source": [
    "import pandas as pd\n",
    "import numpy as np\n",
    "import sweetviz as sv\n",
    "import ipaddress\n",
    "\n",
    "\n",
    "from scapy.all import PcapReader, IP, TCP, UDP, ICMP\n",
    "from scipy.stats import ttest_ind, kstest, norm, skew, kurtosis, zscore\n",
    "from sklearn.linear_model import LinearRegression\n",
    "from skimpy import skim\n",
    "from summarytools import dfSummary"
   ]
  },
  {
   "cell_type": "code",
   "execution_count": 2,
   "metadata": {},
   "outputs": [
    {
     "data": {
      "text/plain": [
       "scapy.utils.PcapNgReader"
      ]
     },
     "execution_count": 2,
     "metadata": {},
     "output_type": "execute_result"
    }
   ],
   "source": [
    "pcap_reader = PcapReader(\"../data/blog_show_data/mirai.pcap\")\n",
    "type(pcap_reader)"
   ]
  },
  {
   "attachments": {},
   "cell_type": "markdown",
   "metadata": {},
   "source": [
    "# Preprocess\n",
    "\n",
    "- convert data to streams\n",
    "- collect some numbers"
   ]
  },
  {
   "cell_type": "code",
   "execution_count": 3,
   "metadata": {},
   "outputs": [],
   "source": [
    "# Create an empty list to store the data\n",
    "# data = []\n",
    "\n",
    "# # Iterate through the packets in the pcap file\n",
    "# for packet in pcap_reader:\n",
    "#     # Get the source and destination IP addresses\n",
    "#     if packet.haslayer(IP):\n",
    "#         src_ip = packet[IP].src\n",
    "#         dst_ip = packet[IP].dst\n",
    "#         protocol = packet[IP].proto\n",
    "#     else:\n",
    "#         src_ip = None\n",
    "#         dst_ip = None\n",
    "#         protocol = None\n",
    "    \n",
    "#     # Get the source and destination ports and payload\n",
    "#     if packet.haslayer(TCP):\n",
    "#         src_port = packet[TCP].sport\n",
    "#         dst_port = packet[TCP].dport\n",
    "#         payload = str(packet[TCP].payload)\n",
    "#         packet_len = len(packet[TCP])\n",
    "#     elif packet.haslayer(UDP):\n",
    "#         src_port = packet[UDP].sport\n",
    "#         dst_port = packet[UDP].dport\n",
    "#         payload = str(packet[UDP].payload)\n",
    "#         packet_len = len(packet[UDP])\n",
    "#     elif packet.haslayer(ICMP):\n",
    "#         payload = str(packet[ICMP].payload)\n",
    "#         packet_len = len(packet[ICMP])\n",
    "#         src_port = None\n",
    "#         dst_port = None\n",
    "#     else:\n",
    "#         src_port = None\n",
    "#         dst_port = None\n",
    "#         payload = str(packet.payload)\n",
    "#         packet_len = len(packet)\n",
    "    \n",
    "#     # Append the data to the list\n",
    "#     data.append([packet.time, src_ip, dst_ip, src_port, dst_port, payload, packet_len, protocol])\n",
    "\n",
    "# # Convert the list to a pandas dataframe\n",
    "# mirai_df = pd.DataFrame(data, columns=['Timestamp', 'Source IP', 'Destination IP', 'Source Port', 'Destination Port', 'Payload', 'Packet Length', 'Protocol'])\n",
    "\n",
    "# mirai_df\n"
   ]
  },
  {
   "cell_type": "code",
   "execution_count": 4,
   "metadata": {},
   "outputs": [],
   "source": [
    "# mirai_df.to_pickle(\"../data/bsides_aug/mirai.pkl\")\n",
    "mirai_df = pd.read_pickle(\"../data/bsides_aug/mirai.pkl\")"
   ]
  },
  {
   "cell_type": "code",
   "execution_count": 5,
   "metadata": {},
   "outputs": [
    {
     "data": {
      "text/html": [
       "<div>\n",
       "<style scoped>\n",
       "    .dataframe tbody tr th:only-of-type {\n",
       "        vertical-align: middle;\n",
       "    }\n",
       "\n",
       "    .dataframe tbody tr th {\n",
       "        vertical-align: top;\n",
       "    }\n",
       "\n",
       "    .dataframe thead th {\n",
       "        text-align: right;\n",
       "    }\n",
       "</style>\n",
       "<table border=\"1\" class=\"dataframe\">\n",
       "  <thead>\n",
       "    <tr style=\"text-align: right;\">\n",
       "      <th></th>\n",
       "      <th>Timestamp</th>\n",
       "      <th>Source IP</th>\n",
       "      <th>Destination IP</th>\n",
       "      <th>Source Port</th>\n",
       "      <th>Destination Port</th>\n",
       "      <th>Payload</th>\n",
       "      <th>Packet Length</th>\n",
       "      <th>Protocol</th>\n",
       "    </tr>\n",
       "  </thead>\n",
       "  <tbody>\n",
       "    <tr>\n",
       "      <th>0</th>\n",
       "      <td>1540450947.65791</td>\n",
       "      <td>None</td>\n",
       "      <td>None</td>\n",
       "      <td>NaN</td>\n",
       "      <td>NaN</td>\n",
       "      <td>ARP who has 192.168.2.66 says 192.168.2.110 / ...</td>\n",
       "      <td>60</td>\n",
       "      <td>NaN</td>\n",
       "    </tr>\n",
       "    <tr>\n",
       "      <th>1</th>\n",
       "      <td>1540450947.663658</td>\n",
       "      <td>None</td>\n",
       "      <td>None</td>\n",
       "      <td>NaN</td>\n",
       "      <td>NaN</td>\n",
       "      <td>ARP who has 192.168.2.67 says 192.168.2.110 / ...</td>\n",
       "      <td>60</td>\n",
       "      <td>NaN</td>\n",
       "    </tr>\n",
       "    <tr>\n",
       "      <th>2</th>\n",
       "      <td>1540450947.664393</td>\n",
       "      <td>None</td>\n",
       "      <td>None</td>\n",
       "      <td>NaN</td>\n",
       "      <td>NaN</td>\n",
       "      <td>ARP who has 192.168.2.68 says 192.168.2.110 / ...</td>\n",
       "      <td>60</td>\n",
       "      <td>NaN</td>\n",
       "    </tr>\n",
       "    <tr>\n",
       "      <th>3</th>\n",
       "      <td>1540450947.668903</td>\n",
       "      <td>None</td>\n",
       "      <td>None</td>\n",
       "      <td>NaN</td>\n",
       "      <td>NaN</td>\n",
       "      <td>ARP who has 192.168.2.69 says 192.168.2.110 / ...</td>\n",
       "      <td>60</td>\n",
       "      <td>NaN</td>\n",
       "    </tr>\n",
       "    <tr>\n",
       "      <th>4</th>\n",
       "      <td>1540450947.670141</td>\n",
       "      <td>None</td>\n",
       "      <td>None</td>\n",
       "      <td>NaN</td>\n",
       "      <td>NaN</td>\n",
       "      <td>ARP who has 192.168.2.70 says 192.168.2.110 / ...</td>\n",
       "      <td>60</td>\n",
       "      <td>NaN</td>\n",
       "    </tr>\n",
       "    <tr>\n",
       "      <th>...</th>\n",
       "      <td>...</td>\n",
       "      <td>...</td>\n",
       "      <td>...</td>\n",
       "      <td>...</td>\n",
       "      <td>...</td>\n",
       "      <td>...</td>\n",
       "      <td>...</td>\n",
       "      <td>...</td>\n",
       "    </tr>\n",
       "    <tr>\n",
       "      <th>625615</th>\n",
       "      <td>1540453519.837515</td>\n",
       "      <td>None</td>\n",
       "      <td>None</td>\n",
       "      <td>NaN</td>\n",
       "      <td>NaN</td>\n",
       "      <td>ARP who has 192.168.2.165 says 192.168.2.110 /...</td>\n",
       "      <td>60</td>\n",
       "      <td>NaN</td>\n",
       "    </tr>\n",
       "    <tr>\n",
       "      <th>625616</th>\n",
       "      <td>1540453519.839396</td>\n",
       "      <td>None</td>\n",
       "      <td>None</td>\n",
       "      <td>NaN</td>\n",
       "      <td>NaN</td>\n",
       "      <td>ARP who has 192.168.2.166 says 192.168.2.110 /...</td>\n",
       "      <td>60</td>\n",
       "      <td>NaN</td>\n",
       "    </tr>\n",
       "    <tr>\n",
       "      <th>625617</th>\n",
       "      <td>1540453519.840611</td>\n",
       "      <td>None</td>\n",
       "      <td>None</td>\n",
       "      <td>NaN</td>\n",
       "      <td>NaN</td>\n",
       "      <td>ARP who has 192.168.2.167 says 192.168.2.110 /...</td>\n",
       "      <td>60</td>\n",
       "      <td>NaN</td>\n",
       "    </tr>\n",
       "    <tr>\n",
       "      <th>625618</th>\n",
       "      <td>1540453519.842369</td>\n",
       "      <td>None</td>\n",
       "      <td>None</td>\n",
       "      <td>NaN</td>\n",
       "      <td>NaN</td>\n",
       "      <td>ARP who has 192.168.2.168 says 192.168.2.110 /...</td>\n",
       "      <td>60</td>\n",
       "      <td>NaN</td>\n",
       "    </tr>\n",
       "    <tr>\n",
       "      <th>625619</th>\n",
       "      <td>1540453519.842464</td>\n",
       "      <td>192.168.2.115</td>\n",
       "      <td>192.168.2.1</td>\n",
       "      <td>3570.0</td>\n",
       "      <td>53.0</td>\n",
       "      <td>DNS Qry \"b'north-america.pool.ntp.org.Speedpor...</td>\n",
       "      <td>85</td>\n",
       "      <td>17.0</td>\n",
       "    </tr>\n",
       "  </tbody>\n",
       "</table>\n",
       "<p>625620 rows × 8 columns</p>\n",
       "</div>"
      ],
      "text/plain": [
       "                Timestamp      Source IP Destination IP  Source Port  \\\n",
       "0        1540450947.65791           None           None          NaN   \n",
       "1       1540450947.663658           None           None          NaN   \n",
       "2       1540450947.664393           None           None          NaN   \n",
       "3       1540450947.668903           None           None          NaN   \n",
       "4       1540450947.670141           None           None          NaN   \n",
       "...                   ...            ...            ...          ...   \n",
       "625615  1540453519.837515           None           None          NaN   \n",
       "625616  1540453519.839396           None           None          NaN   \n",
       "625617  1540453519.840611           None           None          NaN   \n",
       "625618  1540453519.842369           None           None          NaN   \n",
       "625619  1540453519.842464  192.168.2.115    192.168.2.1       3570.0   \n",
       "\n",
       "        Destination Port                                            Payload  \\\n",
       "0                    NaN  ARP who has 192.168.2.66 says 192.168.2.110 / ...   \n",
       "1                    NaN  ARP who has 192.168.2.67 says 192.168.2.110 / ...   \n",
       "2                    NaN  ARP who has 192.168.2.68 says 192.168.2.110 / ...   \n",
       "3                    NaN  ARP who has 192.168.2.69 says 192.168.2.110 / ...   \n",
       "4                    NaN  ARP who has 192.168.2.70 says 192.168.2.110 / ...   \n",
       "...                  ...                                                ...   \n",
       "625615               NaN  ARP who has 192.168.2.165 says 192.168.2.110 /...   \n",
       "625616               NaN  ARP who has 192.168.2.166 says 192.168.2.110 /...   \n",
       "625617               NaN  ARP who has 192.168.2.167 says 192.168.2.110 /...   \n",
       "625618               NaN  ARP who has 192.168.2.168 says 192.168.2.110 /...   \n",
       "625619              53.0  DNS Qry \"b'north-america.pool.ntp.org.Speedpor...   \n",
       "\n",
       "        Packet Length  Protocol  \n",
       "0                  60       NaN  \n",
       "1                  60       NaN  \n",
       "2                  60       NaN  \n",
       "3                  60       NaN  \n",
       "4                  60       NaN  \n",
       "...               ...       ...  \n",
       "625615             60       NaN  \n",
       "625616             60       NaN  \n",
       "625617             60       NaN  \n",
       "625618             60       NaN  \n",
       "625619             85      17.0  \n",
       "\n",
       "[625620 rows x 8 columns]"
      ]
     },
     "execution_count": 5,
     "metadata": {},
     "output_type": "execute_result"
    }
   ],
   "source": [
    "mirai_df"
   ]
  },
  {
   "cell_type": "code",
   "execution_count": 6,
   "metadata": {},
   "outputs": [
    {
     "name": "stdout",
     "output_type": "stream",
     "text": [
      "           Source IP   Destination IP  Source Port  Destination Port  \\\n",
      "0            0.0.0.0  255.255.255.255         68.0              67.0   \n",
      "1        192.168.2.1    192.168.2.110         23.0           21897.0   \n",
      "2        192.168.2.1    192.168.2.110         23.0           46734.0   \n",
      "3        192.168.2.1    192.168.2.110         23.0           50364.0   \n",
      "4        192.168.2.1    192.168.2.111         53.0           32806.0   \n",
      "...              ...              ...          ...               ...   \n",
      "14133  192.168.2.126      54.154.5.26      29783.0           32100.0   \n",
      "14134  192.168.2.126      54.154.5.26      29858.0           32100.0   \n",
      "14135  192.168.2.126          8.8.8.8       3126.0              53.0   \n",
      "14136  192.168.2.126          8.8.8.8       3130.0              53.0   \n",
      "14137  192.168.2.196    192.168.2.101      53781.0           51009.0   \n",
      "\n",
      "       Protocol  Number of Packets  Total Length     Duration  \n",
      "0          17.0                  2           332     0.304461  \n",
      "1           6.0               1432         37232  2375.572448  \n",
      "2           6.0                 12           312    18.616804  \n",
      "3           6.0                 75          1950   122.722774  \n",
      "4          17.0                  1            74     0.000000  \n",
      "...         ...                ...           ...          ...  \n",
      "14133      17.0                  9           504   282.871753  \n",
      "14134      17.0                 10           530   282.907552  \n",
      "14135      17.0                 15           585   284.999661  \n",
      "14136      17.0                111          4329  2257.033702  \n",
      "14137      17.0                240         39840  2408.542301  \n",
      "\n",
      "[14138 rows x 8 columns]\n"
     ]
    }
   ],
   "source": [
    "# Create an empty list to store stream data as separate dataframes\n",
    "dfs = []\n",
    "\n",
    "# Group packets by src/dst IP and src/dst port\n",
    "grouped = mirai_df.groupby(['Source IP', 'Destination IP', 'Source Port', 'Destination Port', 'Protocol'])\n",
    "\n",
    "# Iterate through each group to extract stream data\n",
    "for name, group in grouped:\n",
    "    # Get source/destination IP, port, and protocol\n",
    "    src_ip, dst_ip, src_port, dst_port, proto = name\n",
    "    \n",
    "    # Get number of packets, total length, and duration of the stream\n",
    "    num_packets = len(group)\n",
    "    total_length = group['Packet Length'].sum()\n",
    "    start_time = group['Timestamp'].min()\n",
    "    end_time = group['Timestamp'].max()\n",
    "    duration = float(end_time - start_time)\n",
    "    \n",
    "    # Create a new dataframe with the stream data\n",
    "    stream_df = pd.DataFrame({'Source IP': [src_ip],\n",
    "                              'Destination IP': [dst_ip],\n",
    "                              'Source Port': [src_port],\n",
    "                              'Destination Port': [dst_port],\n",
    "                              'Protocol': [proto],\n",
    "                              'Number of Packets': [num_packets],\n",
    "                              'Total Length': [total_length],\n",
    "                              'Duration': [duration]})\n",
    "    \n",
    "    # Add the new dataframe to the list\n",
    "    dfs.append(stream_df)\n",
    "\n",
    "# Concatenate all the dataframes in the list into one dataframe\n",
    "stream_df = pd.concat(dfs, ignore_index=True)\n",
    "\n",
    "# Print the new dataframe with stream data\n",
    "print(stream_df)\n"
   ]
  },
  {
   "attachments": {},
   "cell_type": "markdown",
   "metadata": {},
   "source": [
    "# EDA"
   ]
  },
  {
   "attachments": {},
   "cell_type": "markdown",
   "metadata": {},
   "source": [
    "## Descriptive statistics & data\n",
    "\n",
    "- Describe columns and data types\n",
    "- Descriptive statistics\n",
    "  -  count, \n",
    "  -  mean, \n",
    "  -  standard deviation, \n",
    "  -  minimum, \n",
    "  -  25th percentile, \n",
    "  -  median (50th percentile), \n",
    "  -  75th percentile, and \n",
    "  -  maximum"
   ]
  },
  {
   "cell_type": "code",
   "execution_count": 7,
   "metadata": {},
   "outputs": [
    {
     "data": {
      "text/plain": [
       "Index(['Source IP', 'Destination IP', 'Source Port', 'Destination Port',\n",
       "       'Protocol', 'Number of Packets', 'Total Length', 'Duration'],\n",
       "      dtype='object')"
      ]
     },
     "execution_count": 7,
     "metadata": {},
     "output_type": "execute_result"
    }
   ],
   "source": [
    "# describe, summarize etc.\n",
    "stream_df.columns"
   ]
  },
  {
   "cell_type": "code",
   "execution_count": 8,
   "metadata": {},
   "outputs": [
    {
     "data": {
      "text/plain": [
       "Source IP             object\n",
       "Destination IP        object\n",
       "Source Port          float64\n",
       "Destination Port     float64\n",
       "Protocol             float64\n",
       "Number of Packets      int64\n",
       "Total Length           int64\n",
       "Duration             float64\n",
       "dtype: object"
      ]
     },
     "execution_count": 8,
     "metadata": {},
     "output_type": "execute_result"
    }
   ],
   "source": [
    "stream_df.dtypes"
   ]
  },
  {
   "cell_type": "code",
   "execution_count": 9,
   "metadata": {},
   "outputs": [
    {
     "data": {
      "text/html": [
       "<div>\n",
       "<style scoped>\n",
       "    .dataframe tbody tr th:only-of-type {\n",
       "        vertical-align: middle;\n",
       "    }\n",
       "\n",
       "    .dataframe tbody tr th {\n",
       "        vertical-align: top;\n",
       "    }\n",
       "\n",
       "    .dataframe thead th {\n",
       "        text-align: right;\n",
       "    }\n",
       "</style>\n",
       "<table border=\"1\" class=\"dataframe\">\n",
       "  <thead>\n",
       "    <tr style=\"text-align: right;\">\n",
       "      <th></th>\n",
       "      <th>Source Port</th>\n",
       "      <th>Destination Port</th>\n",
       "      <th>Protocol</th>\n",
       "      <th>Number of Packets</th>\n",
       "      <th>Total Length</th>\n",
       "      <th>Duration</th>\n",
       "    </tr>\n",
       "  </thead>\n",
       "  <tbody>\n",
       "    <tr>\n",
       "      <th>count</th>\n",
       "      <td>14138.000000</td>\n",
       "      <td>14138.000000</td>\n",
       "      <td>14138.000000</td>\n",
       "      <td>14138.000000</td>\n",
       "      <td>14138.000000</td>\n",
       "      <td>14138.000000</td>\n",
       "    </tr>\n",
       "    <tr>\n",
       "      <th>mean</th>\n",
       "      <td>32980.104895</td>\n",
       "      <td>2152.375088</td>\n",
       "      <td>13.219479</td>\n",
       "      <td>4.705687</td>\n",
       "      <td>199.615009</td>\n",
       "      <td>14.185579</td>\n",
       "    </tr>\n",
       "    <tr>\n",
       "      <th>std</th>\n",
       "      <td>21650.445270</td>\n",
       "      <td>6092.466512</td>\n",
       "      <td>5.224492</td>\n",
       "      <td>72.311029</td>\n",
       "      <td>3057.301765</td>\n",
       "      <td>153.306208</td>\n",
       "    </tr>\n",
       "    <tr>\n",
       "      <th>min</th>\n",
       "      <td>0.000000</td>\n",
       "      <td>23.000000</td>\n",
       "      <td>6.000000</td>\n",
       "      <td>1.000000</td>\n",
       "      <td>26.000000</td>\n",
       "      <td>0.000000</td>\n",
       "    </tr>\n",
       "    <tr>\n",
       "      <th>25%</th>\n",
       "      <td>3206.250000</td>\n",
       "      <td>53.000000</td>\n",
       "      <td>6.000000</td>\n",
       "      <td>1.000000</td>\n",
       "      <td>40.000000</td>\n",
       "      <td>0.000000</td>\n",
       "    </tr>\n",
       "    <tr>\n",
       "      <th>50%</th>\n",
       "      <td>40048.500000</td>\n",
       "      <td>53.000000</td>\n",
       "      <td>17.000000</td>\n",
       "      <td>1.000000</td>\n",
       "      <td>74.000000</td>\n",
       "      <td>0.000000</td>\n",
       "    </tr>\n",
       "    <tr>\n",
       "      <th>75%</th>\n",
       "      <td>51555.000000</td>\n",
       "      <td>443.000000</td>\n",
       "      <td>17.000000</td>\n",
       "      <td>3.000000</td>\n",
       "      <td>104.000000</td>\n",
       "      <td>2.850280</td>\n",
       "    </tr>\n",
       "    <tr>\n",
       "      <th>max</th>\n",
       "      <td>64633.000000</td>\n",
       "      <td>63749.000000</td>\n",
       "      <td>17.000000</td>\n",
       "      <td>2862.000000</td>\n",
       "      <td>135840.000000</td>\n",
       "      <td>2571.501515</td>\n",
       "    </tr>\n",
       "  </tbody>\n",
       "</table>\n",
       "</div>"
      ],
      "text/plain": [
       "        Source Port  Destination Port      Protocol  Number of Packets  \\\n",
       "count  14138.000000      14138.000000  14138.000000       14138.000000   \n",
       "mean   32980.104895       2152.375088     13.219479           4.705687   \n",
       "std    21650.445270       6092.466512      5.224492          72.311029   \n",
       "min        0.000000         23.000000      6.000000           1.000000   \n",
       "25%     3206.250000         53.000000      6.000000           1.000000   \n",
       "50%    40048.500000         53.000000     17.000000           1.000000   \n",
       "75%    51555.000000        443.000000     17.000000           3.000000   \n",
       "max    64633.000000      63749.000000     17.000000        2862.000000   \n",
       "\n",
       "        Total Length      Duration  \n",
       "count   14138.000000  14138.000000  \n",
       "mean      199.615009     14.185579  \n",
       "std      3057.301765    153.306208  \n",
       "min        26.000000      0.000000  \n",
       "25%        40.000000      0.000000  \n",
       "50%        74.000000      0.000000  \n",
       "75%       104.000000      2.850280  \n",
       "max    135840.000000   2571.501515  "
      ]
     },
     "execution_count": 9,
     "metadata": {},
     "output_type": "execute_result"
    }
   ],
   "source": [
    "# descriptive statistics\n",
    "stream_df.describe()"
   ]
  },
  {
   "cell_type": "code",
   "execution_count": 10,
   "metadata": {},
   "outputs": [
    {
     "name": "stderr",
     "output_type": "stream",
     "text": [
      "/tmp/ipykernel_250873/3813972197.py:2: FutureWarning: The default value of numeric_only in DataFrame.corr is deprecated. In a future version, it will default to False. Select only valid columns or specify the value of numeric_only to silence this warning.\n",
      "  stream_df.corr()\n"
     ]
    },
    {
     "data": {
      "text/html": [
       "<div>\n",
       "<style scoped>\n",
       "    .dataframe tbody tr th:only-of-type {\n",
       "        vertical-align: middle;\n",
       "    }\n",
       "\n",
       "    .dataframe tbody tr th {\n",
       "        vertical-align: top;\n",
       "    }\n",
       "\n",
       "    .dataframe thead th {\n",
       "        text-align: right;\n",
       "    }\n",
       "</style>\n",
       "<table border=\"1\" class=\"dataframe\">\n",
       "  <thead>\n",
       "    <tr style=\"text-align: right;\">\n",
       "      <th></th>\n",
       "      <th>Source Port</th>\n",
       "      <th>Destination Port</th>\n",
       "      <th>Protocol</th>\n",
       "      <th>Number of Packets</th>\n",
       "      <th>Total Length</th>\n",
       "      <th>Duration</th>\n",
       "    </tr>\n",
       "  </thead>\n",
       "  <tbody>\n",
       "    <tr>\n",
       "      <th>Source Port</th>\n",
       "      <td>1.000000</td>\n",
       "      <td>-0.135555</td>\n",
       "      <td>-0.311714</td>\n",
       "      <td>-0.013628</td>\n",
       "      <td>-0.012811</td>\n",
       "      <td>-0.016093</td>\n",
       "    </tr>\n",
       "    <tr>\n",
       "      <th>Destination Port</th>\n",
       "      <td>-0.135555</td>\n",
       "      <td>1.000000</td>\n",
       "      <td>-0.214269</td>\n",
       "      <td>0.057033</td>\n",
       "      <td>0.057138</td>\n",
       "      <td>0.063952</td>\n",
       "    </tr>\n",
       "    <tr>\n",
       "      <th>Protocol</th>\n",
       "      <td>-0.311714</td>\n",
       "      <td>-0.214269</td>\n",
       "      <td>1.000000</td>\n",
       "      <td>-0.013221</td>\n",
       "      <td>0.005097</td>\n",
       "      <td>0.005727</td>\n",
       "    </tr>\n",
       "    <tr>\n",
       "      <th>Number of Packets</th>\n",
       "      <td>-0.013628</td>\n",
       "      <td>0.057033</td>\n",
       "      <td>-0.013221</td>\n",
       "      <td>1.000000</td>\n",
       "      <td>0.959277</td>\n",
       "      <td>0.620179</td>\n",
       "    </tr>\n",
       "    <tr>\n",
       "      <th>Total Length</th>\n",
       "      <td>-0.012811</td>\n",
       "      <td>0.057138</td>\n",
       "      <td>0.005097</td>\n",
       "      <td>0.959277</td>\n",
       "      <td>1.000000</td>\n",
       "      <td>0.603591</td>\n",
       "    </tr>\n",
       "    <tr>\n",
       "      <th>Duration</th>\n",
       "      <td>-0.016093</td>\n",
       "      <td>0.063952</td>\n",
       "      <td>0.005727</td>\n",
       "      <td>0.620179</td>\n",
       "      <td>0.603591</td>\n",
       "      <td>1.000000</td>\n",
       "    </tr>\n",
       "  </tbody>\n",
       "</table>\n",
       "</div>"
      ],
      "text/plain": [
       "                   Source Port  Destination Port  Protocol  Number of Packets  \\\n",
       "Source Port           1.000000         -0.135555 -0.311714          -0.013628   \n",
       "Destination Port     -0.135555          1.000000 -0.214269           0.057033   \n",
       "Protocol             -0.311714         -0.214269  1.000000          -0.013221   \n",
       "Number of Packets    -0.013628          0.057033 -0.013221           1.000000   \n",
       "Total Length         -0.012811          0.057138  0.005097           0.959277   \n",
       "Duration             -0.016093          0.063952  0.005727           0.620179   \n",
       "\n",
       "                   Total Length  Duration  \n",
       "Source Port           -0.012811 -0.016093  \n",
       "Destination Port       0.057138  0.063952  \n",
       "Protocol               0.005097  0.005727  \n",
       "Number of Packets      0.959277  0.620179  \n",
       "Total Length           1.000000  0.603591  \n",
       "Duration               0.603591  1.000000  "
      ]
     },
     "execution_count": 10,
     "metadata": {},
     "output_type": "execute_result"
    }
   ],
   "source": [
    "# correlation matrix for numerical values in dataframe\n",
    "stream_df.corr()"
   ]
  },
  {
   "attachments": {},
   "cell_type": "markdown",
   "metadata": {},
   "source": [
    "## Hypothesis testing\n",
    "\n",
    "- Is the difference between two groups or variables statistically significant?\n",
    "- Use t-test to compare means of two groups\n",
    "  - assumes that data follows normal distribution\n",
    "- Types of variables\n",
    "  - dependent: the effect of a phenomenon. For example, how does number of HTTP requests mean that a network is compromised?\n",
    "  - independent: the cause. The number of HTTP requests affects whether a network is compromised."
   ]
  },
  {
   "cell_type": "code",
   "execution_count": 11,
   "metadata": {},
   "outputs": [],
   "source": [
    "\n",
    "def hypothesis_testing(df, col1, col2):\n",
    "    group1 = df[col1]\n",
    "    group2 = df[col2]\n",
    "    pvalue = ttest_ind(group1, group2)[1]\n",
    "    if pvalue < 0.05:\n",
    "        return \"The difference between {} and {} is statistically significant (p < 0.05)\".format(col1, col2)\n",
    "    else:\n",
    "        return \"The difference between {} and {} is not statistically significant (p >= 0.05)\".format(col1, col2)\n"
   ]
  },
  {
   "cell_type": "code",
   "execution_count": 12,
   "metadata": {},
   "outputs": [
    {
     "data": {
      "text/plain": [
       "'The difference between Number of Packets and Total Length is statistically significant (p < 0.05)'"
      ]
     },
     "execution_count": 12,
     "metadata": {},
     "output_type": "execute_result"
    }
   ],
   "source": [
    "hypothesis_testing(stream_df, 'Number of Packets', 'Total Length')"
   ]
  },
  {
   "attachments": {},
   "cell_type": "markdown",
   "metadata": {},
   "source": [
    "## Regression Analysis\n",
    "\n",
    "- Models relationship between a dependent variable and one or more independent variables\n",
    "- Linear regression\n",
    "  - fit data in line\n",
    "  - calculate coefficients"
   ]
  },
  {
   "cell_type": "code",
   "execution_count": 13,
   "metadata": {},
   "outputs": [],
   "source": [
    "def regression_analysis(df, x_cols, y_col):\n",
    "    X = df[x_cols].values.reshape(-1, len(x_cols))\n",
    "    y = df[y_col].values.reshape(-1, 1)\n",
    "    model = LinearRegression().fit(X, y)\n",
    "    r_sq = model.score(X, y)\n",
    "    coef = model.coef_\n",
    "    return {\"R-squared\": r_sq, \"Coefficients\": coef}\n"
   ]
  },
  {
   "cell_type": "code",
   "execution_count": 14,
   "metadata": {},
   "outputs": [
    {
     "data": {
      "text/plain": [
       "{'R-squared': 0.9203348633587376,\n",
       " 'Coefficients': array([[40.18879986,  0.280892  ]])}"
      ]
     },
     "execution_count": 14,
     "metadata": {},
     "output_type": "execute_result"
    }
   ],
   "source": [
    "regression_analysis(stream_df, ['Number of Packets', 'Duration'], 'Total Length')"
   ]
  },
  {
   "attachments": {},
   "cell_type": "markdown",
   "metadata": {},
   "source": [
    "## Kolmogorov-Smirnov test\n",
    "\n",
    "- compare two sample distributions\n",
    "- useful for fitting to a distribution\n",
    "- test if two samples from a population:\n",
    "  - came from a distribution\n",
    "  - belong to the same distribution\n",
    "- Uses metric `D`\n",
    "  - max absolute difference between empirical distribution function of the samples and cumulative distribution of the reference distribution\n",
    "- Null hypothesis: \n",
    "  - samples came from the reference distribution\n",
    "  - samples came from the same distribution"
   ]
  },
  {
   "cell_type": "code",
   "execution_count": 15,
   "metadata": {},
   "outputs": [],
   "source": [
    "def kolmogorov_smirnov_test(df, column):\n",
    "    sample = df[column].values\n",
    "    _, pvalue = kstest(sample, norm.cdf, args=(sample.mean(), sample.std()))\n",
    "    if pvalue < 0.05:\n",
    "        return \"The distribution of {} is significantly different from a normal distribution (p < 0.05)\".format(column)\n",
    "    else:\n",
    "        return \"The distribution of {} is not significantly different from a normal distribution (p >= 0.05)\".format(column)\n"
   ]
  },
  {
   "cell_type": "code",
   "execution_count": 16,
   "metadata": {},
   "outputs": [
    {
     "data": {
      "text/plain": [
       "'The distribution of Total Length is significantly different from a normal distribution (p < 0.05)'"
      ]
     },
     "execution_count": 16,
     "metadata": {},
     "output_type": "execute_result"
    }
   ],
   "source": [
    "kolmogorov_smirnov_test(stream_df, 'Total Length')"
   ]
  },
  {
   "attachments": {},
   "cell_type": "markdown",
   "metadata": {},
   "source": [
    "## Skewness and Kyrtosis\n",
    "\n",
    "- information about the shape of the distribution\n",
    "- Skewness: measure the degree of asymmetry\n",
    "  - symmetric: equally balanced around its mean\n",
    "  - asymmetric: not equally balanced\n",
    "  - positive skewness: distribution longer on the right side\n",
    "  - negative skewness: longer on the left\n",
    "  - 0: completely symmetric\n",
    "- Kurtosis: peakedness of distribution\n",
    "  - high: sharp peak, long tails\n",
    "  - low: flat peak, short tails\n",
    "  - ex. normal distribution has kurtosis 3, mesokurtic\n",
    "    - `> 3` leptokurtic\n",
    "    - `< 3` platykurtic"
   ]
  },
  {
   "cell_type": "code",
   "execution_count": 17,
   "metadata": {},
   "outputs": [],
   "source": [
    "def skewness_kurtosis(df):\n",
    "    result = {}\n",
    "    for col in df.select_dtypes(include=[np.number]).columns:\n",
    "        result[col + \"_skewness\"] = skew(df[col])\n",
    "        result[col + \"_kurtosis\"] = kurtosis(df[col])\n",
    "    return result\n"
   ]
  },
  {
   "cell_type": "code",
   "execution_count": 18,
   "metadata": {},
   "outputs": [
    {
     "data": {
      "text/plain": [
       "{'Source Port_skewness': -0.5085045967000315,\n",
       " 'Source Port_kurtosis': -1.3242099807012182,\n",
       " 'Destination Port_skewness': 5.300748261730351,\n",
       " 'Destination Port_kurtosis': 35.39481020672699,\n",
       " 'Protocol_skewness': -0.6582611625651278,\n",
       " 'Protocol_kurtosis': -1.566692241858407,\n",
       " 'Number of Packets_skewness': 31.29479930443702,\n",
       " 'Number of Packets_kurtosis': 1089.3978856143829,\n",
       " 'Total Length_skewness': 35.36865267114758,\n",
       " 'Total Length_kurtosis': 1427.7647108932754,\n",
       " 'Duration_skewness': 13.816872833840316,\n",
       " 'Duration_kurtosis': 200.28279037205246}"
      ]
     },
     "execution_count": 18,
     "metadata": {},
     "output_type": "execute_result"
    }
   ],
   "source": [
    "skewness_kurtosis(stream_df)"
   ]
  },
  {
   "attachments": {},
   "cell_type": "markdown",
   "metadata": {},
   "source": [
    "## Outliers\n",
    "\n",
    "- observation that significantly differs from others in a dataset\n",
    "- Causes\n",
    "  - measurement errors\n",
    "  - extreme rare values\n",
    "- significant impact in statistical analysis\n",
    "- measurements\n",
    "  - z-score: `(x - mean) / std_dev`\n",
    "  - IQR method: this method identifies outliers as observations that are below `Q1 - 1.5IQR` or above `Q3 + 1.5IQR`, where Q1 and Q3 are the first and third quartiles, and IQR is the interquartile range (the difference between Q3 and Q1).\n",
    "  - visual inspection"
   ]
  },
  {
   "cell_type": "code",
   "execution_count": 19,
   "metadata": {},
   "outputs": [],
   "source": [
    "def detect_outliers_zscore(df, column, threshold=3):\n",
    "    zscores = np.abs(zscore(df[column]))\n",
    "    return df[zscores > threshold]"
   ]
  },
  {
   "cell_type": "code",
   "execution_count": 20,
   "metadata": {},
   "outputs": [
    {
     "name": "stdout",
     "output_type": "stream",
     "text": [
      "           Source IP   Destination IP  Source Port  Destination Port  \\\n",
      "1        192.168.2.1    192.168.2.110         23.0           21897.0   \n",
      "1611     192.168.2.1  239.255.255.250       1900.0            1900.0   \n",
      "1613   192.168.2.101    192.168.2.110         23.0           21897.0   \n",
      "1624   192.168.2.103    192.168.2.110         23.0           21897.0   \n",
      "2083   192.168.2.107    192.168.2.110         23.0           21897.0   \n",
      "2087   192.168.2.108   122.226.84.253      32761.0           10240.0   \n",
      "2088   192.168.2.108  122.248.234.207      32761.0           10240.0   \n",
      "2089   192.168.2.108    46.137.188.54      32761.0           10240.0   \n",
      "2090   192.168.2.108    50.19.254.134      32761.0           10240.0   \n",
      "3225   192.168.2.108    61.188.37.216      32761.0           10240.0   \n",
      "6219   192.168.2.110      192.168.2.1      21897.0              23.0   \n",
      "6884   192.168.2.110    192.168.2.101      21897.0              23.0   \n",
      "6887   192.168.2.110    192.168.2.103      21897.0              23.0   \n",
      "6895   192.168.2.110    192.168.2.107         23.0           57206.0   \n",
      "6896   192.168.2.110    192.168.2.107      21897.0              23.0   \n",
      "6899   192.168.2.110    192.168.2.118      21897.0              23.0   \n",
      "10075  192.168.2.113   104.199.156.58      50861.0           10240.0   \n",
      "10259  192.168.2.113  114.215.137.159      50861.0           10240.0   \n",
      "10302  192.168.2.113    120.24.59.150      50861.0           10240.0   \n",
      "10471  192.168.2.113   122.226.84.253      50861.0           10240.0   \n",
      "10577  192.168.2.113  122.248.234.207      50861.0           10240.0   \n",
      "10944  192.168.2.113    46.137.188.54      50861.0           10240.0   \n",
      "11050  192.168.2.113    50.19.254.134      50861.0           10240.0   \n",
      "11162  192.168.2.113    61.188.37.216      50861.0           10240.0   \n",
      "13200  192.168.2.115  239.255.255.250       1215.0            1900.0   \n",
      "13249  192.168.2.118    192.168.2.110         23.0           21897.0   \n",
      "14137  192.168.2.196    192.168.2.101      53781.0           51009.0   \n",
      "\n",
      "       Protocol  Number of Packets  Total Length     Duration  \n",
      "1           6.0               1432         37232  2375.572448  \n",
      "1611       17.0                 99         16434  1797.055992  \n",
      "1613        6.0               1431         37206  2376.723766  \n",
      "1624        6.0               1431         37206  2376.723102  \n",
      "2083        6.0               1432         37232  2376.719531  \n",
      "2087       17.0               2805        134640  2571.501515  \n",
      "2088       17.0               2830        135840  2571.501515  \n",
      "2089       17.0               2830        135840  2571.501514  \n",
      "2090       17.0               2830        135840  2571.501351  \n",
      "3225       17.0               2799        134352  2571.497782  \n",
      "6219        6.0               1432         37232  2375.572289  \n",
      "6884        6.0               1431         37206  2376.723879  \n",
      "6887        6.0               2862         74412  2376.732041  \n",
      "6895        6.0                165         10541   246.922758  \n",
      "6896        6.0               1432         37232  2376.719463  \n",
      "6899        6.0               1146         29796  2376.550166  \n",
      "10075      17.0               1049         50352  2543.196409  \n",
      "10259      17.0               1049         50352  2543.195274  \n",
      "10302      17.0               1049         50352  2543.195395  \n",
      "10471      17.0               1049         50352  2543.196243  \n",
      "10577      17.0               1049         50352  2543.195655  \n",
      "10944      17.0               1049         50352  2543.195094  \n",
      "11050      17.0               1049         50352  2543.199794  \n",
      "11162      17.0               1049         50352  2543.194693  \n",
      "13200      17.0                258         42828  2550.251090  \n",
      "13249       6.0               1146         22920  2376.550201  \n",
      "14137      17.0                240         39840  2408.542301  \n"
     ]
    }
   ],
   "source": [
    "outliers = detect_outliers_zscore(stream_df, \"Total Length\", threshold=3)\n",
    "print(outliers)"
   ]
  },
  {
   "attachments": {},
   "cell_type": "markdown",
   "metadata": {},
   "source": [
    "# Feature Engineering"
   ]
  },
  {
   "cell_type": "code",
   "execution_count": 21,
   "metadata": {},
   "outputs": [],
   "source": [
    "# convert ip address to numeric values\n",
    "def ip_to_numeric(ip):\n",
    "    ip_obj = ipaddress.ip_interface(ip)\n",
    "    return int(ip_obj.network.network_address)"
   ]
  },
  {
   "cell_type": "code",
   "execution_count": 22,
   "metadata": {},
   "outputs": [],
   "source": [
    "stream_df['Source IP Numeric'] = stream_df['Source IP'].apply(ip_to_numeric)\n",
    "stream_df['Destination IP Numeric'] = stream_df['Destination IP'].apply(ip_to_numeric)"
   ]
  },
  {
   "cell_type": "code",
   "execution_count": 23,
   "metadata": {},
   "outputs": [],
   "source": [
    "stream_df_numeric = stream_df.drop(columns=[\"Source IP\", \"Destination IP\"])"
   ]
  },
  {
   "cell_type": "code",
   "execution_count": 24,
   "metadata": {},
   "outputs": [],
   "source": [
    "stream_df[\"Duration\"] = stream_df_numeric[\"Duration\"].astype(float)"
   ]
  },
  {
   "cell_type": "code",
   "execution_count": 25,
   "metadata": {},
   "outputs": [
    {
     "data": {
      "text/plain": [
       "Source Port               float64\n",
       "Destination Port          float64\n",
       "Protocol                  float64\n",
       "Number of Packets           int64\n",
       "Total Length                int64\n",
       "Duration                  float64\n",
       "Source IP Numeric           int64\n",
       "Destination IP Numeric      int64\n",
       "dtype: object"
      ]
     },
     "execution_count": 25,
     "metadata": {},
     "output_type": "execute_result"
    }
   ],
   "source": [
    "stream_df_numeric.dtypes"
   ]
  },
  {
   "attachments": {},
   "cell_type": "markdown",
   "metadata": {},
   "source": [
    "## Summaries & Visualizations"
   ]
  },
  {
   "cell_type": "code",
   "execution_count": 26,
   "metadata": {},
   "outputs": [
    {
     "data": {
      "text/html": [
       "<pre style=\"white-space:pre;overflow-x:auto;line-height:normal;font-family:Menlo,'DejaVu Sans Mono',consolas,'Courier New',monospace\">╭──────────────────────────────────────────────── skimpy summary ─────────────────────────────────────────────────╮\n",
       "│ <span style=\"font-style: italic\">         Data Summary         </span> <span style=\"font-style: italic\">      Data Types       </span>                                                          │\n",
       "│ ┏━━━━━━━━━━━━━━━━━━━┳━━━━━━━━┓ ┏━━━━━━━━━━━━━┳━━━━━━━┓                                                          │\n",
       "│ ┃<span style=\"color: #008080; text-decoration-color: #008080; font-weight: bold\"> dataframe         </span>┃<span style=\"color: #008080; text-decoration-color: #008080; font-weight: bold\"> Values </span>┃ ┃<span style=\"color: #008080; text-decoration-color: #008080; font-weight: bold\"> Column Type </span>┃<span style=\"color: #008080; text-decoration-color: #008080; font-weight: bold\"> Count </span>┃                                                          │\n",
       "│ ┡━━━━━━━━━━━━━━━━━━━╇━━━━━━━━┩ ┡━━━━━━━━━━━━━╇━━━━━━━┩                                                          │\n",
       "│ │ Number of rows    │ 14138  │ │ float64     │ 4     │                                                          │\n",
       "│ │ Number of columns │ 8      │ │ int64       │ 4     │                                                          │\n",
       "│ └───────────────────┴────────┘ └─────────────┴───────┘                                                          │\n",
       "│ <span style=\"font-style: italic\">                                                    number                                                    </span>  │\n",
       "│ ┏━━━━━━━━━━━━┳━━━━┳━━━━━━┳━━━━━━━━━━━━┳━━━━━━━━━━━━┳━━━━━━━━━━━┳━━━━━━━━━━━┳━━━━━━━━━━━━┳━━━━━━━━━━━┳━━━━━━━━┓  │\n",
       "│ ┃<span style=\"font-weight: bold\"> column_nam </span>┃<span style=\"font-weight: bold\">    </span>┃<span style=\"font-weight: bold\">      </span>┃<span style=\"font-weight: bold\">            </span>┃<span style=\"font-weight: bold\">            </span>┃<span style=\"font-weight: bold\">           </span>┃<span style=\"font-weight: bold\">           </span>┃<span style=\"font-weight: bold\">            </span>┃<span style=\"font-weight: bold\">           </span>┃<span style=\"font-weight: bold\">        </span>┃  │\n",
       "│ ┃<span style=\"font-weight: bold\"> e          </span>┃<span style=\"font-weight: bold\"> NA </span>┃<span style=\"font-weight: bold\"> NA % </span>┃<span style=\"font-weight: bold\"> mean       </span>┃<span style=\"font-weight: bold\"> sd         </span>┃<span style=\"font-weight: bold\"> p0        </span>┃<span style=\"font-weight: bold\"> p25       </span>┃<span style=\"font-weight: bold\"> p75        </span>┃<span style=\"font-weight: bold\"> p100      </span>┃<span style=\"font-weight: bold\"> hist   </span>┃  │\n",
       "│ ┡━━━━━━━━━━━━╇━━━━╇━━━━━━╇━━━━━━━━━━━━╇━━━━━━━━━━━━╇━━━━━━━━━━━╇━━━━━━━━━━━╇━━━━━━━━━━━━╇━━━━━━━━━━━╇━━━━━━━━┩  │\n",
       "│ │ <span style=\"color: #af87ff; text-decoration-color: #af87ff\">Source    </span> │ <span style=\"color: #008080; text-decoration-color: #008080\"> 0</span> │ <span style=\"color: #008080; text-decoration-color: #008080\">   0</span> │ <span style=\"color: #008080; text-decoration-color: #008080\">     33000</span> │ <span style=\"color: #008080; text-decoration-color: #008080\">     22000</span> │ <span style=\"color: #008080; text-decoration-color: #008080\">        0</span> │ <span style=\"color: #008080; text-decoration-color: #008080\">     3200</span> │ <span style=\"color: #008080; text-decoration-color: #008080\">     52000</span> │ <span style=\"color: #008080; text-decoration-color: #008080\">    65000</span> │ <span style=\"color: #008000; text-decoration-color: #008000\">█▁▁▇▇▅</span> │  │\n",
       "│ │ <span style=\"color: #af87ff; text-decoration-color: #af87ff\">Port      </span> │    │      │            │            │           │           │            │           │        │  │\n",
       "│ │ <span style=\"color: #af87ff; text-decoration-color: #af87ff\">Destinatio</span> │ <span style=\"color: #008080; text-decoration-color: #008080\"> 0</span> │ <span style=\"color: #008080; text-decoration-color: #008080\">   0</span> │ <span style=\"color: #008080; text-decoration-color: #008080\">      2200</span> │ <span style=\"color: #008080; text-decoration-color: #008080\">      6100</span> │ <span style=\"color: #008080; text-decoration-color: #008080\">       23</span> │ <span style=\"color: #008080; text-decoration-color: #008080\">       53</span> │ <span style=\"color: #008080; text-decoration-color: #008080\">       440</span> │ <span style=\"color: #008080; text-decoration-color: #008080\">    64000</span> │ <span style=\"color: #008000; text-decoration-color: #008000\">  █   </span> │  │\n",
       "│ │ <span style=\"color: #af87ff; text-decoration-color: #af87ff\">n Port    </span> │    │      │            │            │           │           │            │           │        │  │\n",
       "│ │ <span style=\"color: #af87ff; text-decoration-color: #af87ff\">Protocol  </span> │ <span style=\"color: #008080; text-decoration-color: #008080\"> 0</span> │ <span style=\"color: #008080; text-decoration-color: #008080\">   0</span> │ <span style=\"color: #008080; text-decoration-color: #008080\">        13</span> │ <span style=\"color: #008080; text-decoration-color: #008080\">       5.2</span> │ <span style=\"color: #008080; text-decoration-color: #008080\">        6</span> │ <span style=\"color: #008080; text-decoration-color: #008080\">        6</span> │ <span style=\"color: #008080; text-decoration-color: #008080\">        17</span> │ <span style=\"color: #008080; text-decoration-color: #008080\">       17</span> │ <span style=\"color: #008000; text-decoration-color: #008000\">▄    █</span> │  │\n",
       "│ │ <span style=\"color: #af87ff; text-decoration-color: #af87ff\">Number of </span> │ <span style=\"color: #008080; text-decoration-color: #008080\"> 0</span> │ <span style=\"color: #008080; text-decoration-color: #008080\">   0</span> │ <span style=\"color: #008080; text-decoration-color: #008080\">       4.7</span> │ <span style=\"color: #008080; text-decoration-color: #008080\">        72</span> │ <span style=\"color: #008080; text-decoration-color: #008080\">        1</span> │ <span style=\"color: #008080; text-decoration-color: #008080\">        1</span> │ <span style=\"color: #008080; text-decoration-color: #008080\">         3</span> │ <span style=\"color: #008080; text-decoration-color: #008080\">     2900</span> │ <span style=\"color: #008000; text-decoration-color: #008000\">  █   </span> │  │\n",
       "│ │ <span style=\"color: #af87ff; text-decoration-color: #af87ff\">Packets   </span> │    │      │            │            │           │           │            │           │        │  │\n",
       "│ │ <span style=\"color: #af87ff; text-decoration-color: #af87ff\">Total     </span> │ <span style=\"color: #008080; text-decoration-color: #008080\"> 0</span> │ <span style=\"color: #008080; text-decoration-color: #008080\">   0</span> │ <span style=\"color: #008080; text-decoration-color: #008080\">       200</span> │ <span style=\"color: #008080; text-decoration-color: #008080\">      3100</span> │ <span style=\"color: #008080; text-decoration-color: #008080\">       26</span> │ <span style=\"color: #008080; text-decoration-color: #008080\">       40</span> │ <span style=\"color: #008080; text-decoration-color: #008080\">       100</span> │ <span style=\"color: #008080; text-decoration-color: #008080\">   140000</span> │ <span style=\"color: #008000; text-decoration-color: #008000\">  █   </span> │  │\n",
       "│ │ <span style=\"color: #af87ff; text-decoration-color: #af87ff\">Length    </span> │    │      │            │            │           │           │            │           │        │  │\n",
       "│ │ <span style=\"color: #af87ff; text-decoration-color: #af87ff\">Duration  </span> │ <span style=\"color: #008080; text-decoration-color: #008080\"> 0</span> │ <span style=\"color: #008080; text-decoration-color: #008080\">   0</span> │ <span style=\"color: #008080; text-decoration-color: #008080\">        14</span> │ <span style=\"color: #008080; text-decoration-color: #008080\">       150</span> │ <span style=\"color: #008080; text-decoration-color: #008080\">        0</span> │ <span style=\"color: #008080; text-decoration-color: #008080\">        0</span> │ <span style=\"color: #008080; text-decoration-color: #008080\">       2.9</span> │ <span style=\"color: #008080; text-decoration-color: #008080\">     2600</span> │ <span style=\"color: #008000; text-decoration-color: #008000\">  █   </span> │  │\n",
       "│ │ <span style=\"color: #af87ff; text-decoration-color: #af87ff\">Source IP </span> │ <span style=\"color: #008080; text-decoration-color: #008080\"> 0</span> │ <span style=\"color: #008080; text-decoration-color: #008080\">   0</span> │ <span style=\"color: #008080; text-decoration-color: #008080\">3200000000</span> │ <span style=\"color: #008080; text-decoration-color: #008080\">  27000000</span> │ <span style=\"color: #008080; text-decoration-color: #008080\">        0</span> │ <span style=\"color: #008080; text-decoration-color: #008080\">320000000</span> │ <span style=\"color: #008080; text-decoration-color: #008080\">3200000000</span> │ <span style=\"color: #008080; text-decoration-color: #008080\">320000000</span> │ <span style=\"color: #008000; text-decoration-color: #008000\">     █</span> │  │\n",
       "│ │ <span style=\"color: #af87ff; text-decoration-color: #af87ff\">Numeric   </span> │    │      │            │            │           │ <span style=\"color: #008080; text-decoration-color: #008080\">        0</span> │            │ <span style=\"color: #008080; text-decoration-color: #008080\">        0</span> │        │  │\n",
       "│ │ <span style=\"color: #af87ff; text-decoration-color: #af87ff\">Destinatio</span> │ <span style=\"color: #008080; text-decoration-color: #008080\"> 0</span> │ <span style=\"color: #008080; text-decoration-color: #008080\">   0</span> │ <span style=\"color: #008080; text-decoration-color: #008080\">2200000000</span> │ <span style=\"color: #008080; text-decoration-color: #008080\">1100000000</span> │ <span style=\"color: #008080; text-decoration-color: #008080\">130000000</span> │ <span style=\"color: #008080; text-decoration-color: #008080\">100000000</span> │ <span style=\"color: #008080; text-decoration-color: #008080\">3200000000</span> │ <span style=\"color: #008080; text-decoration-color: #008080\">430000000</span> │ <span style=\"color: #008000; text-decoration-color: #008000\">▂▃▃ █ </span> │  │\n",
       "│ │ <span style=\"color: #af87ff; text-decoration-color: #af87ff\">n IP Numer</span> │    │      │            │            │           │ <span style=\"color: #008080; text-decoration-color: #008080\">        0</span> │            │ <span style=\"color: #008080; text-decoration-color: #008080\">        0</span> │        │  │\n",
       "│ └────────────┴────┴──────┴────────────┴────────────┴───────────┴───────────┴────────────┴───────────┴────────┘  │\n",
       "╰────────────────────────────────────────────────────── End ──────────────────────────────────────────────────────╯\n",
       "</pre>\n"
      ],
      "text/plain": [
       "╭──────────────────────────────────────────────── skimpy summary ─────────────────────────────────────────────────╮\n",
       "│ \u001b[3m         Data Summary         \u001b[0m \u001b[3m      Data Types       \u001b[0m                                                          │\n",
       "│ ┏━━━━━━━━━━━━━━━━━━━┳━━━━━━━━┓ ┏━━━━━━━━━━━━━┳━━━━━━━┓                                                          │\n",
       "│ ┃\u001b[1;36m \u001b[0m\u001b[1;36mdataframe        \u001b[0m\u001b[1;36m \u001b[0m┃\u001b[1;36m \u001b[0m\u001b[1;36mValues\u001b[0m\u001b[1;36m \u001b[0m┃ ┃\u001b[1;36m \u001b[0m\u001b[1;36mColumn Type\u001b[0m\u001b[1;36m \u001b[0m┃\u001b[1;36m \u001b[0m\u001b[1;36mCount\u001b[0m\u001b[1;36m \u001b[0m┃                                                          │\n",
       "│ ┡━━━━━━━━━━━━━━━━━━━╇━━━━━━━━┩ ┡━━━━━━━━━━━━━╇━━━━━━━┩                                                          │\n",
       "│ │ Number of rows    │ 14138  │ │ float64     │ 4     │                                                          │\n",
       "│ │ Number of columns │ 8      │ │ int64       │ 4     │                                                          │\n",
       "│ └───────────────────┴────────┘ └─────────────┴───────┘                                                          │\n",
       "│ \u001b[3m                                                    number                                                    \u001b[0m  │\n",
       "│ ┏━━━━━━━━━━━━┳━━━━┳━━━━━━┳━━━━━━━━━━━━┳━━━━━━━━━━━━┳━━━━━━━━━━━┳━━━━━━━━━━━┳━━━━━━━━━━━━┳━━━━━━━━━━━┳━━━━━━━━┓  │\n",
       "│ ┃\u001b[1m \u001b[0m\u001b[1mcolumn_nam\u001b[0m\u001b[1m \u001b[0m┃\u001b[1m    \u001b[0m┃\u001b[1m      \u001b[0m┃\u001b[1m            \u001b[0m┃\u001b[1m            \u001b[0m┃\u001b[1m           \u001b[0m┃\u001b[1m           \u001b[0m┃\u001b[1m            \u001b[0m┃\u001b[1m           \u001b[0m┃\u001b[1m        \u001b[0m┃  │\n",
       "│ ┃\u001b[1m \u001b[0m\u001b[1me         \u001b[0m\u001b[1m \u001b[0m┃\u001b[1m \u001b[0m\u001b[1mNA\u001b[0m\u001b[1m \u001b[0m┃\u001b[1m \u001b[0m\u001b[1mNA %\u001b[0m\u001b[1m \u001b[0m┃\u001b[1m \u001b[0m\u001b[1mmean      \u001b[0m\u001b[1m \u001b[0m┃\u001b[1m \u001b[0m\u001b[1msd        \u001b[0m\u001b[1m \u001b[0m┃\u001b[1m \u001b[0m\u001b[1mp0       \u001b[0m\u001b[1m \u001b[0m┃\u001b[1m \u001b[0m\u001b[1mp25      \u001b[0m\u001b[1m \u001b[0m┃\u001b[1m \u001b[0m\u001b[1mp75       \u001b[0m\u001b[1m \u001b[0m┃\u001b[1m \u001b[0m\u001b[1mp100     \u001b[0m\u001b[1m \u001b[0m┃\u001b[1m \u001b[0m\u001b[1mhist  \u001b[0m\u001b[1m \u001b[0m┃  │\n",
       "│ ┡━━━━━━━━━━━━╇━━━━╇━━━━━━╇━━━━━━━━━━━━╇━━━━━━━━━━━━╇━━━━━━━━━━━╇━━━━━━━━━━━╇━━━━━━━━━━━━╇━━━━━━━━━━━╇━━━━━━━━┩  │\n",
       "│ │ \u001b[38;5;141mSource    \u001b[0m │ \u001b[36m 0\u001b[0m │ \u001b[36m   0\u001b[0m │ \u001b[36m     33000\u001b[0m │ \u001b[36m     22000\u001b[0m │ \u001b[36m        0\u001b[0m │ \u001b[36m     3200\u001b[0m │ \u001b[36m     52000\u001b[0m │ \u001b[36m    65000\u001b[0m │ \u001b[32m█▁▁▇▇▅\u001b[0m │  │\n",
       "│ │ \u001b[38;5;141mPort      \u001b[0m │    │      │            │            │           │           │            │           │        │  │\n",
       "│ │ \u001b[38;5;141mDestinatio\u001b[0m │ \u001b[36m 0\u001b[0m │ \u001b[36m   0\u001b[0m │ \u001b[36m      2200\u001b[0m │ \u001b[36m      6100\u001b[0m │ \u001b[36m       23\u001b[0m │ \u001b[36m       53\u001b[0m │ \u001b[36m       440\u001b[0m │ \u001b[36m    64000\u001b[0m │ \u001b[32m  █   \u001b[0m │  │\n",
       "│ │ \u001b[38;5;141mn Port    \u001b[0m │    │      │            │            │           │           │            │           │        │  │\n",
       "│ │ \u001b[38;5;141mProtocol  \u001b[0m │ \u001b[36m 0\u001b[0m │ \u001b[36m   0\u001b[0m │ \u001b[36m        13\u001b[0m │ \u001b[36m       5.2\u001b[0m │ \u001b[36m        6\u001b[0m │ \u001b[36m        6\u001b[0m │ \u001b[36m        17\u001b[0m │ \u001b[36m       17\u001b[0m │ \u001b[32m▄    █\u001b[0m │  │\n",
       "│ │ \u001b[38;5;141mNumber of \u001b[0m │ \u001b[36m 0\u001b[0m │ \u001b[36m   0\u001b[0m │ \u001b[36m       4.7\u001b[0m │ \u001b[36m        72\u001b[0m │ \u001b[36m        1\u001b[0m │ \u001b[36m        1\u001b[0m │ \u001b[36m         3\u001b[0m │ \u001b[36m     2900\u001b[0m │ \u001b[32m  █   \u001b[0m │  │\n",
       "│ │ \u001b[38;5;141mPackets   \u001b[0m │    │      │            │            │           │           │            │           │        │  │\n",
       "│ │ \u001b[38;5;141mTotal     \u001b[0m │ \u001b[36m 0\u001b[0m │ \u001b[36m   0\u001b[0m │ \u001b[36m       200\u001b[0m │ \u001b[36m      3100\u001b[0m │ \u001b[36m       26\u001b[0m │ \u001b[36m       40\u001b[0m │ \u001b[36m       100\u001b[0m │ \u001b[36m   140000\u001b[0m │ \u001b[32m  █   \u001b[0m │  │\n",
       "│ │ \u001b[38;5;141mLength    \u001b[0m │    │      │            │            │           │           │            │           │        │  │\n",
       "│ │ \u001b[38;5;141mDuration  \u001b[0m │ \u001b[36m 0\u001b[0m │ \u001b[36m   0\u001b[0m │ \u001b[36m        14\u001b[0m │ \u001b[36m       150\u001b[0m │ \u001b[36m        0\u001b[0m │ \u001b[36m        0\u001b[0m │ \u001b[36m       2.9\u001b[0m │ \u001b[36m     2600\u001b[0m │ \u001b[32m  █   \u001b[0m │  │\n",
       "│ │ \u001b[38;5;141mSource IP \u001b[0m │ \u001b[36m 0\u001b[0m │ \u001b[36m   0\u001b[0m │ \u001b[36m3200000000\u001b[0m │ \u001b[36m  27000000\u001b[0m │ \u001b[36m        0\u001b[0m │ \u001b[36m320000000\u001b[0m │ \u001b[36m3200000000\u001b[0m │ \u001b[36m320000000\u001b[0m │ \u001b[32m     █\u001b[0m │  │\n",
       "│ │ \u001b[38;5;141mNumeric   \u001b[0m │    │      │            │            │           │ \u001b[36m        0\u001b[0m │            │ \u001b[36m        0\u001b[0m │        │  │\n",
       "│ │ \u001b[38;5;141mDestinatio\u001b[0m │ \u001b[36m 0\u001b[0m │ \u001b[36m   0\u001b[0m │ \u001b[36m2200000000\u001b[0m │ \u001b[36m1100000000\u001b[0m │ \u001b[36m130000000\u001b[0m │ \u001b[36m100000000\u001b[0m │ \u001b[36m3200000000\u001b[0m │ \u001b[36m430000000\u001b[0m │ \u001b[32m▂▃▃ █ \u001b[0m │  │\n",
       "│ │ \u001b[38;5;141mn IP Numer\u001b[0m │    │      │            │            │           │ \u001b[36m        0\u001b[0m │            │ \u001b[36m        0\u001b[0m │        │  │\n",
       "│ └────────────┴────┴──────┴────────────┴────────────┴───────────┴───────────┴────────────┴───────────┴────────┘  │\n",
       "╰────────────────────────────────────────────────────── End ──────────────────────────────────────────────────────╯\n"
      ]
     },
     "metadata": {},
     "output_type": "display_data"
    }
   ],
   "source": [
    "skim(stream_df_numeric)"
   ]
  },
  {
   "cell_type": "code",
   "execution_count": 27,
   "metadata": {},
   "outputs": [
    {
     "data": {
      "text/html": [
       "<style type=\"text/css\">\n",
       "#T_39700 thead>tr>th {\n",
       "  text-align: left;\n",
       "}\n",
       "#T_39700_row0_col0, #T_39700_row1_col0, #T_39700_row2_col0, #T_39700_row3_col0, #T_39700_row4_col0, #T_39700_row5_col0, #T_39700_row6_col0, #T_39700_row7_col0 {\n",
       "  text-align: left;\n",
       "  font-size: 12px;\n",
       "  vertical-align: middle;\n",
       "  width: 5%;\n",
       "  max-width: 50px;\n",
       "  min-width: 20px;\n",
       "}\n",
       "#T_39700_row0_col1, #T_39700_row1_col1, #T_39700_row2_col1, #T_39700_row3_col1, #T_39700_row4_col1, #T_39700_row5_col1, #T_39700_row6_col1, #T_39700_row7_col1 {\n",
       "  text-align: left;\n",
       "  font-size: 12px;\n",
       "  vertical-align: middle;\n",
       "  width: 15%;\n",
       "  max-width: 200px;\n",
       "  min-width: 100px;\n",
       "  word-break: break-word;\n",
       "}\n",
       "#T_39700_row0_col2, #T_39700_row1_col2, #T_39700_row2_col2, #T_39700_row3_col2, #T_39700_row4_col2, #T_39700_row5_col2, #T_39700_row6_col2, #T_39700_row7_col2 {\n",
       "  text-align: left;\n",
       "  font-size: 12px;\n",
       "  vertical-align: middle;\n",
       "  width: 30%;\n",
       "  min-width: 100px;\n",
       "}\n",
       "#T_39700_row0_col3, #T_39700_row1_col3, #T_39700_row2_col3, #T_39700_row3_col3, #T_39700_row4_col3, #T_39700_row5_col3, #T_39700_row6_col3, #T_39700_row7_col3 {\n",
       "  text-align: left;\n",
       "  font-size: 12px;\n",
       "  vertical-align: middle;\n",
       "  width: 25%;\n",
       "  min-width: 100px;\n",
       "}\n",
       "#T_39700_row0_col4, #T_39700_row1_col4, #T_39700_row2_col4, #T_39700_row3_col4, #T_39700_row4_col4, #T_39700_row5_col4, #T_39700_row6_col4, #T_39700_row7_col4 {\n",
       "  text-align: left;\n",
       "  font-size: 12px;\n",
       "  vertical-align: middle;\n",
       "  width: 20%;\n",
       "  min-width: 150px;\n",
       "}\n",
       "#T_39700_row0_col5, #T_39700_row1_col5, #T_39700_row2_col5, #T_39700_row3_col5, #T_39700_row4_col5, #T_39700_row5_col5, #T_39700_row6_col5, #T_39700_row7_col5 {\n",
       "  text-align: left;\n",
       "  font-size: 12px;\n",
       "  vertical-align: middle;\n",
       "  width: 10%;\n",
       "}\n",
       "</style>\n",
       "<table id=\"T_39700\">\n",
       "  <caption><strong>Data Frame Summary</strong><br>stream_df_numeric<br>Dimensions: 14,138 x 8<br>Duplicates: 0</caption>\n",
       "  <thead>\n",
       "    <tr>\n",
       "      <th id=\"T_39700_level0_col0\" class=\"col_heading level0 col0\" >No</th>\n",
       "      <th id=\"T_39700_level0_col1\" class=\"col_heading level0 col1\" >Variable</th>\n",
       "      <th id=\"T_39700_level0_col2\" class=\"col_heading level0 col2\" >Stats / Values</th>\n",
       "      <th id=\"T_39700_level0_col3\" class=\"col_heading level0 col3\" >Freqs / (% of Valid)</th>\n",
       "      <th id=\"T_39700_level0_col4\" class=\"col_heading level0 col4\" >Graph</th>\n",
       "      <th id=\"T_39700_level0_col5\" class=\"col_heading level0 col5\" >Missing</th>\n",
       "    </tr>\n",
       "  </thead>\n",
       "  <tbody>\n",
       "    <tr>\n",
       "      <td id=\"T_39700_row0_col0\" class=\"data row0 col0\" >1</td>\n",
       "      <td id=\"T_39700_row0_col1\" class=\"data row0 col1\" ><strong>Source Port</strong><br>[float64]</td>\n",
       "      <td id=\"T_39700_row0_col2\" class=\"data row0 col2\" >Mean (sd) : 32980.1 (21650.4)<br>min < med < max:<br>0.0 < 40048.5 < 64633.0<br>IQR (CV) : 48348.8 (1.5)</td>\n",
       "      <td id=\"T_39700_row0_col3\" class=\"data row0 col3\" >10,709 distinct values</td>\n",
       "      <td id=\"T_39700_row0_col4\" class=\"data row0 col4\" ><img src = \"data:image/png;base64, iVBORw0KGgoAAAANSUhEUgAAAKoAAABGCAYAAABc8A97AAAAOXRFWHRTb2Z0d2FyZQBNYXRwbG90bGliIHZlcnNpb24zLjcuMSwgaHR0cHM6Ly9tYXRwbG90bGliLm9yZy/bCgiHAAAACXBIWXMAAA9hAAAPYQGoP6dpAAACnUlEQVR4nO3cv27aUBiG8e9AAPNHRggVNpaOlTp45CJ6sb2EDFwBQ5dObEgIgXCDMIYOVbpUCvgcO/hNn9+cY0fRk5NYHH/uer0aUHeNR38DwD2ebn2Bc65rZm3P65+u1+uL51rgrzdDdc51x+PxtziORz4X3+/3W+fcd2JFqFs7ajuO49F8Pn8ZDofHIhfe7XbRYrEYbTabtpkRKoLc/NNvZjYcDo+TyeSXx/W7HmuAf/AwBQmECgmECgmECgmECgmECgmECgmECgmECgmECgmECgmECgmECgmECgmECgmECgmECgmECgmECgmECgmECgmECgmECgmECgl3DaDA/yFwzphZhbPGCBVmFj5nzKzaWWOEWgHRCYjec8bMqp81RqglU5+AGDBnzKzCWWOEWr6HTkAM2M3jy+XS8rnneyDUijxiAmLIbp5lWZTn+Zfj8fhsZr47amUItWbyPG+ZWeyc81keDwaDyXw+3xfdzVer1Wi5XPbO53PT58ZVI9QaSdO0lWXZ19ls1mw2m4UfaF53xU6n81x0N99ut7WeZUuoNXI6nZ6iKOolSXKcTqfbouvrviuGINQa6vf7Xv/f1n1XDMFHqJBAqJBAqJBAqJBAqJBAqJBAqJBAqJBAqJBAqJBAqJBAqJDAoRSUJvAs7ZvvihEqShF6lvbWu2KEilKEnKW9510xQkWpfM/S2o13xXiYggRChQRChQRChQRChQRChQRChQRChQRChQRChYRKP0INPE1j9ucX6fKAtSHraz1nVFVloYaepsnzvJWm6efBYPCz0Whk77U2dH3d54yqqizUkibTfUqS5EfR9SFrS7r3h5yo90h3hbrb7aKiFz4cDoXXfCRpmkbr9bpXZM3rz8xnbej6R977nr5+A4RBTvroNwveAAAAAElFTkSuQmCC\"></img></td>\n",
       "      <td id=\"T_39700_row0_col5\" class=\"data row0 col5\" >0<br>(0.0%)</td>\n",
       "    </tr>\n",
       "    <tr>\n",
       "      <td id=\"T_39700_row1_col0\" class=\"data row1 col0\" >2</td>\n",
       "      <td id=\"T_39700_row1_col1\" class=\"data row1 col1\" ><strong>Destination Port</strong><br>[float64]</td>\n",
       "      <td id=\"T_39700_row1_col2\" class=\"data row1 col2\" >Mean (sd) : 2152.4 (6092.5)<br>min < med < max:<br>23.0 < 53.0 < 63749.0<br>IQR (CV) : 390.0 (0.4)</td>\n",
       "      <td id=\"T_39700_row1_col3\" class=\"data row1 col3\" >1,643 distinct values</td>\n",
       "      <td id=\"T_39700_row1_col4\" class=\"data row1 col4\" ><img src = \"data:image/png;base64, iVBORw0KGgoAAAANSUhEUgAAAKoAAABGCAYAAABc8A97AAAAOXRFWHRTb2Z0d2FyZQBNYXRwbG90bGliIHZlcnNpb24zLjcuMSwgaHR0cHM6Ly9tYXRwbG90bGliLm9yZy/bCgiHAAAACXBIWXMAAA9hAAAPYQGoP6dpAAACF0lEQVR4nO3YQW7aUBRG4XsLIXZAtpAbM2MJDBiyiCw2i/CUfSBZ6Fk4JlDLnXVStcQmKPzt+cbcqzc44snPu64z4N59++oDAB8xvvQDd4/NbDJw/6nrumbgLPDLX0N19zjLspckSeZDlldVtXf3V2LFtS79o06SJJlvNpsmTdNjn8UhhKgoinlZlhMzI1Rc5eLVb2aWpukxz/O3AfvjATPAb/iYggRChQRChQRChQRChQRChQRChQRChQRChQRChQRChQRChQRChQRChQRChQRChQRChQRChQRChQRChQRChQRChQRChQRChQRChQRChQRChQRChQRChQRChQRChQRChQRChQRChQRChQRChQRChQRChQRChQRChQRChQRChQRChQRChQRChQRChQRChQRChQRChQRChQRChQRChQRChQRChQRChYTxLZe3bftgZom7D11x6rqu+cQjQdTNQq3r+uF8Pq+Wy+VoNBodh+yoqmrv7q/EipuFejqdxlEUPa3X6+Nisdj3nQ8hREVRzMuynJgZof7nbnr1m5lNp9NjnudvA8fjTz0MZPExBQmECgk3v/q/irvHZja5YgUvDnfknwzV3eMsy16SJJkP3cGLw335UKghhKjv4sPhEJmZ1XUd7Xa7p77zIYSobduxDXuHTWaz2fNqtfoRx/F73+GmaR632+1zWZbf3b3qO49B3ruu++Mz5k/C7nnoEMc9CgAAAABJRU5ErkJggg==\"></img></td>\n",
       "      <td id=\"T_39700_row1_col5\" class=\"data row1 col5\" >0<br>(0.0%)</td>\n",
       "    </tr>\n",
       "    <tr>\n",
       "      <td id=\"T_39700_row2_col0\" class=\"data row2 col0\" >3</td>\n",
       "      <td id=\"T_39700_row2_col1\" class=\"data row2 col1\" ><strong>Protocol</strong><br>[float64]</td>\n",
       "      <td id=\"T_39700_row2_col2\" class=\"data row2 col2\" >1. 17.0<br>2. 6.0</td>\n",
       "      <td id=\"T_39700_row2_col3\" class=\"data row2 col3\" >9,279 (65.6%)<br>4,859 (34.4%)</td>\n",
       "      <td id=\"T_39700_row2_col4\" class=\"data row2 col4\" ><img src = \"data:image/png;base64, iVBORw0KGgoAAAANSUhEUgAAAJsAAAAuCAYAAAA/ZmtKAAAAOXRFWHRTb2Z0d2FyZQBNYXRwbG90bGliIHZlcnNpb24zLjcuMSwgaHR0cHM6Ly9tYXRwbG90bGliLm9yZy/bCgiHAAAACXBIWXMAAA9hAAAPYQGoP6dpAAABOklEQVR4nO3bMWrDQBRF0a8gTNzMIARajBaRxWYRsxshNEVs3EwKF8GkNW+cl3tW8I0vAhu9obUWgMIQEeeIOPU+BL/cWmuX3kc80zjP80dKaep9CB7VWvdhGD6dghtTStO6rpec87X3Mbg7juO9lDJt23aKCJ/YIiJyztdlWb56H4MH594HPNtb7wPwfxAbZIgNMsQGGWKDDLFBhtggQ2yQITbIEBtkiA0yxAYZYoMMsUGG2CAzRtxf1ut9CH64fh9jrXUvpUxh+LLeX1Zr3SPi1vuOZ2Lw8rrsBi8DUz6ouD7Z7J4KDiynfI4zOAd2Uz7XGZwD1ykfv6xfEH/qQobYIENskCE2yBAbZIgNMsQGGWKDDLFBhtggQ2yQITbIEBtkiA0yxAYZuymf02dxYznlc5zBOWDwAplvCltq30b8rewAAAAASUVORK5CYII=\"></img></td>\n",
       "      <td id=\"T_39700_row2_col5\" class=\"data row2 col5\" >0<br>(0.0%)</td>\n",
       "    </tr>\n",
       "    <tr>\n",
       "      <td id=\"T_39700_row3_col0\" class=\"data row3 col0\" >4</td>\n",
       "      <td id=\"T_39700_row3_col1\" class=\"data row3 col1\" ><strong>Number of Packets</strong><br>[int64]</td>\n",
       "      <td id=\"T_39700_row3_col2\" class=\"data row3 col2\" >Mean (sd) : 4.7 (72.3)<br>min < med < max:<br>1.0 < 1.0 < 2862.0<br>IQR (CV) : 2.0 (0.1)</td>\n",
       "      <td id=\"T_39700_row3_col3\" class=\"data row3 col3\" >39 distinct values</td>\n",
       "      <td id=\"T_39700_row3_col4\" class=\"data row3 col4\" ><img src = \"data:image/png;base64, iVBORw0KGgoAAAANSUhEUgAAAKoAAABGCAYAAABc8A97AAAAOXRFWHRTb2Z0d2FyZQBNYXRwbG90bGliIHZlcnNpb24zLjcuMSwgaHR0cHM6Ly9tYXRwbG90bGliLm9yZy/bCgiHAAAACXBIWXMAAA9hAAAPYQGoP6dpAAABaUlEQVR4nO3XT2oCMRiH4aSI6GYGETyMh+hhewhvIyUuqi1Iuuum1D/jov3R59km+cjiZYbU3nuBv+7pty8At5hd21BrXZZS5hPnf/TejxPPwpeLodZal+v1+nkYhtWU4YfD4bXW+iJWHnXtizofhmG13W6P4zie7hncWlvsdrvVfr+fl1KEykOu/vpLKWUcx9Nms3mbMH854Qx84zFFBKESQahEECoRhEoEoRJBqEQQKhGESgShEkGoRBAqEYRKBKESQahEECoRhEoEoRJBqEQQKhGESgShEkGoRBAqEYRKBKESQahEECoRhEoEoRJBqEQQKhGESgShEkGoRBAqEYRKBKESQahEECoRhEoEoRJBqEQQKhGESgShEkGoRBAqEYRKBKESQahEECoRhEoEoRJBqEQQKhGESgShEkGoRBAqEYRKBKESQahEmN2yqbW2uHdwa21xPp9npZSh1nr3xfh33nvvp58WPwF79y3yrjldnwAAAABJRU5ErkJggg==\"></img></td>\n",
       "      <td id=\"T_39700_row3_col5\" class=\"data row3 col5\" >0<br>(0.0%)</td>\n",
       "    </tr>\n",
       "    <tr>\n",
       "      <td id=\"T_39700_row4_col0\" class=\"data row4 col0\" >5</td>\n",
       "      <td id=\"T_39700_row4_col1\" class=\"data row4 col1\" ><strong>Total Length</strong><br>[int64]</td>\n",
       "      <td id=\"T_39700_row4_col2\" class=\"data row4 col2\" >Mean (sd) : 199.6 (3057.3)<br>min < med < max:<br>26.0 < 74.0 < 135840.0<br>IQR (CV) : 64.0 (0.1)</td>\n",
       "      <td id=\"T_39700_row4_col3\" class=\"data row4 col3\" >136 distinct values</td>\n",
       "      <td id=\"T_39700_row4_col4\" class=\"data row4 col4\" ><img src = \"data:image/png;base64, iVBORw0KGgoAAAANSUhEUgAAAKoAAABGCAYAAABc8A97AAAAOXRFWHRTb2Z0d2FyZQBNYXRwbG90bGliIHZlcnNpb24zLjcuMSwgaHR0cHM6Ly9tYXRwbG90bGliLm9yZy/bCgiHAAAACXBIWXMAAA9hAAAPYQGoP6dpAAABaUlEQVR4nO3XT2oCMRiH4aSI6GYGETyMh+hhewhvIyUuqi1Iuuum1D/jov3R59km+cjiZYbU3nuBv+7pty8At5hd21BrXZZS5hPnf/TejxPPwpeLodZal+v1+nkYhtWU4YfD4bXW+iJWHnXtizofhmG13W6P4zie7hncWlvsdrvVfr+fl1KEykOu/vpLKWUcx9Nms3mbMH854Qx84zFFBKESQahEECoRhEoEoRJBqEQQKhGESgShEkGoRBAqEYRKBKESQahEECoRhEoEoRJBqEQQKhGESgShEkGoRBAqEYRKBKESQahEECoRhEoEoRJBqEQQKhGESgShEkGoRBAqEYRKBKESQahEECoRhEoEoRJBqEQQKhGESgShEkGoRBAqEYRKBKESQahEECoRhEoEoRJBqEQQKhGESgShEkGoRBAqEYRKBKESQahEmN2yqbW2uHdwa21xPp9npZSh1nr3xfh33nvvp58WPwF79y3yrjldnwAAAABJRU5ErkJggg==\"></img></td>\n",
       "      <td id=\"T_39700_row4_col5\" class=\"data row4 col5\" >0<br>(0.0%)</td>\n",
       "    </tr>\n",
       "    <tr>\n",
       "      <td id=\"T_39700_row5_col0\" class=\"data row5 col0\" >6</td>\n",
       "      <td id=\"T_39700_row5_col1\" class=\"data row5 col1\" ><strong>Duration</strong><br>[float64]</td>\n",
       "      <td id=\"T_39700_row5_col2\" class=\"data row5 col2\" >Mean (sd) : 14.2 (153.3)<br>min < med < max:<br>0.0 < 0.0 < 2571.5<br>IQR (CV) : 2.9 (0.1)</td>\n",
       "      <td id=\"T_39700_row5_col3\" class=\"data row5 col3\" >5,153 distinct values</td>\n",
       "      <td id=\"T_39700_row5_col4\" class=\"data row5 col4\" ><img src = \"data:image/png;base64, iVBORw0KGgoAAAANSUhEUgAAAKoAAABGCAYAAABc8A97AAAAOXRFWHRTb2Z0d2FyZQBNYXRwbG90bGliIHZlcnNpb24zLjcuMSwgaHR0cHM6Ly9tYXRwbG90bGliLm9yZy/bCgiHAAAACXBIWXMAAA9hAAAPYQGoP6dpAAABaUlEQVR4nO3XT2oCMRiH4aSI6GYGETyMh+hhewhvIyUuqi1Iuuum1D/jov3R59km+cjiZYbU3nuBv+7pty8At5hd21BrXZZS5hPnf/TejxPPwpeLodZal+v1+nkYhtWU4YfD4bXW+iJWHnXtizofhmG13W6P4zie7hncWlvsdrvVfr+fl1KEykOu/vpLKWUcx9Nms3mbMH854Qx84zFFBKESQahEECoRhEoEoRJBqEQQKhGESgShEkGoRBAqEYRKBKESQahEECoRhEoEoRJBqEQQKhGESgShEkGoRBAqEYRKBKESQahEECoRhEoEoRJBqEQQKhGESgShEkGoRBAqEYRKBKESQahEECoRhEoEoRJBqEQQKhGESgShEkGoRBAqEYRKBKESQahEECoRhEoEoRJBqEQQKhGESgShEkGoRBAqEYRKBKESQahEmN2yqbW2uHdwa21xPp9npZSh1nr3xfh33nvvp58WPwF79y3yrjldnwAAAABJRU5ErkJggg==\"></img></td>\n",
       "      <td id=\"T_39700_row5_col5\" class=\"data row5 col5\" >0<br>(0.0%)</td>\n",
       "    </tr>\n",
       "    <tr>\n",
       "      <td id=\"T_39700_row6_col0\" class=\"data row6 col0\" >7</td>\n",
       "      <td id=\"T_39700_row6_col1\" class=\"data row6 col1\" ><strong>Source IP Numeric</strong><br>[int64]</td>\n",
       "      <td id=\"T_39700_row6_col2\" class=\"data row6 col2\" >Mean (sd) : 3232007510.6 (27183732.8)<br>min < med < max:<br>0.0 < 3232236142.0 < 3232236228.0<br>IQR (CV) : 4.0 (118.9)</td>\n",
       "      <td id=\"T_39700_row6_col3\" class=\"data row6 col3\" >19 distinct values</td>\n",
       "      <td id=\"T_39700_row6_col4\" class=\"data row6 col4\" ><img src = \"data:image/png;base64, iVBORw0KGgoAAAANSUhEUgAAAKoAAABGCAYAAABc8A97AAAAOXRFWHRTb2Z0d2FyZQBNYXRwbG90bGliIHZlcnNpb24zLjcuMSwgaHR0cHM6Ly9tYXRwbG90bGliLm9yZy/bCgiHAAAACXBIWXMAAA9hAAAPYQGoP6dpAAABWklEQVR4nO3XQU7CUBiF0fcMQZi8piFhMSzCxboIdkNMOxDigLoCFBoUrzln+nqTf/BNWqdpKvDXPT36ALjG4tEH8H/UWtellOXM+cc0TcdLj0LlLmqt681m89Ja6+fsx3F8q7W+XopVqNzLsrXW73a7Y9d1p1uGwzCs9vt9fzgclqUUofLzuq47bbfb9xnT9VePfqaIIFQiCJUIQiWCUIkgVCIIlQhCJYJQiSBUIgiVCEIlglCJIFQiCJUIQiWCUIkgVCIIlQhCJYJQiSBUIgiVCEIlglCJIFQiCJUIQiWCUIkgVCIIlQhCJYJQiSBUIgiVCEIlglCJIFQiCJUIQiWCUIkgVCIIlQhCJYJQiSBUIgiVCEIlglCJIFQiCJUIQiWCUIkgVCIIlQhCJYJQiSBUIgiVCEIlglCJIFQiCJUIi+8+qLWuSinPv3AL2dr5fF4Mw7C6dXjN5hOFTCkW7hiMLQAAAABJRU5ErkJggg==\"></img></td>\n",
       "      <td id=\"T_39700_row6_col5\" class=\"data row6 col5\" >0<br>(0.0%)</td>\n",
       "    </tr>\n",
       "    <tr>\n",
       "      <td id=\"T_39700_row7_col0\" class=\"data row7 col0\" >8</td>\n",
       "      <td id=\"T_39700_row7_col1\" class=\"data row7 col1\" ><strong>Destination IP Numeric</strong><br>[int64]</td>\n",
       "      <td id=\"T_39700_row7_col2\" class=\"data row7 col2\" >Mean (sd) : 2213405764.9 (1137748786.3)<br>min < med < max:<br>134744072.0 < 2063133391.0 < 4294967295.0<br>IQR (CV) : 2196495401.0 (1.9)</td>\n",
       "      <td id=\"T_39700_row7_col3\" class=\"data row7 col3\" >47 distinct values</td>\n",
       "      <td id=\"T_39700_row7_col4\" class=\"data row7 col4\" ><img src = \"data:image/png;base64, iVBORw0KGgoAAAANSUhEUgAAAKoAAABGCAYAAABc8A97AAAAOXRFWHRTb2Z0d2FyZQBNYXRwbG90bGliIHZlcnNpb24zLjcuMSwgaHR0cHM6Ly9tYXRwbG90bGliLm9yZy/bCgiHAAAACXBIWXMAAA9hAAAPYQGoP6dpAAACcklEQVR4nO3du47aQBiG4X/CQQYUI4QEHTcQKQUlF5GLTZsuBUVq7mAbhEBghLMOxnaaXUVR9gBj2PXnvE//ryx4hWZnRrIrisKAqvvw3g8AnKP53g+A63LOdcys7Tl+LIri/prPcy2EWiPOuc5wOPwShuHAZ36/32+dc1+rGCuh1ks7DMPBbDa77/f7ySWDURQF8/l8sNls2mZGqLi9fr+fjEajnx6jnas/zJXwzxQkECokECokECokECokECokECokECokECokECokECokECokECokECokECokECokECokECokECokECokECokECokECokECokECokECokECokECokECokECokECokECokECokECokECokECokECok8FaUZ9T1xWKqCPUJdX6xmCpCfVptXyymilBfUMcXi6m6aagl13lmrPXw4Gahll3nmbHWwx+3/EX1XueZsdbD326+Ri2xzjNjrYcHbPhDAqFCAqFCAqFCAqFCAqFCwqvbUyVOl8I8z1sec8A/Xgy1zOlSmqZBlmWfkiT5bma++6iAmb3+i+p9unR3dzdYLBbd0+nUKPF8gJmdeTLlc7q03W45VcLVVPqaX5ZlLTMLnXM+49y8qpHKhhrHcStN08+TyaTRaDQuvtTCzat6qWyox+OxGQRBdzqdJuPxeHvJLDev6qeyoT7q9Xrcsgcb/tBAqJBAqJBQ+TWqr5JbW//l8W/Jz8zshluCZ4UaRVFw6R8+HA6BmVkcx8Fqteq+5fxyufxYZmvr8fh3vV7/uHQ2iqIgy7KmlfvCfYV5njd9vq+yn5mZ2W63OzjnvpmZz/yvoiienfsNrEfyVH6HcTYAAAAASUVORK5CYII=\"></img></td>\n",
       "      <td id=\"T_39700_row7_col5\" class=\"data row7 col5\" >0<br>(0.0%)</td>\n",
       "    </tr>\n",
       "  </tbody>\n",
       "</table>\n"
      ],
      "text/plain": [
       "<pandas.io.formats.style.Styler at 0x7f233dc98ca0>"
      ]
     },
     "execution_count": 27,
     "metadata": {},
     "output_type": "execute_result"
    }
   ],
   "source": [
    "dfSummary(stream_df_numeric)"
   ]
  },
  {
   "cell_type": "code",
   "execution_count": 28,
   "metadata": {},
   "outputs": [
    {
     "name": "stderr",
     "output_type": "stream",
     "text": [
      "/home/drx/sandbox/cyber-ml/.venv/lib/python3.10/site-packages/sweetviz/dataframe_report.py:74: FutureWarning: iteritems is deprecated and will be removed in a future version. Use .items instead.\n",
      "  all_source_names = [cur_name for cur_name, cur_series in source_df.iteritems()]\n",
      "/home/drx/sandbox/cyber-ml/.venv/lib/python3.10/site-packages/sweetviz/dataframe_report.py:109: FutureWarning: iteritems is deprecated and will be removed in a future version. Use .items instead.\n",
      "  filtered_series_names_in_source = [cur_name for cur_name, cur_series in source_df.iteritems()\n"
     ]
    },
    {
     "data": {
      "application/vnd.jupyter.widget-view+json": {
       "model_id": "3c68b487593246ea83430af2dff679b0",
       "version_major": 2,
       "version_minor": 0
      },
      "text/plain": [
       "                                             |          | [  0%]   00:00 -> (? left)"
      ]
     },
     "metadata": {},
     "output_type": "display_data"
    },
    {
     "name": "stderr",
     "output_type": "stream",
     "text": [
      "/home/drx/sandbox/cyber-ml/.venv/lib/python3.10/site-packages/sweetviz/series_analyzer_numeric.py:25: FutureWarning: The 'mad' method is deprecated and will be removed in a future version. To compute the same result, you may do `(df - df.mean()).abs().mean()`.\n",
      "  stats[\"mad\"] = series.mad()\n",
      "/home/drx/sandbox/cyber-ml/.venv/lib/python3.10/site-packages/sweetviz/series_analyzer_numeric.py:25: FutureWarning: The 'mad' method is deprecated and will be removed in a future version. To compute the same result, you may do `(df - df.mean()).abs().mean()`.\n",
      "  stats[\"mad\"] = series.mad()\n",
      "/home/drx/sandbox/cyber-ml/.venv/lib/python3.10/site-packages/sweetviz/series_analyzer_cat.py:28: FutureWarning: iteritems is deprecated and will be removed in a future version. Use .items instead.\n",
      "  for item in category_counts.iteritems():\n",
      "/home/drx/sandbox/cyber-ml/.venv/lib/python3.10/site-packages/sweetviz/series_analyzer_numeric.py:25: FutureWarning: The 'mad' method is deprecated and will be removed in a future version. To compute the same result, you may do `(df - df.mean()).abs().mean()`.\n",
      "  stats[\"mad\"] = series.mad()\n",
      "/home/drx/sandbox/cyber-ml/.venv/lib/python3.10/site-packages/sweetviz/series_analyzer_numeric.py:25: FutureWarning: The 'mad' method is deprecated and will be removed in a future version. To compute the same result, you may do `(df - df.mean()).abs().mean()`.\n",
      "  stats[\"mad\"] = series.mad()\n",
      "/home/drx/sandbox/cyber-ml/.venv/lib/python3.10/site-packages/sweetviz/series_analyzer_numeric.py:25: FutureWarning: The 'mad' method is deprecated and will be removed in a future version. To compute the same result, you may do `(df - df.mean()).abs().mean()`.\n",
      "  stats[\"mad\"] = series.mad()\n",
      "/home/drx/sandbox/cyber-ml/.venv/lib/python3.10/site-packages/sweetviz/series_analyzer_numeric.py:25: FutureWarning: The 'mad' method is deprecated and will be removed in a future version. To compute the same result, you may do `(df - df.mean()).abs().mean()`.\n",
      "  stats[\"mad\"] = series.mad()\n",
      "/home/drx/sandbox/cyber-ml/.venv/lib/python3.10/site-packages/sweetviz/series_analyzer_numeric.py:25: FutureWarning: The 'mad' method is deprecated and will be removed in a future version. To compute the same result, you may do `(df - df.mean()).abs().mean()`.\n",
      "  stats[\"mad\"] = series.mad()\n"
     ]
    },
    {
     "name": "stdout",
     "output_type": "stream",
     "text": [
      "Report SWEETVIZ_REPORT.html was generated! NOTEBOOK/COLAB USERS: the web browser MAY not pop up, regardless, the report IS saved in your notebook/colab files.\n"
     ]
    }
   ],
   "source": [
    "my_report = sv.analyze(stream_df_numeric)\n",
    "my_report.show_html()"
   ]
  },
  {
   "attachments": {},
   "cell_type": "markdown",
   "metadata": {},
   "source": [
    "# Model Training"
   ]
  },
  {
   "cell_type": "code",
   "execution_count": 29,
   "metadata": {},
   "outputs": [
    {
     "name": "stderr",
     "output_type": "stream",
     "text": [
      "[0517/213155.196468:ERROR:file_io_posix.cc(152)] open /home/drx/.config/BraveSoftware/Brave-Browser/Crash Reports/pending/83df2ce0-9359-4e34-8a6c-58e503ea954c.lock: File exists (17)\n"
     ]
    },
    {
     "name": "stdout",
     "output_type": "stream",
     "text": [
      "Opening in existing browser session.\n"
     ]
    }
   ],
   "source": [
    "# what are we training for? benign vs malicious"
   ]
  }
 ],
 "metadata": {
  "kernelspec": {
   "display_name": ".venv",
   "language": "python",
   "name": "python3"
  },
  "language_info": {
   "codemirror_mode": {
    "name": "ipython",
    "version": 3
   },
   "file_extension": ".py",
   "mimetype": "text/x-python",
   "name": "python",
   "nbconvert_exporter": "python",
   "pygments_lexer": "ipython3",
   "version": "3.10.6"
  },
  "orig_nbformat": 4
 },
 "nbformat": 4,
 "nbformat_minor": 2
}
