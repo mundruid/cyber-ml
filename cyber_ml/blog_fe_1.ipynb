{
 "cells": [
  {
   "cell_type": "code",
   "execution_count": 1,
   "metadata": {},
   "outputs": [],
   "source": [
    "import pandas as pd\n",
    "import ipaddress"
   ]
  },
  {
   "cell_type": "code",
   "execution_count": 2,
   "metadata": {},
   "outputs": [],
   "source": [
    "mirai_df = pd.read_pickle(\"../data/blog_eda/mirai.pkl\")\n",
    "benign_df = pd.read_pickle(\"../data/blog_eda/benign.pkl\")"
   ]
  },
  {
   "cell_type": "code",
   "execution_count": 3,
   "metadata": {},
   "outputs": [
    {
     "data": {
      "text/plain": [
       "(764137, 8)"
      ]
     },
     "execution_count": 3,
     "metadata": {},
     "output_type": "execute_result"
    }
   ],
   "source": [
    "mirai_df.shape"
   ]
  },
  {
   "cell_type": "code",
   "execution_count": 4,
   "metadata": {},
   "outputs": [
    {
     "data": {
      "text/plain": [
       "Timestamp                0\n",
       "Source IP           566436\n",
       "Destination IP      566436\n",
       "Source Port         610036\n",
       "Destination Port    610036\n",
       "Payload                  0\n",
       "Packet Length            0\n",
       "Protocol            566436\n",
       "dtype: int64"
      ]
     },
     "execution_count": 4,
     "metadata": {},
     "output_type": "execute_result"
    }
   ],
   "source": [
    "# count missing values\n",
    "mirai_df.isnull().sum()"
   ]
  },
  {
   "cell_type": "code",
   "execution_count": 5,
   "metadata": {},
   "outputs": [
    {
     "data": {
      "text/plain": [
       "(38642, 8)"
      ]
     },
     "execution_count": 5,
     "metadata": {},
     "output_type": "execute_result"
    }
   ],
   "source": [
    "benign_df.shape"
   ]
  },
  {
   "cell_type": "code",
   "execution_count": 6,
   "metadata": {},
   "outputs": [
    {
     "data": {
      "text/plain": [
       "Timestamp               0\n",
       "Source IP           15586\n",
       "Destination IP      15586\n",
       "Source Port         12826\n",
       "Destination Port    12826\n",
       "Payload                 0\n",
       "Packet Length           0\n",
       "Protocol            15586\n",
       "dtype: int64"
      ]
     },
     "execution_count": 6,
     "metadata": {},
     "output_type": "execute_result"
    }
   ],
   "source": [
    "# count missing values\n",
    "benign_df.isnull().sum()"
   ]
  },
  {
   "cell_type": "markdown",
   "metadata": {},
   "source": [
    "# Drop\n",
    "One method to clean up data from misleading records that have incomplete information, such as NaN, is to simply drop this data."
   ]
  },
  {
   "cell_type": "code",
   "execution_count": 7,
   "metadata": {},
   "outputs": [
    {
     "data": {
      "text/plain": [
       "(154090, 8)"
      ]
     },
     "execution_count": 7,
     "metadata": {},
     "output_type": "execute_result"
    }
   ],
   "source": [
    "mirai_df = mirai_df.dropna(\n",
    "    subset=[\"Source IP\", \"Destination IP\", \"Source Port\", \"Destination Port\"]\n",
    ")\n",
    "mirai_df.shape"
   ]
  },
  {
   "cell_type": "code",
   "execution_count": 8,
   "metadata": {},
   "outputs": [
    {
     "data": {
      "text/plain": [
       "Timestamp           0\n",
       "Source IP           0\n",
       "Destination IP      0\n",
       "Source Port         0\n",
       "Destination Port    0\n",
       "Payload             0\n",
       "Packet Length       0\n",
       "Protocol            0\n",
       "dtype: int64"
      ]
     },
     "execution_count": 8,
     "metadata": {},
     "output_type": "execute_result"
    }
   ],
   "source": [
    "mirai_df.isnull().sum()"
   ]
  },
  {
   "cell_type": "code",
   "execution_count": 9,
   "metadata": {},
   "outputs": [
    {
     "data": {
      "text/plain": [
       "(18615, 8)"
      ]
     },
     "execution_count": 9,
     "metadata": {},
     "output_type": "execute_result"
    }
   ],
   "source": [
    "benign_df = benign_df.dropna(\n",
    "    subset=[\"Source IP\", \"Destination IP\", \"Source Port\", \"Destination Port\"]\n",
    ")\n",
    "benign_df.shape"
   ]
  },
  {
   "cell_type": "markdown",
   "metadata": {},
   "source": [
    "# Impute\n",
    "Another method to eliminate `None` is to fill in the blank records with meaningful data by observing the distribution, mean, and other statistics of the data. Impute applies only to numerical data."
   ]
  },
  {
   "cell_type": "code",
   "execution_count": 10,
   "metadata": {},
   "outputs": [],
   "source": [
    "# re-load the original dataset\n",
    "mirai_df = pd.read_pickle(\"../data/blog_eda/mirai.pkl\")\n",
    "benign_df = pd.read_pickle(\"../data/blog_eda/benign.pkl\")"
   ]
  },
  {
   "cell_type": "code",
   "execution_count": 11,
   "metadata": {},
   "outputs": [],
   "source": [
    "# convert ip address to numeric values\n",
    "def ip_to_numeric(ip):\n",
    "    if ip:\n",
    "        ip_obj = ipaddress.ip_interface(ip)\n",
    "        return int(ip_obj.network.network_address)\n",
    "\n",
    "    return None"
   ]
  },
  {
   "cell_type": "code",
   "execution_count": 12,
   "metadata": {},
   "outputs": [],
   "source": [
    "# convert IPs to numeric for mirai dataset\n",
    "mirai_df[\"Source IP\"] = mirai_df[\"Source IP\"].apply(ip_to_numeric)\n",
    "mirai_df[\"Destination IP\"] = mirai_df[\"Destination IP\"].apply(ip_to_numeric)"
   ]
  },
  {
   "cell_type": "code",
   "execution_count": 14,
   "metadata": {},
   "outputs": [
    {
     "data": {
      "text/html": [
       "<div>\n",
       "<style scoped>\n",
       "    .dataframe tbody tr th:only-of-type {\n",
       "        vertical-align: middle;\n",
       "    }\n",
       "\n",
       "    .dataframe tbody tr th {\n",
       "        vertical-align: top;\n",
       "    }\n",
       "\n",
       "    .dataframe thead th {\n",
       "        text-align: right;\n",
       "    }\n",
       "</style>\n",
       "<table border=\"1\" class=\"dataframe\">\n",
       "  <thead>\n",
       "    <tr style=\"text-align: right;\">\n",
       "      <th></th>\n",
       "      <th>Timestamp</th>\n",
       "      <th>Source IP</th>\n",
       "      <th>Destination IP</th>\n",
       "      <th>Source Port</th>\n",
       "      <th>Destination Port</th>\n",
       "      <th>Payload</th>\n",
       "      <th>Packet Length</th>\n",
       "      <th>Protocol</th>\n",
       "    </tr>\n",
       "  </thead>\n",
       "  <tbody>\n",
       "    <tr>\n",
       "      <th>0</th>\n",
       "      <td>1540446382.933899</td>\n",
       "      <td>3.232236e+09</td>\n",
       "      <td>8.739992e+08</td>\n",
       "      <td>21074.0</td>\n",
       "      <td>80.0</td>\n",
       "      <td>Padding</td>\n",
       "      <td>26</td>\n",
       "      <td>6.0</td>\n",
       "    </tr>\n",
       "    <tr>\n",
       "      <th>1</th>\n",
       "      <td>1540446382.933904</td>\n",
       "      <td>3.232236e+09</td>\n",
       "      <td>8.740708e+08</td>\n",
       "      <td>20532.0</td>\n",
       "      <td>8280.0</td>\n",
       "      <td>Padding</td>\n",
       "      <td>26</td>\n",
       "      <td>6.0</td>\n",
       "    </tr>\n",
       "    <tr>\n",
       "      <th>2</th>\n",
       "      <td>1540446382.934426</td>\n",
       "      <td>3.232236e+09</td>\n",
       "      <td>3.232236e+09</td>\n",
       "      <td>32761.0</td>\n",
       "      <td>8280.0</td>\n",
       "      <td>IPerror / TCPerror</td>\n",
       "      <td>52</td>\n",
       "      <td>1.0</td>\n",
       "    </tr>\n",
       "    <tr>\n",
       "      <th>3</th>\n",
       "      <td>1540446382.934636</td>\n",
       "      <td>3.232236e+09</td>\n",
       "      <td>3.232236e+09</td>\n",
       "      <td>32761.0</td>\n",
       "      <td>8280.0</td>\n",
       "      <td>IPerror / TCPerror</td>\n",
       "      <td>52</td>\n",
       "      <td>1.0</td>\n",
       "    </tr>\n",
       "    <tr>\n",
       "      <th>4</th>\n",
       "      <td>1540446383.291054</td>\n",
       "      <td>3.232236e+09</td>\n",
       "      <td>2.063133e+09</td>\n",
       "      <td>32761.0</td>\n",
       "      <td>8280.0</td>\n",
       "      <td>ARP who has 192.168.2.106 says 192.168.2.109 /...</td>\n",
       "      <td>60</td>\n",
       "      <td>17.0</td>\n",
       "    </tr>\n",
       "    <tr>\n",
       "      <th>...</th>\n",
       "      <td>...</td>\n",
       "      <td>...</td>\n",
       "      <td>...</td>\n",
       "      <td>...</td>\n",
       "      <td>...</td>\n",
       "      <td>...</td>\n",
       "      <td>...</td>\n",
       "      <td>...</td>\n",
       "    </tr>\n",
       "    <tr>\n",
       "      <th>764132</th>\n",
       "      <td>1540453519.837515</td>\n",
       "      <td>3.232236e+09</td>\n",
       "      <td>2.063133e+09</td>\n",
       "      <td>32761.0</td>\n",
       "      <td>8280.0</td>\n",
       "      <td>ARP who has 192.168.2.165 says 192.168.2.110 /...</td>\n",
       "      <td>60</td>\n",
       "      <td>17.0</td>\n",
       "    </tr>\n",
       "    <tr>\n",
       "      <th>764133</th>\n",
       "      <td>1540453519.839396</td>\n",
       "      <td>3.232236e+09</td>\n",
       "      <td>2.063133e+09</td>\n",
       "      <td>32761.0</td>\n",
       "      <td>8280.0</td>\n",
       "      <td>ARP who has 192.168.2.166 says 192.168.2.110 /...</td>\n",
       "      <td>60</td>\n",
       "      <td>17.0</td>\n",
       "    </tr>\n",
       "    <tr>\n",
       "      <th>764134</th>\n",
       "      <td>1540453519.840611</td>\n",
       "      <td>3.232236e+09</td>\n",
       "      <td>2.063133e+09</td>\n",
       "      <td>32761.0</td>\n",
       "      <td>8280.0</td>\n",
       "      <td>ARP who has 192.168.2.167 says 192.168.2.110 /...</td>\n",
       "      <td>60</td>\n",
       "      <td>17.0</td>\n",
       "    </tr>\n",
       "    <tr>\n",
       "      <th>764135</th>\n",
       "      <td>1540453519.842369</td>\n",
       "      <td>3.232236e+09</td>\n",
       "      <td>2.063133e+09</td>\n",
       "      <td>32761.0</td>\n",
       "      <td>8280.0</td>\n",
       "      <td>ARP who has 192.168.2.168 says 192.168.2.110 /...</td>\n",
       "      <td>60</td>\n",
       "      <td>17.0</td>\n",
       "    </tr>\n",
       "    <tr>\n",
       "      <th>764136</th>\n",
       "      <td>1540453519.842464</td>\n",
       "      <td>3.232236e+09</td>\n",
       "      <td>3.232236e+09</td>\n",
       "      <td>3570.0</td>\n",
       "      <td>53.0</td>\n",
       "      <td>DNS Qry \"b'north-america.pool.ntp.org.Speedpor...</td>\n",
       "      <td>85</td>\n",
       "      <td>17.0</td>\n",
       "    </tr>\n",
       "  </tbody>\n",
       "</table>\n",
       "<p>764137 rows × 8 columns</p>\n",
       "</div>"
      ],
      "text/plain": [
       "                Timestamp     Source IP  Destination IP  Source Port  \\\n",
       "0       1540446382.933899  3.232236e+09    8.739992e+08      21074.0   \n",
       "1       1540446382.933904  3.232236e+09    8.740708e+08      20532.0   \n",
       "2       1540446382.934426  3.232236e+09    3.232236e+09      32761.0   \n",
       "3       1540446382.934636  3.232236e+09    3.232236e+09      32761.0   \n",
       "4       1540446383.291054  3.232236e+09    2.063133e+09      32761.0   \n",
       "...                   ...           ...             ...          ...   \n",
       "764132  1540453519.837515  3.232236e+09    2.063133e+09      32761.0   \n",
       "764133  1540453519.839396  3.232236e+09    2.063133e+09      32761.0   \n",
       "764134  1540453519.840611  3.232236e+09    2.063133e+09      32761.0   \n",
       "764135  1540453519.842369  3.232236e+09    2.063133e+09      32761.0   \n",
       "764136  1540453519.842464  3.232236e+09    3.232236e+09       3570.0   \n",
       "\n",
       "        Destination Port                                            Payload  \\\n",
       "0                   80.0                                            Padding   \n",
       "1                 8280.0                                            Padding   \n",
       "2                 8280.0                                 IPerror / TCPerror   \n",
       "3                 8280.0                                 IPerror / TCPerror   \n",
       "4                 8280.0  ARP who has 192.168.2.106 says 192.168.2.109 /...   \n",
       "...                  ...                                                ...   \n",
       "764132            8280.0  ARP who has 192.168.2.165 says 192.168.2.110 /...   \n",
       "764133            8280.0  ARP who has 192.168.2.166 says 192.168.2.110 /...   \n",
       "764134            8280.0  ARP who has 192.168.2.167 says 192.168.2.110 /...   \n",
       "764135            8280.0  ARP who has 192.168.2.168 says 192.168.2.110 /...   \n",
       "764136              53.0  DNS Qry \"b'north-america.pool.ntp.org.Speedpor...   \n",
       "\n",
       "        Packet Length  Protocol  \n",
       "0                  26       6.0  \n",
       "1                  26       6.0  \n",
       "2                  52       1.0  \n",
       "3                  52       1.0  \n",
       "4                  60      17.0  \n",
       "...               ...       ...  \n",
       "764132             60      17.0  \n",
       "764133             60      17.0  \n",
       "764134             60      17.0  \n",
       "764135             60      17.0  \n",
       "764136             85      17.0  \n",
       "\n",
       "[764137 rows x 8 columns]"
      ]
     },
     "execution_count": 14,
     "metadata": {},
     "output_type": "execute_result"
    }
   ],
   "source": [
    "from feature_engine.imputation import MeanMedianImputer\n",
    "\n",
    "# Initialize the MeanMedianImputer\n",
    "imputer = MeanMedianImputer(\n",
    "    imputation_method=\"median\",  # you can use other statistics: mean, std dev etc.\n",
    "    variables=[\n",
    "        \"Source IP\",\n",
    "        \"Destination IP\",\n",
    "        \"Source Port\",\n",
    "        \"Destination Port\",\n",
    "        \"Protocol\",\n",
    "    ],\n",
    ")\n",
    "\n",
    "# Apply imputation\n",
    "mirai_df = imputer.fit_transform(mirai_df)\n",
    "\n",
    "mirai_df"
   ]
  },
  {
   "cell_type": "markdown",
   "metadata": {},
   "source": [
    "# Normalize\n",
    "If we have extreme values we may want to reshape them by projecting to a specific range, ex. `(0, 1)`."
   ]
  },
  {
   "cell_type": "code",
   "execution_count": 15,
   "metadata": {},
   "outputs": [
    {
     "data": {
      "text/html": [
       "<div>\n",
       "<style scoped>\n",
       "    .dataframe tbody tr th:only-of-type {\n",
       "        vertical-align: middle;\n",
       "    }\n",
       "\n",
       "    .dataframe tbody tr th {\n",
       "        vertical-align: top;\n",
       "    }\n",
       "\n",
       "    .dataframe thead th {\n",
       "        text-align: right;\n",
       "    }\n",
       "</style>\n",
       "<table border=\"1\" class=\"dataframe\">\n",
       "  <thead>\n",
       "    <tr style=\"text-align: right;\">\n",
       "      <th></th>\n",
       "      <th>Timestamp</th>\n",
       "      <th>Source IP</th>\n",
       "      <th>Destination IP</th>\n",
       "      <th>Source Port</th>\n",
       "      <th>Destination Port</th>\n",
       "      <th>Payload</th>\n",
       "      <th>Packet Length</th>\n",
       "      <th>Protocol</th>\n",
       "    </tr>\n",
       "  </thead>\n",
       "  <tbody>\n",
       "    <tr>\n",
       "      <th>0</th>\n",
       "      <td>1540446382.933899</td>\n",
       "      <td>3.232236e+09</td>\n",
       "      <td>8.739992e+08</td>\n",
       "      <td>21074.0</td>\n",
       "      <td>80.0</td>\n",
       "      <td>Padding</td>\n",
       "      <td>-2.908731</td>\n",
       "      <td>6.0</td>\n",
       "    </tr>\n",
       "    <tr>\n",
       "      <th>1</th>\n",
       "      <td>1540446382.933904</td>\n",
       "      <td>3.232236e+09</td>\n",
       "      <td>8.740708e+08</td>\n",
       "      <td>20532.0</td>\n",
       "      <td>8280.0</td>\n",
       "      <td>Padding</td>\n",
       "      <td>-2.908731</td>\n",
       "      <td>6.0</td>\n",
       "    </tr>\n",
       "    <tr>\n",
       "      <th>2</th>\n",
       "      <td>1540446382.934426</td>\n",
       "      <td>3.232236e+09</td>\n",
       "      <td>3.232236e+09</td>\n",
       "      <td>32761.0</td>\n",
       "      <td>8280.0</td>\n",
       "      <td>IPerror / TCPerror</td>\n",
       "      <td>-0.472762</td>\n",
       "      <td>1.0</td>\n",
       "    </tr>\n",
       "    <tr>\n",
       "      <th>3</th>\n",
       "      <td>1540446382.934636</td>\n",
       "      <td>3.232236e+09</td>\n",
       "      <td>3.232236e+09</td>\n",
       "      <td>32761.0</td>\n",
       "      <td>8280.0</td>\n",
       "      <td>IPerror / TCPerror</td>\n",
       "      <td>-0.472762</td>\n",
       "      <td>1.0</td>\n",
       "    </tr>\n",
       "    <tr>\n",
       "      <th>4</th>\n",
       "      <td>1540446383.291054</td>\n",
       "      <td>3.232236e+09</td>\n",
       "      <td>2.063133e+09</td>\n",
       "      <td>32761.0</td>\n",
       "      <td>8280.0</td>\n",
       "      <td>ARP who has 192.168.2.106 says 192.168.2.109 /...</td>\n",
       "      <td>0.276767</td>\n",
       "      <td>17.0</td>\n",
       "    </tr>\n",
       "    <tr>\n",
       "      <th>...</th>\n",
       "      <td>...</td>\n",
       "      <td>...</td>\n",
       "      <td>...</td>\n",
       "      <td>...</td>\n",
       "      <td>...</td>\n",
       "      <td>...</td>\n",
       "      <td>...</td>\n",
       "      <td>...</td>\n",
       "    </tr>\n",
       "    <tr>\n",
       "      <th>764132</th>\n",
       "      <td>1540453519.837515</td>\n",
       "      <td>3.232236e+09</td>\n",
       "      <td>2.063133e+09</td>\n",
       "      <td>32761.0</td>\n",
       "      <td>8280.0</td>\n",
       "      <td>ARP who has 192.168.2.165 says 192.168.2.110 /...</td>\n",
       "      <td>0.276767</td>\n",
       "      <td>17.0</td>\n",
       "    </tr>\n",
       "    <tr>\n",
       "      <th>764133</th>\n",
       "      <td>1540453519.839396</td>\n",
       "      <td>3.232236e+09</td>\n",
       "      <td>2.063133e+09</td>\n",
       "      <td>32761.0</td>\n",
       "      <td>8280.0</td>\n",
       "      <td>ARP who has 192.168.2.166 says 192.168.2.110 /...</td>\n",
       "      <td>0.276767</td>\n",
       "      <td>17.0</td>\n",
       "    </tr>\n",
       "    <tr>\n",
       "      <th>764134</th>\n",
       "      <td>1540453519.840611</td>\n",
       "      <td>3.232236e+09</td>\n",
       "      <td>2.063133e+09</td>\n",
       "      <td>32761.0</td>\n",
       "      <td>8280.0</td>\n",
       "      <td>ARP who has 192.168.2.167 says 192.168.2.110 /...</td>\n",
       "      <td>0.276767</td>\n",
       "      <td>17.0</td>\n",
       "    </tr>\n",
       "    <tr>\n",
       "      <th>764135</th>\n",
       "      <td>1540453519.842369</td>\n",
       "      <td>3.232236e+09</td>\n",
       "      <td>2.063133e+09</td>\n",
       "      <td>32761.0</td>\n",
       "      <td>8280.0</td>\n",
       "      <td>ARP who has 192.168.2.168 says 192.168.2.110 /...</td>\n",
       "      <td>0.276767</td>\n",
       "      <td>17.0</td>\n",
       "    </tr>\n",
       "    <tr>\n",
       "      <th>764136</th>\n",
       "      <td>1540453519.842464</td>\n",
       "      <td>3.232236e+09</td>\n",
       "      <td>3.232236e+09</td>\n",
       "      <td>3570.0</td>\n",
       "      <td>53.0</td>\n",
       "      <td>DNS Qry \"b'north-america.pool.ntp.org.Speedpor...</td>\n",
       "      <td>2.619045</td>\n",
       "      <td>17.0</td>\n",
       "    </tr>\n",
       "  </tbody>\n",
       "</table>\n",
       "<p>764137 rows × 8 columns</p>\n",
       "</div>"
      ],
      "text/plain": [
       "                Timestamp     Source IP  Destination IP  Source Port  \\\n",
       "0       1540446382.933899  3.232236e+09    8.739992e+08      21074.0   \n",
       "1       1540446382.933904  3.232236e+09    8.740708e+08      20532.0   \n",
       "2       1540446382.934426  3.232236e+09    3.232236e+09      32761.0   \n",
       "3       1540446382.934636  3.232236e+09    3.232236e+09      32761.0   \n",
       "4       1540446383.291054  3.232236e+09    2.063133e+09      32761.0   \n",
       "...                   ...           ...             ...          ...   \n",
       "764132  1540453519.837515  3.232236e+09    2.063133e+09      32761.0   \n",
       "764133  1540453519.839396  3.232236e+09    2.063133e+09      32761.0   \n",
       "764134  1540453519.840611  3.232236e+09    2.063133e+09      32761.0   \n",
       "764135  1540453519.842369  3.232236e+09    2.063133e+09      32761.0   \n",
       "764136  1540453519.842464  3.232236e+09    3.232236e+09       3570.0   \n",
       "\n",
       "        Destination Port                                            Payload  \\\n",
       "0                   80.0                                            Padding   \n",
       "1                 8280.0                                            Padding   \n",
       "2                 8280.0                                 IPerror / TCPerror   \n",
       "3                 8280.0                                 IPerror / TCPerror   \n",
       "4                 8280.0  ARP who has 192.168.2.106 says 192.168.2.109 /...   \n",
       "...                  ...                                                ...   \n",
       "764132            8280.0  ARP who has 192.168.2.165 says 192.168.2.110 /...   \n",
       "764133            8280.0  ARP who has 192.168.2.166 says 192.168.2.110 /...   \n",
       "764134            8280.0  ARP who has 192.168.2.167 says 192.168.2.110 /...   \n",
       "764135            8280.0  ARP who has 192.168.2.168 says 192.168.2.110 /...   \n",
       "764136              53.0  DNS Qry \"b'north-america.pool.ntp.org.Speedpor...   \n",
       "\n",
       "        Packet Length  Protocol  \n",
       "0           -2.908731       6.0  \n",
       "1           -2.908731       6.0  \n",
       "2           -0.472762       1.0  \n",
       "3           -0.472762       1.0  \n",
       "4            0.276767      17.0  \n",
       "...               ...       ...  \n",
       "764132       0.276767      17.0  \n",
       "764133       0.276767      17.0  \n",
       "764134       0.276767      17.0  \n",
       "764135       0.276767      17.0  \n",
       "764136       2.619045      17.0  \n",
       "\n",
       "[764137 rows x 8 columns]"
      ]
     },
     "execution_count": 15,
     "metadata": {},
     "output_type": "execute_result"
    }
   ],
   "source": [
    "from sklearn.preprocessing import StandardScaler\n",
    "\n",
    "scaler = StandardScaler()\n",
    "\n",
    "mirai_df[\"Packet Length\"] = scaler.fit_transform(\n",
    "    mirai_df[\"Packet Length\"].values.reshape(-1, 1)\n",
    ")\n",
    "mirai_df"
   ]
  },
  {
   "cell_type": "markdown",
   "metadata": {},
   "source": [
    "# Extract\n",
    "Features may be hidden in specific recorts, such as a domain in a DNS packet payload. We extract these with regular expressions or proper python libraries."
   ]
  },
  {
   "cell_type": "code",
   "execution_count": 16,
   "metadata": {},
   "outputs": [],
   "source": [
    "import re\n",
    "\n",
    "# Define a regular expression pattern to match DNS queries\n",
    "domain_regex = r'DNS Qry \"b\\'([^\\']+)\\''\n",
    "\n",
    "\n",
    "# Extract domains from payload using regex and create a new column\n",
    "mirai_df[\"Domain\"] = mirai_df[\"Payload\"].str.extract(domain_regex)"
   ]
  },
  {
   "cell_type": "code",
   "execution_count": 18,
   "metadata": {},
   "outputs": [
    {
     "data": {
      "text/plain": [
       "7         xmpp.samsungsmartcam.com.Speedport_W_724V_0101...\n",
       "12                                xmpp.samsungsmartcam.com.\n",
       "13                                        time.windows.com.\n",
       "14                                 device-abnormal.eye4.cn.\n",
       "15                                 device-abnormal.eye4.cn.\n",
       "                                ...                        \n",
       "763977                            xmpp.samsungsmartcam.com.\n",
       "764108                             device-abnormal.eye4.cn.\n",
       "764122                                    time.windows.com.\n",
       "764123                                    time.windows.com.\n",
       "764136    north-america.pool.ntp.org.Speedport_W_724V_01...\n",
       "Name: Domain, Length: 40459, dtype: object"
      ]
     },
     "execution_count": 18,
     "metadata": {},
     "output_type": "execute_result"
    }
   ],
   "source": [
    "# print just the domains, not the packets that did not have a domain\n",
    "mirai_df[\"Domain\"].dropna()"
   ]
  },
  {
   "cell_type": "markdown",
   "metadata": {},
   "source": [
    "# Transform\n",
    "We can transform numeric features to another range, such as the Min/Max range, to make them equally important, improve their consistency, especially if their location in a coordinate space affects the ML algorithm."
   ]
  },
  {
   "cell_type": "code",
   "execution_count": 19,
   "metadata": {},
   "outputs": [],
   "source": [
    "# load numeric data\n",
    "mirai_flow_df_numeric = pd.read_pickle(\"../data/blog_eda/mirai_flow_numeric.pkl\")\n",
    "benign_flow_df_numeric = pd.read_pickle(\"../data/blog_eda/mirai_flow_numeric.pkl\")"
   ]
  },
  {
   "cell_type": "code",
   "execution_count": 20,
   "metadata": {},
   "outputs": [
    {
     "name": "stdout",
     "output_type": "stream",
     "text": [
      "Original Features:\n",
      "[[6.80000000e+01 6.70000000e+01 1.70000000e+01 ... 6.13112100e+03\n",
      "  0.00000000e+00 4.29496730e+09]\n",
      " [2.30000000e+01 2.18970000e+04 6.00000000e+00 ... 2.37557245e+03\n",
      "  3.23223603e+09 3.23223614e+09]\n",
      " [2.30000000e+01 4.67340000e+04 6.00000000e+00 ... 4.79078110e+01\n",
      "  3.23223603e+09 3.23223614e+09]\n",
      " ...\n",
      " [4.24140000e+04 1.23000000e+02 1.70000000e+01 ... 0.00000000e+00\n",
      "  3.23223623e+09 3.63263086e+09]\n",
      " [4.91340000e+04 1.23000000e+02 1.70000000e+01 ... 0.00000000e+00\n",
      "  3.23223623e+09 1.12323251e+09]\n",
      " [5.09600000e+04 1.23000000e+02 1.70000000e+01 ... 0.00000000e+00\n",
      "  3.23223623e+09 1.12323251e+09]]\n",
      "\n",
      "Scaled Features (Min-Max Scaling):\n",
      "[[1.04187415e-03 6.74391515e-04 1.00000000e+00 ... 8.59241670e-01\n",
      "  0.00000000e+00 1.00000000e+00]\n",
      " [3.52398609e-04 3.35264545e-01 0.00000000e+00 ... 3.32922941e-01\n",
      "  9.99999940e-01 7.44549488e-01]\n",
      " [3.52398609e-04 7.15943228e-01 0.00000000e+00 ... 6.71400671e-03\n",
      "  9.99999940e-01 7.44549488e-01]\n",
      " ...\n",
      " [6.49853678e-01 1.53270799e-03 1.00000000e+00 ... 0.00000000e+00\n",
      "  1.00000000e+00 8.40793054e-01]\n",
      " [7.52815358e-01 1.53270799e-03 1.00000000e+00 ... 0.00000000e+00\n",
      "  1.00000000e+00 2.37604664e-01]\n",
      " [7.80792744e-01 1.53270799e-03 1.00000000e+00 ... 0.00000000e+00\n",
      "  1.00000000e+00 2.37604664e-01]]\n"
     ]
    }
   ],
   "source": [
    "import numpy as np\n",
    "from sklearn.preprocessing import MinMaxScaler\n",
    "\n",
    "# Convert numeric features to a numpy array for the MinMax Scaler\n",
    "packet_features = mirai_flow_df_numeric.to_numpy()\n",
    "\n",
    "# Initialize MinMaxScaler\n",
    "scaler = MinMaxScaler()\n",
    "\n",
    "# Fit and transform the data using MinMaxScaler\n",
    "scaled_features = scaler.fit_transform(packet_features)\n",
    "\n",
    "# Display the original and scaled features\n",
    "print(\"Original Features:\")\n",
    "print(packet_features)\n",
    "print(\"\\nScaled Features (Min-Max Scaling):\")\n",
    "print(scaled_features)"
   ]
  }
 ],
 "metadata": {
  "kernelspec": {
   "display_name": ".venv",
   "language": "python",
   "name": "python3"
  },
  "language_info": {
   "codemirror_mode": {
    "name": "ipython",
    "version": 3
   },
   "file_extension": ".py",
   "mimetype": "text/x-python",
   "name": "python",
   "nbconvert_exporter": "python",
   "pygments_lexer": "ipython3",
   "version": "3.10.6"
  }
 },
 "nbformat": 4,
 "nbformat_minor": 2
}
