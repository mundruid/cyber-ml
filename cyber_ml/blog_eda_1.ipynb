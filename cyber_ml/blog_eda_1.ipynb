{
 "cells": [
  {
   "cell_type": "code",
   "execution_count": null,
   "metadata": {},
   "outputs": [],
   "source": [
    "import pandas as pd\n",
    "\n",
    "mirai = pd.read_csv(\"../data/blog_eda/mirai.csv\")\n",
    "mirai.shape"
   ]
  },
  {
   "cell_type": "code",
   "execution_count": null,
   "metadata": {},
   "outputs": [],
   "source": [
    "import datetime\n",
    "\n",
    "timestamps = pd.to_datetime(mirai[\"Time\"], format=\"%Y-%m-%d %H:%M:%S.%f\")\n",
    "mirai[\"Time\"] = timestamps\n",
    "print(\"Timestamps\")\n",
    "print(timestamps)"
   ]
  },
  {
   "cell_type": "code",
   "execution_count": null,
   "metadata": {},
   "outputs": [],
   "source": [
    "import numpy as np\n",
    "\n",
    "interarrival_times = np.diff(timestamps) / 1000\n",
    "interarrival_times"
   ]
  },
  {
   "cell_type": "code",
   "execution_count": null,
   "metadata": {},
   "outputs": [],
   "source": [
    "interarrival_times = np.append(interarrival_times, [0])\n",
    "mirai[\"Interarrivals\"] = interarrival_times.astype(int)\n",
    "mirai"
   ]
  },
  {
   "cell_type": "code",
   "execution_count": null,
   "metadata": {},
   "outputs": [],
   "source": [
    "from matplotlib_inline.backend_inline import set_matplotlib_formats\n",
    "\n",
    "set_matplotlib_formats(\"svg\")"
   ]
  },
  {
   "cell_type": "code",
   "execution_count": null,
   "metadata": {},
   "outputs": [],
   "source": [
    "%config InlineBackend.figure_format = 'svg'"
   ]
  },
  {
   "cell_type": "code",
   "execution_count": null,
   "metadata": {},
   "outputs": [],
   "source": [
    "mirai.hist(column=\"Length\", bins=range(50, 100))"
   ]
  },
  {
   "cell_type": "code",
   "execution_count": null,
   "metadata": {},
   "outputs": [],
   "source": [
    "mirai.hist(column=\"Interarrivals\")"
   ]
  },
  {
   "cell_type": "code",
   "execution_count": null,
   "metadata": {},
   "outputs": [],
   "source": [
    "import seaborn as sns\n",
    "\n",
    "sns.histplot(data=mirai, x=\"Length\", binrange=(50, 100))"
   ]
  },
  {
   "cell_type": "code",
   "execution_count": null,
   "metadata": {},
   "outputs": [],
   "source": [
    "mirai_subset = mirai.head(10000)\n",
    "mirai_subset.plot.scatter(x=\"Length\", y=\"Interarrivals\")"
   ]
  },
  {
   "cell_type": "code",
   "execution_count": null,
   "metadata": {},
   "outputs": [],
   "source": [
    "import matplotlib.pyplot as plt\n",
    "import seaborn as sns\n",
    "\n",
    "plt.plot(\n",
    "    \"Length\",\n",
    "    \"Interarrivals\",\n",
    "    \"\",\n",
    "    data=mirai_subset,\n",
    "    linestyle=\"\",\n",
    "    marker=\"o\",\n",
    "    markersize=0.7,\n",
    ")"
   ]
  },
  {
   "cell_type": "code",
   "execution_count": null,
   "metadata": {},
   "outputs": [],
   "source": [
    "sns.kdeplot(data=mirai_subset, x=\"Length\", y=\"Interarrivals\", cmap=\"Reds\", shade=True)\n",
    "plt.title(\"Overplotting? Try 2D density graph\", loc=\"left\")\n",
    "plt.show()"
   ]
  },
  {
   "cell_type": "code",
   "execution_count": null,
   "metadata": {},
   "outputs": [],
   "source": [
    "import seaborn as sns\n",
    "\n",
    "mirai_subset = mirai.sample(n=100, random_state=1)\n",
    "sns.boxplot(x=mirai_subset[\"Length\"], y=mirai_subset[\"Interarrivals\"])"
   ]
  },
  {
   "cell_type": "code",
   "execution_count": null,
   "metadata": {},
   "outputs": [],
   "source": [
    "import numpy as np\n",
    "import matplotlib.pyplot as plt\n",
    "\n",
    "mirai_source_counts = mirai_subset[\"Source\"].value_counts()\n",
    "height = mirai_source_counts.values.tolist()\n",
    "bars = tuple(mirai_source_counts.index.values)\n",
    "y_pos = np.arange(len(bars))\n",
    "\n",
    "# Create bars\n",
    "plt.barh(y_pos, height)\n",
    "\n",
    "# Create names on the x-axis\n",
    "plt.yticks(y_pos, bars)\n",
    "\n",
    "# Show graphic\n",
    "plt.show()"
   ]
  },
  {
   "cell_type": "code",
   "execution_count": null,
   "metadata": {},
   "outputs": [],
   "source": [
    "mirai_subset[\"Info\"].str.cat(sep=\" \")"
   ]
  },
  {
   "cell_type": "code",
   "execution_count": null,
   "metadata": {},
   "outputs": [],
   "source": [
    "# Libraries\n",
    "from wordcloud import WordCloud\n",
    "import matplotlib.pyplot as plt\n",
    "\n",
    "# Create a list of word\n",
    "text = mirai_subset[\"Info\"].str.cat(sep=\" \")\n",
    "\n",
    "# Create the wordcloud object\n",
    "wordcloud = WordCloud(width=800, height=800, background_color=\"white\").generate(text)\n",
    "\n",
    "# Display the generated image:\n",
    "plt.figure(figsize=(8, 8), facecolor=None)\n",
    "plt.imshow(wordcloud)\n",
    "plt.axis(\"off\")\n",
    "plt.tight_layout(pad=0)\n",
    "\n",
    "# Show the plot\n",
    "plt.show()"
   ]
  },
  {
   "cell_type": "code",
   "execution_count": null,
   "metadata": {},
   "outputs": [],
   "source": [
    "mirai_src_dst = mirai_subset.loc[:, [\"Source\", \"Destination\"]]"
   ]
  },
  {
   "cell_type": "code",
   "execution_count": null,
   "metadata": {},
   "outputs": [],
   "source": [
    "mirai_subset.groupby(\"Source\", group_keys=True).apply(lambda x: x)"
   ]
  },
  {
   "cell_type": "code",
   "execution_count": null,
   "metadata": {},
   "outputs": [],
   "source": [
    "# libraries\n",
    "import seaborn as sns\n",
    "import pandas as pd\n",
    "import numpy as np\n",
    "\n",
    "# Create a dataset\n",
    "# mirai_source_counts = mirai_subset[\"Source\"].value_counts()\n",
    "mirai_dest_counts = mirai_subset[\"Destination\"].value_counts()\n",
    "mirai_protocol_counts = mirai_subset[\"Protocol\"].value_counts()\n",
    "mirai_length_counts = mirai_subset[\"Length\"].value_counts()\n",
    "mirai_src_port_counts = mirai_subset[\"Source Port\"].value_counts()\n",
    "mirai_dst_port_counts = mirai_subset[\"Dest Port\"].value_counts()\n",
    "mirai_interarrival_counts = mirai_subset[\"Interarrivals\"].value_counts()\n",
    "mirai_dest_counts.shape\n",
    "# concatenated_array = np.stack((mirai_source_counts, mirai_dest_counts, mirai_src_port_counts, mirai_dst_port_counts, mirai_length_counts, mirai_interarrival_counts, mirai_protocol_counts), axis=1)\n",
    "\n",
    "# bars = mirai_source_counts.index.values.tolist()\n",
    "# concatenated_array\n",
    "# df = pd.DataFrame(mirai_source_counts.values, columns=bars)\n",
    "\n",
    "# # # # plot a heatmap with annotation\n",
    "# sns.heatmap(df, annot=True, annot_kws={\"size\": 7})"
   ]
  },
  {
   "cell_type": "code",
   "execution_count": null,
   "metadata": {},
   "outputs": [],
   "source": [
    "import hiplot as hip\n",
    "\n",
    "# data = [{'lr': 0.001, 'loss': 10.0, 'r2': 0.8, 'optimizer': 'SGD'},\n",
    "#         {'lr': 0.01, 'loss': 2.5, 'r2': 0.9, 'optimizer': 'Adam'},\n",
    "#         {'lr': 0.1, 'loss': 4, 'r2': 0.86, 'optimizer': 'Adam'}]\n",
    "hip.Experiment.from_iterable(mirai_subset).display()"
   ]
  },
  {
   "cell_type": "code",
   "execution_count": null,
   "metadata": {},
   "outputs": [],
   "source": [
    "# libraries\n",
    "import matplotlib.pyplot as plt\n",
    "import squarify  # pip install squarify (algorithm for treemap)\n",
    "import pandas as pd\n",
    "\n",
    "# prep data\n",
    "# first filter out broadcast destination\n",
    "mirai_dest = mirai_subset[mirai_subset[\"Destination\"] != \"Broadcast\"]\n",
    "# create count and label values\n",
    "mirai_dest_counts = mirai_dest[\"Destination\"].value_counts()\n",
    "sizes = mirai_dest_counts.values.tolist()\n",
    "labels = list(mirai_dest_counts.index.values)\n",
    "\n",
    "# plot it\n",
    "squarify.plot(sizes=sizes, label=labels, alpha=0.8)\n",
    "plt.axis(\"off\")\n",
    "plt.show()"
   ]
  }
 ],
 "metadata": {
  "kernelspec": {
   "display_name": ".venv",
   "language": "python",
   "name": "python3"
  },
  "language_info": {
   "codemirror_mode": {
    "name": "ipython",
    "version": 3
   },
   "file_extension": ".py",
   "mimetype": "text/x-python",
   "name": "python",
   "nbconvert_exporter": "python",
   "pygments_lexer": "ipython3",
   "version": "3.10.6"
  }
 },
 "nbformat": 4,
 "nbformat_minor": 2
}
