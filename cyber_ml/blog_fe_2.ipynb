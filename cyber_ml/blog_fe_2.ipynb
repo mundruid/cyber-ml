{
 "cells": [
  {
   "cell_type": "code",
   "execution_count": 20,
   "metadata": {},
   "outputs": [],
   "source": [
    "import ipaddress\n",
    "import random\n",
    "\n",
    "import pandas as pd\n",
    "import matplotlib.pyplot as plt\n",
    "import numpy as np\n",
    "import seaborn as sns"
   ]
  },
  {
   "cell_type": "markdown",
   "metadata": {},
   "source": [
    "# Interaction"
   ]
  },
  {
   "cell_type": "code",
   "execution_count": 2,
   "metadata": {},
   "outputs": [],
   "source": [
    "mirai_df = pd.read_pickle(\"../data/blog_eda/mirai.pkl\")\n",
    "benign_df = pd.read_pickle(\"../data/blog_eda/benign.pkl\")"
   ]
  },
  {
   "cell_type": "code",
   "execution_count": 3,
   "metadata": {},
   "outputs": [
    {
     "data": {
      "text/plain": [
       "Index(['Timestamp', 'Source IP', 'Destination IP', 'Source Port',\n",
       "       'Destination Port', 'Payload', 'Packet Length', 'Protocol'],\n",
       "      dtype='object')"
      ]
     },
     "execution_count": 3,
     "metadata": {},
     "output_type": "execute_result"
    }
   ],
   "source": [
    "mirai_df.columns"
   ]
  },
  {
   "cell_type": "code",
   "execution_count": 4,
   "metadata": {},
   "outputs": [],
   "source": [
    "mirai_df = mirai_df.dropna(\n",
    "    subset=[\"Source IP\", \"Destination IP\", \"Source Port\", \"Destination Port\"]\n",
    ")"
   ]
  },
  {
   "cell_type": "code",
   "execution_count": 5,
   "metadata": {},
   "outputs": [],
   "source": [
    "benign_df = benign_df.dropna(\n",
    "    subset=[\"Source IP\", \"Destination IP\", \"Source Port\", \"Destination Port\"]\n",
    ")"
   ]
  },
  {
   "cell_type": "code",
   "execution_count": 6,
   "metadata": {},
   "outputs": [],
   "source": [
    "def incoming_outgoing_traffic(df):\n",
    "    # Create incoming and outgoing traffic columns for each local IP\n",
    "    local_ips = df[\"Source IP\"].unique()\n",
    "    traffic_data = {'IP': local_ips, 'incoming_traffic': [], 'outgoing_traffic': []}\n",
    "\n",
    "    for ip in local_ips:\n",
    "        incoming_traffic_condition = df[\"Destination IP\"] == ip\n",
    "        outgoing_traffic_condition = (df[\"Source IP\"] == ip) & (\n",
    "            ~df[\"Destination IP\"].str.startswith(\"192.168.\") & (\n",
    "            ~df[\"Destination IP\"].str.startswith(\"10.\"))\n",
    "        )\n",
    "\n",
    "        incoming_traffic_count = df[incoming_traffic_condition].shape[0]\n",
    "        outgoing_traffic_count = df[outgoing_traffic_condition].shape[0]\n",
    "\n",
    "        traffic_data['incoming_traffic'].append(incoming_traffic_count)\n",
    "        traffic_data['outgoing_traffic'].append(outgoing_traffic_count)\n",
    "\n",
    "    # Create a new DataFrame\n",
    "    traffic_df = pd.DataFrame(traffic_data)\n",
    "    traffic_df.set_index('IP', inplace=True)\n",
    "\n",
    "    return traffic_df"
   ]
  },
  {
   "cell_type": "code",
   "execution_count": 7,
   "metadata": {},
   "outputs": [],
   "source": [
    "mirai_traffic_df = incoming_outgoing_traffic(mirai_df)"
   ]
  },
  {
   "cell_type": "code",
   "execution_count": 8,
   "metadata": {},
   "outputs": [],
   "source": [
    "benign_traffic_df = incoming_outgoing_traffic(benign_df)"
   ]
  },
  {
   "cell_type": "code",
   "execution_count": 9,
   "metadata": {},
   "outputs": [
    {
     "data": {
      "text/html": [
       "<div>\n",
       "<style scoped>\n",
       "    .dataframe tbody tr th:only-of-type {\n",
       "        vertical-align: middle;\n",
       "    }\n",
       "\n",
       "    .dataframe tbody tr th {\n",
       "        vertical-align: top;\n",
       "    }\n",
       "\n",
       "    .dataframe thead th {\n",
       "        text-align: right;\n",
       "    }\n",
       "</style>\n",
       "<table border=\"1\" class=\"dataframe\">\n",
       "  <thead>\n",
       "    <tr style=\"text-align: right;\">\n",
       "      <th></th>\n",
       "      <th>incoming_traffic</th>\n",
       "      <th>outgoing_traffic</th>\n",
       "    </tr>\n",
       "    <tr>\n",
       "      <th>IP</th>\n",
       "      <th></th>\n",
       "      <th></th>\n",
       "    </tr>\n",
       "  </thead>\n",
       "  <tbody>\n",
       "    <tr>\n",
       "      <th>192.168.2.108</th>\n",
       "      <td>0</td>\n",
       "      <td>51747</td>\n",
       "    </tr>\n",
       "    <tr>\n",
       "      <th>192.168.2.115</th>\n",
       "      <td>4257</td>\n",
       "      <td>714</td>\n",
       "    </tr>\n",
       "    <tr>\n",
       "      <th>192.168.2.1</th>\n",
       "      <td>27647</td>\n",
       "      <td>400</td>\n",
       "    </tr>\n",
       "    <tr>\n",
       "      <th>192.168.2.112</th>\n",
       "      <td>0</td>\n",
       "      <td>7787</td>\n",
       "    </tr>\n",
       "    <tr>\n",
       "      <th>192.168.2.110</th>\n",
       "      <td>8205</td>\n",
       "      <td>4884</td>\n",
       "    </tr>\n",
       "  </tbody>\n",
       "</table>\n",
       "</div>"
      ],
      "text/plain": [
       "               incoming_traffic  outgoing_traffic\n",
       "IP                                               \n",
       "192.168.2.108                 0             51747\n",
       "192.168.2.115              4257               714\n",
       "192.168.2.1               27647               400\n",
       "192.168.2.112                 0              7787\n",
       "192.168.2.110              8205              4884"
      ]
     },
     "execution_count": 9,
     "metadata": {},
     "output_type": "execute_result"
    }
   ],
   "source": [
    "mirai_traffic_df.head()"
   ]
  },
  {
   "cell_type": "code",
   "execution_count": 10,
   "metadata": {},
   "outputs": [
    {
     "data": {
      "text/html": [
       "<div>\n",
       "<style scoped>\n",
       "    .dataframe tbody tr th:only-of-type {\n",
       "        vertical-align: middle;\n",
       "    }\n",
       "\n",
       "    .dataframe tbody tr th {\n",
       "        vertical-align: top;\n",
       "    }\n",
       "\n",
       "    .dataframe thead th {\n",
       "        text-align: right;\n",
       "    }\n",
       "</style>\n",
       "<table border=\"1\" class=\"dataframe\">\n",
       "  <thead>\n",
       "    <tr style=\"text-align: right;\">\n",
       "      <th></th>\n",
       "      <th>incoming_traffic</th>\n",
       "      <th>outgoing_traffic</th>\n",
       "      <th>traffic_ratio</th>\n",
       "    </tr>\n",
       "    <tr>\n",
       "      <th>IP</th>\n",
       "      <th></th>\n",
       "      <th></th>\n",
       "      <th></th>\n",
       "    </tr>\n",
       "  </thead>\n",
       "  <tbody>\n",
       "    <tr>\n",
       "      <th>192.168.2.108</th>\n",
       "      <td>0</td>\n",
       "      <td>51747</td>\n",
       "      <td>0.000000</td>\n",
       "    </tr>\n",
       "    <tr>\n",
       "      <th>192.168.2.115</th>\n",
       "      <td>4257</td>\n",
       "      <td>714</td>\n",
       "      <td>5.962185</td>\n",
       "    </tr>\n",
       "    <tr>\n",
       "      <th>192.168.2.1</th>\n",
       "      <td>27647</td>\n",
       "      <td>400</td>\n",
       "      <td>69.117500</td>\n",
       "    </tr>\n",
       "    <tr>\n",
       "      <th>192.168.2.112</th>\n",
       "      <td>0</td>\n",
       "      <td>7787</td>\n",
       "      <td>0.000000</td>\n",
       "    </tr>\n",
       "    <tr>\n",
       "      <th>192.168.2.110</th>\n",
       "      <td>8205</td>\n",
       "      <td>4884</td>\n",
       "      <td>1.679975</td>\n",
       "    </tr>\n",
       "  </tbody>\n",
       "</table>\n",
       "</div>"
      ],
      "text/plain": [
       "               incoming_traffic  outgoing_traffic  traffic_ratio\n",
       "IP                                                              \n",
       "192.168.2.108                 0             51747       0.000000\n",
       "192.168.2.115              4257               714       5.962185\n",
       "192.168.2.1               27647               400      69.117500\n",
       "192.168.2.112                 0              7787       0.000000\n",
       "192.168.2.110              8205              4884       1.679975"
      ]
     },
     "execution_count": 10,
     "metadata": {},
     "output_type": "execute_result"
    }
   ],
   "source": [
    "# Create an interaction feature: incoming to outgoing traffic ratio\n",
    "mirai_traffic_df[\"traffic_ratio\"] = (\n",
    "    mirai_traffic_df[\"incoming_traffic\"] / mirai_traffic_df[\"outgoing_traffic\"]\n",
    ")\n",
    "\n",
    "# Display the updated DataFrame\n",
    "mirai_traffic_df.head()"
   ]
  },
  {
   "cell_type": "code",
   "execution_count": 13,
   "metadata": {},
   "outputs": [
    {
     "data": {
      "text/html": [
       "<div>\n",
       "<style scoped>\n",
       "    .dataframe tbody tr th:only-of-type {\n",
       "        vertical-align: middle;\n",
       "    }\n",
       "\n",
       "    .dataframe tbody tr th {\n",
       "        vertical-align: top;\n",
       "    }\n",
       "\n",
       "    .dataframe thead th {\n",
       "        text-align: right;\n",
       "    }\n",
       "</style>\n",
       "<table border=\"1\" class=\"dataframe\">\n",
       "  <thead>\n",
       "    <tr style=\"text-align: right;\">\n",
       "      <th></th>\n",
       "      <th>incoming_traffic</th>\n",
       "      <th>outgoing_traffic</th>\n",
       "      <th>traffic_ratio</th>\n",
       "    </tr>\n",
       "    <tr>\n",
       "      <th>IP</th>\n",
       "      <th></th>\n",
       "      <th></th>\n",
       "      <th></th>\n",
       "    </tr>\n",
       "  </thead>\n",
       "  <tbody>\n",
       "    <tr>\n",
       "      <th>10.0.0.1</th>\n",
       "      <td>0</td>\n",
       "      <td>144</td>\n",
       "      <td>0.0</td>\n",
       "    </tr>\n",
       "    <tr>\n",
       "      <th>10.0.0.2</th>\n",
       "      <td>0</td>\n",
       "      <td>146</td>\n",
       "      <td>0.0</td>\n",
       "    </tr>\n",
       "    <tr>\n",
       "      <th>10.200.200.101</th>\n",
       "      <td>40</td>\n",
       "      <td>0</td>\n",
       "      <td>inf</td>\n",
       "    </tr>\n",
       "    <tr>\n",
       "      <th>10.200.200.102</th>\n",
       "      <td>36</td>\n",
       "      <td>0</td>\n",
       "      <td>inf</td>\n",
       "    </tr>\n",
       "    <tr>\n",
       "      <th>10.200.200.201</th>\n",
       "      <td>0</td>\n",
       "      <td>0</td>\n",
       "      <td>NaN</td>\n",
       "    </tr>\n",
       "  </tbody>\n",
       "</table>\n",
       "</div>"
      ],
      "text/plain": [
       "                incoming_traffic  outgoing_traffic  traffic_ratio\n",
       "IP                                                               \n",
       "10.0.0.1                       0               144            0.0\n",
       "10.0.0.2                       0               146            0.0\n",
       "10.200.200.101                40                 0            inf\n",
       "10.200.200.102                36                 0            inf\n",
       "10.200.200.201                 0                 0            NaN"
      ]
     },
     "execution_count": 13,
     "metadata": {},
     "output_type": "execute_result"
    }
   ],
   "source": [
    "benign_traffic_df[\"traffic_ratio\"] = (\n",
    "    benign_traffic_df[\"incoming_traffic\"] / benign_traffic_df[\"outgoing_traffic\"]\n",
    ")\n",
    "\n",
    "# Display the updated DataFrame\n",
    "benign_traffic_df.head()"
   ]
  },
  {
   "cell_type": "code",
   "execution_count": 17,
   "metadata": {},
   "outputs": [
    {
     "name": "stderr",
     "output_type": "stream",
     "text": [
      "/home/drx/sandbox/cyber-ml/.venv/lib/python3.10/site-packages/numpy/lib/function_base.py:4527: RuntimeWarning: invalid value encountered in subtract\n",
      "  diff_b_a = subtract(b, a)\n",
      "/home/drx/sandbox/cyber-ml/.venv/lib/python3.10/site-packages/numpy/lib/function_base.py:4529: RuntimeWarning: invalid value encountered in multiply\n",
      "  lerp_interpolation = asanyarray(add(a, diff_b_a * t, out=out))\n"
     ]
    },
    {
     "data": {
      "image/png": "[encoded data removed]",
      "text/plain": [
       "<Figure size 1000x600 with 2 Axes>"
      ]
     },
     "metadata": {},
     "output_type": "display_data"
    }
   ],
   "source": [
    "import matplotlib.pyplot as plt\n",
    "import seaborn as sns\n",
    "\n",
    "# Random sample data from malicious and benign\n",
    "data = {\n",
    "    \"malicious_traffic_ratio\": mirai_traffic_df[\"traffic_ratio\"].sample(n = 5, random_state = 42),\n",
    "    \"benign_traffic_ratio\": benign_traffic_df[\"traffic_ratio\"].sample(n = 5, random_state = 42),\n",
    "}\n",
    "\n",
    "df = pd.DataFrame(data)\n",
    "\n",
    "# Plotting using matplotlib and seaborn\n",
    "plt.figure(figsize=(10, 6))\n",
    "\n",
    "# Scatter plot\n",
    "plt.subplot(1, 2, 1)\n",
    "sns.scatterplot(data=df)\n",
    "plt.title(\"Scatter Plot\")\n",
    "\n",
    "# Box plot\n",
    "plt.subplot(1, 2, 2)\n",
    "sns.boxplot(data=df)\n",
    "plt.title(\"Box Plot\")\n",
    "\n",
    "# Show the plots\n",
    "plt.tight_layout()\n",
    "plt.show()"
   ]
  },
  {
   "cell_type": "markdown",
   "metadata": {},
   "source": [
    "# Cumulative"
   ]
  },
  {
   "cell_type": "code",
   "execution_count": 21,
   "metadata": {},
   "outputs": [],
   "source": [
    "# create a cumulative sum of packet lengths per source IP\n",
    "mirai_df['cumulative_length'] = mirai_df.groupby('Source IP')['Packet Length'].cumsum()"
   ]
  },
  {
   "cell_type": "code",
   "execution_count": 22,
   "metadata": {},
   "outputs": [
    {
     "data": {
      "text/html": [
       "<div>\n",
       "<style scoped>\n",
       "    .dataframe tbody tr th:only-of-type {\n",
       "        vertical-align: middle;\n",
       "    }\n",
       "\n",
       "    .dataframe tbody tr th {\n",
       "        vertical-align: top;\n",
       "    }\n",
       "\n",
       "    .dataframe thead th {\n",
       "        text-align: right;\n",
       "    }\n",
       "</style>\n",
       "<table border=\"1\" class=\"dataframe\">\n",
       "  <thead>\n",
       "    <tr style=\"text-align: right;\">\n",
       "      <th></th>\n",
       "      <th>Timestamp</th>\n",
       "      <th>Source IP</th>\n",
       "      <th>Destination IP</th>\n",
       "      <th>Source Port</th>\n",
       "      <th>Destination Port</th>\n",
       "      <th>Payload</th>\n",
       "      <th>Packet Length</th>\n",
       "      <th>Protocol</th>\n",
       "      <th>cumulative_length</th>\n",
       "    </tr>\n",
       "  </thead>\n",
       "  <tbody>\n",
       "    <tr>\n",
       "      <th>0</th>\n",
       "      <td>1540446382.933899</td>\n",
       "      <td>192.168.2.108</td>\n",
       "      <td>52.24.43.67</td>\n",
       "      <td>21074.0</td>\n",
       "      <td>80.0</td>\n",
       "      <td>Padding</td>\n",
       "      <td>26</td>\n",
       "      <td>6.0</td>\n",
       "      <td>26</td>\n",
       "    </tr>\n",
       "    <tr>\n",
       "      <th>1</th>\n",
       "      <td>1540446382.933904</td>\n",
       "      <td>192.168.2.108</td>\n",
       "      <td>52.25.66.250</td>\n",
       "      <td>20532.0</td>\n",
       "      <td>8280.0</td>\n",
       "      <td>Padding</td>\n",
       "      <td>26</td>\n",
       "      <td>6.0</td>\n",
       "      <td>52</td>\n",
       "    </tr>\n",
       "    <tr>\n",
       "      <th>7</th>\n",
       "      <td>1540446383.391651</td>\n",
       "      <td>192.168.2.115</td>\n",
       "      <td>192.168.2.1</td>\n",
       "      <td>2440.0</td>\n",
       "      <td>53.0</td>\n",
       "      <td>DNS Qry \"b'xmpp.samsungsmartcam.com.Speedport_...</td>\n",
       "      <td>83</td>\n",
       "      <td>17.0</td>\n",
       "      <td>83</td>\n",
       "    </tr>\n",
       "    <tr>\n",
       "      <th>8</th>\n",
       "      <td>1540446383.393709</td>\n",
       "      <td>192.168.2.1</td>\n",
       "      <td>192.168.2.115</td>\n",
       "      <td>53.0</td>\n",
       "      <td>2440.0</td>\n",
       "      <td>DNS Ans</td>\n",
       "      <td>83</td>\n",
       "      <td>17.0</td>\n",
       "      <td>83</td>\n",
       "    </tr>\n",
       "    <tr>\n",
       "      <th>9</th>\n",
       "      <td>1540446383.435821</td>\n",
       "      <td>192.168.2.108</td>\n",
       "      <td>52.24.43.67</td>\n",
       "      <td>21074.0</td>\n",
       "      <td>80.0</td>\n",
       "      <td>Padding</td>\n",
       "      <td>26</td>\n",
       "      <td>6.0</td>\n",
       "      <td>78</td>\n",
       "    </tr>\n",
       "  </tbody>\n",
       "</table>\n",
       "</div>"
      ],
      "text/plain": [
       "           Timestamp      Source IP Destination IP  Source Port  \\\n",
       "0  1540446382.933899  192.168.2.108    52.24.43.67      21074.0   \n",
       "1  1540446382.933904  192.168.2.108   52.25.66.250      20532.0   \n",
       "7  1540446383.391651  192.168.2.115    192.168.2.1       2440.0   \n",
       "8  1540446383.393709    192.168.2.1  192.168.2.115         53.0   \n",
       "9  1540446383.435821  192.168.2.108    52.24.43.67      21074.0   \n",
       "\n",
       "   Destination Port                                            Payload  \\\n",
       "0              80.0                                            Padding   \n",
       "1            8280.0                                            Padding   \n",
       "7              53.0  DNS Qry \"b'xmpp.samsungsmartcam.com.Speedport_...   \n",
       "8            2440.0                                           DNS Ans    \n",
       "9              80.0                                            Padding   \n",
       "\n",
       "   Packet Length  Protocol  cumulative_length  \n",
       "0             26       6.0                 26  \n",
       "1             26       6.0                 52  \n",
       "7             83      17.0                 83  \n",
       "8             83      17.0                 83  \n",
       "9             26       6.0                 78  "
      ]
     },
     "execution_count": 22,
     "metadata": {},
     "output_type": "execute_result"
    }
   ],
   "source": [
    "mirai_df.head()"
   ]
  },
  {
   "cell_type": "code",
   "execution_count": 23,
   "metadata": {},
   "outputs": [],
   "source": [
    "# create a cumulative sum of packet lengths per source IP\n",
    "benign_df[\"cumulative_length\"] = benign_df.groupby(\"Source IP\")[\"Packet Length\"].cumsum()"
   ]
  },
  {
   "cell_type": "code",
   "execution_count": 24,
   "metadata": {},
   "outputs": [
    {
     "data": {
      "text/html": [
       "<div>\n",
       "<style scoped>\n",
       "    .dataframe tbody tr th:only-of-type {\n",
       "        vertical-align: middle;\n",
       "    }\n",
       "\n",
       "    .dataframe tbody tr th {\n",
       "        vertical-align: top;\n",
       "    }\n",
       "\n",
       "    .dataframe thead th {\n",
       "        text-align: right;\n",
       "    }\n",
       "</style>\n",
       "<table border=\"1\" class=\"dataframe\">\n",
       "  <thead>\n",
       "    <tr style=\"text-align: right;\">\n",
       "      <th></th>\n",
       "      <th>Timestamp</th>\n",
       "      <th>Source IP</th>\n",
       "      <th>Destination IP</th>\n",
       "      <th>Source Port</th>\n",
       "      <th>Destination Port</th>\n",
       "      <th>Payload</th>\n",
       "      <th>Packet Length</th>\n",
       "      <th>Protocol</th>\n",
       "      <th>cumulative_length</th>\n",
       "    </tr>\n",
       "  </thead>\n",
       "  <tbody>\n",
       "    <tr>\n",
       "      <th>4</th>\n",
       "      <td>1355253962.658551</td>\n",
       "      <td>10.0.0.1</td>\n",
       "      <td>224.0.0.2</td>\n",
       "      <td>646.0</td>\n",
       "      <td>646.0</td>\n",
       "      <td>Raw</td>\n",
       "      <td>42</td>\n",
       "      <td>17.0</td>\n",
       "      <td>42</td>\n",
       "    </tr>\n",
       "    <tr>\n",
       "      <th>5</th>\n",
       "      <td>1355253962.658551</td>\n",
       "      <td>10.0.0.1</td>\n",
       "      <td>224.0.0.2</td>\n",
       "      <td>646.0</td>\n",
       "      <td>646.0</td>\n",
       "      <td>Raw</td>\n",
       "      <td>42</td>\n",
       "      <td>17.0</td>\n",
       "      <td>84</td>\n",
       "    </tr>\n",
       "    <tr>\n",
       "      <th>6</th>\n",
       "      <td>1355253962.845551</td>\n",
       "      <td>10.0.0.2</td>\n",
       "      <td>224.0.0.2</td>\n",
       "      <td>646.0</td>\n",
       "      <td>646.0</td>\n",
       "      <td>Raw</td>\n",
       "      <td>42</td>\n",
       "      <td>17.0</td>\n",
       "      <td>42</td>\n",
       "    </tr>\n",
       "    <tr>\n",
       "      <th>7</th>\n",
       "      <td>1355253962.845551</td>\n",
       "      <td>10.0.0.2</td>\n",
       "      <td>224.0.0.2</td>\n",
       "      <td>646.0</td>\n",
       "      <td>646.0</td>\n",
       "      <td>Raw</td>\n",
       "      <td>42</td>\n",
       "      <td>17.0</td>\n",
       "      <td>84</td>\n",
       "    </tr>\n",
       "    <tr>\n",
       "      <th>26</th>\n",
       "      <td>1355253966.932551</td>\n",
       "      <td>10.0.0.2</td>\n",
       "      <td>224.0.0.2</td>\n",
       "      <td>646.0</td>\n",
       "      <td>646.0</td>\n",
       "      <td>Raw</td>\n",
       "      <td>42</td>\n",
       "      <td>17.0</td>\n",
       "      <td>126</td>\n",
       "    </tr>\n",
       "  </tbody>\n",
       "</table>\n",
       "</div>"
      ],
      "text/plain": [
       "            Timestamp Source IP Destination IP  Source Port  Destination Port  \\\n",
       "4   1355253962.658551  10.0.0.1      224.0.0.2        646.0             646.0   \n",
       "5   1355253962.658551  10.0.0.1      224.0.0.2        646.0             646.0   \n",
       "6   1355253962.845551  10.0.0.2      224.0.0.2        646.0             646.0   \n",
       "7   1355253962.845551  10.0.0.2      224.0.0.2        646.0             646.0   \n",
       "26  1355253966.932551  10.0.0.2      224.0.0.2        646.0             646.0   \n",
       "\n",
       "   Payload  Packet Length  Protocol  cumulative_length  \n",
       "4      Raw             42      17.0                 42  \n",
       "5      Raw             42      17.0                 84  \n",
       "6      Raw             42      17.0                 42  \n",
       "7      Raw             42      17.0                 84  \n",
       "26     Raw             42      17.0                126  "
      ]
     },
     "execution_count": 24,
     "metadata": {},
     "output_type": "execute_result"
    }
   ],
   "source": [
    "benign_df.head()"
   ]
  },
  {
   "cell_type": "markdown",
   "metadata": {},
   "source": [
    "# Derivative & Log transform"
   ]
  },
  {
   "cell_type": "code",
   "execution_count": 30,
   "metadata": {},
   "outputs": [],
   "source": [
    "def interarrival(df):\n",
    "    columns = [\"interarrival\"]\n",
    "    new_df = pd.DataFrame(columns=columns)\n",
    "    # Calculate interarrivals\n",
    "    new_df[\"interarrival\"] = df[\"Timestamp\"].diff()\n",
    "\n",
    "    return new_df\n",
    "\n",
    "\n",
    "mirai_interarrival = interarrival(mirai_df)"
   ]
  },
  {
   "cell_type": "code",
   "execution_count": 31,
   "metadata": {},
   "outputs": [],
   "source": [
    "mirai_interarrival[\"log_interarrival\"] = np.log1p(mirai_interarrival[\"interarrival\"].astype(float))"
   ]
  },
  {
   "cell_type": "code",
   "execution_count": 38,
   "metadata": {},
   "outputs": [],
   "source": [
    "mirai_interarrival = mirai_interarrival.drop(0)\n",
    "mirai_interarrival = mirai_interarrival.reset_index(drop=True)"
   ]
  },
  {
   "cell_type": "code",
   "execution_count": 39,
   "metadata": {},
   "outputs": [
    {
     "data": {
      "text/html": [
       "<div>\n",
       "<style scoped>\n",
       "    .dataframe tbody tr th:only-of-type {\n",
       "        vertical-align: middle;\n",
       "    }\n",
       "\n",
       "    .dataframe tbody tr th {\n",
       "        vertical-align: top;\n",
       "    }\n",
       "\n",
       "    .dataframe thead th {\n",
       "        text-align: right;\n",
       "    }\n",
       "</style>\n",
       "<table border=\"1\" class=\"dataframe\">\n",
       "  <thead>\n",
       "    <tr style=\"text-align: right;\">\n",
       "      <th></th>\n",
       "      <th>interarrival</th>\n",
       "      <th>log_interarrival</th>\n",
       "    </tr>\n",
       "  </thead>\n",
       "  <tbody>\n",
       "    <tr>\n",
       "      <th>0</th>\n",
       "      <td>0.000005</td>\n",
       "      <td>0.000005</td>\n",
       "    </tr>\n",
       "    <tr>\n",
       "      <th>1</th>\n",
       "      <td>0.457747</td>\n",
       "      <td>0.376892</td>\n",
       "    </tr>\n",
       "    <tr>\n",
       "      <th>2</th>\n",
       "      <td>0.002058</td>\n",
       "      <td>0.002056</td>\n",
       "    </tr>\n",
       "    <tr>\n",
       "      <th>3</th>\n",
       "      <td>0.042112</td>\n",
       "      <td>0.041249</td>\n",
       "    </tr>\n",
       "    <tr>\n",
       "      <th>4</th>\n",
       "      <td>0.000063</td>\n",
       "      <td>0.000063</td>\n",
       "    </tr>\n",
       "  </tbody>\n",
       "</table>\n",
       "</div>"
      ],
      "text/plain": [
       "  interarrival  log_interarrival\n",
       "0     0.000005          0.000005\n",
       "1     0.457747          0.376892\n",
       "2     0.002058          0.002056\n",
       "3     0.042112          0.041249\n",
       "4     0.000063          0.000063"
      ]
     },
     "execution_count": 39,
     "metadata": {},
     "output_type": "execute_result"
    }
   ],
   "source": [
    "mirai_interarrival.head()"
   ]
  },
  {
   "cell_type": "code",
   "execution_count": 34,
   "metadata": {},
   "outputs": [],
   "source": [
    "import matplotlib.pyplot as plt\n",
    "\n",
    "def plot_interarrival(df):\n",
    "    # Plot the three lines\n",
    "    plt.plot(df['interarrival'], label='Interarrival')\n",
    "    plt.plot(df['log_interarrival'], label='Log Interarrival')\n",
    "\n",
    "    # Add labels and legend\n",
    "    plt.xlabel('Index')\n",
    "    plt.ylabel('Values')\n",
    "    plt.legend()\n",
    "\n",
    "    # Show the plot\n",
    "    plt.show()\n"
   ]
  },
  {
   "cell_type": "code",
   "execution_count": 36,
   "metadata": {},
   "outputs": [
    {
     "data": {
      "image/png": "[encoded data removed]",
      "text/plain": [
       "<Figure size 640x480 with 1 Axes>"
      ]
     },
     "metadata": {},
     "output_type": "display_data"
    }
   ],
   "source": [
    "plot_interarrival(mirai_interarrival.sample(n=10, random_state=11))"
   ]
  },
  {
   "cell_type": "code",
   "execution_count": 46,
   "metadata": {},
   "outputs": [
    {
     "data": {
      "text/plain": [
       "(array([9.7613e+04, 6.4640e+03, 5.0300e+03, 4.7610e+03, 4.1000e+03,\n",
       "        3.5450e+03, 3.0970e+03, 2.8160e+03, 2.4890e+03, 2.5160e+03,\n",
       "        2.1750e+03, 1.7350e+03, 1.5850e+03, 1.4380e+03, 1.2600e+03,\n",
       "        1.1890e+03, 1.0950e+03, 9.6400e+02, 8.9200e+02, 8.5200e+02,\n",
       "        8.2300e+02, 7.0200e+02, 6.4300e+02, 5.9400e+02, 5.1900e+02,\n",
       "        5.1100e+02, 4.5300e+02, 4.1500e+02, 3.8400e+02, 3.3200e+02,\n",
       "        3.0300e+02, 2.7200e+02, 2.4300e+02, 2.2000e+02, 2.3500e+02,\n",
       "        1.8900e+02, 1.7500e+02, 1.5000e+02, 1.5700e+02, 1.3300e+02,\n",
       "        1.1100e+02, 1.1400e+02, 2.7700e+02, 5.0000e+01, 5.0000e+01,\n",
       "        3.9000e+01, 4.1000e+01, 3.2000e+01, 2.2000e+01, 3.0000e+01,\n",
       "        1.8000e+01, 1.9000e+01, 1.5000e+01, 1.9000e+01, 1.3000e+01,\n",
       "        1.1000e+01, 1.6000e+01, 1.3000e+01, 1.3000e+01, 1.2000e+01,\n",
       "        9.0000e+00, 1.7000e+01, 1.0000e+01, 5.0000e+00, 7.0000e+00,\n",
       "        8.0000e+00, 3.0000e+00, 3.0000e+00, 3.0000e+00, 4.0000e+00,\n",
       "        3.0000e+00, 2.0000e+00, 2.0000e+00, 4.0000e+00, 4.0000e+00,\n",
       "        2.0000e+00, 2.0000e+00, 1.0000e+00, 1.0000e+00, 2.0000e+00,\n",
       "        2.0000e+00, 3.0000e+00, 1.0000e+00, 2.0000e+00, 2.0000e+00,\n",
       "        1.0000e+00, 0.0000e+00, 1.0000e+00, 0.0000e+00, 0.0000e+00,\n",
       "        0.0000e+00, 0.0000e+00, 0.0000e+00, 0.0000e+00, 0.0000e+00,\n",
       "        0.0000e+00, 0.0000e+00, 0.0000e+00, 0.0000e+00, 1.0000e+00]),\n",
       " array([-2.69000000e-04,  1.15008900e-02,  2.32707800e-02,  3.50406700e-02,\n",
       "         4.68105600e-02,  5.85804500e-02,  7.03503400e-02,  8.21202300e-02,\n",
       "         9.38901200e-02,  1.05660010e-01,  1.17429900e-01,  1.29199790e-01,\n",
       "         1.40969680e-01,  1.52739570e-01,  1.64509460e-01,  1.76279350e-01,\n",
       "         1.88049240e-01,  1.99819130e-01,  2.11589020e-01,  2.23358910e-01,\n",
       "         2.35128800e-01,  2.46898690e-01,  2.58668580e-01,  2.70438470e-01,\n",
       "         2.82208360e-01,  2.93978250e-01,  3.05748140e-01,  3.17518030e-01,\n",
       "         3.29287920e-01,  3.41057810e-01,  3.52827700e-01,  3.64597590e-01,\n",
       "         3.76367480e-01,  3.88137370e-01,  3.99907260e-01,  4.11677150e-01,\n",
       "         4.23447040e-01,  4.35216930e-01,  4.46986820e-01,  4.58756710e-01,\n",
       "         4.70526600e-01,  4.82296490e-01,  4.94066380e-01,  5.05836270e-01,\n",
       "         5.17606160e-01,  5.29376050e-01,  5.41145940e-01,  5.52915830e-01,\n",
       "         5.64685720e-01,  5.76455610e-01,  5.88225500e-01,  5.99995390e-01,\n",
       "         6.11765280e-01,  6.23535170e-01,  6.35305060e-01,  6.47074950e-01,\n",
       "         6.58844840e-01,  6.70614730e-01,  6.82384620e-01,  6.94154510e-01,\n",
       "         7.05924400e-01,  7.17694290e-01,  7.29464180e-01,  7.41234070e-01,\n",
       "         7.53003960e-01,  7.64773850e-01,  7.76543740e-01,  7.88313630e-01,\n",
       "         8.00083520e-01,  8.11853410e-01,  8.23623300e-01,  8.35393190e-01,\n",
       "         8.47163080e-01,  8.58932970e-01,  8.70702860e-01,  8.82472750e-01,\n",
       "         8.94242640e-01,  9.06012530e-01,  9.17782420e-01,  9.29552310e-01,\n",
       "         9.41322200e-01,  9.53092090e-01,  9.64861980e-01,  9.76631870e-01,\n",
       "         9.88401760e-01,  1.00017165e+00,  1.01194154e+00,  1.02371143e+00,\n",
       "         1.03548132e+00,  1.04725121e+00,  1.05902110e+00,  1.07079099e+00,\n",
       "         1.08256088e+00,  1.09433077e+00,  1.10610066e+00,  1.11787055e+00,\n",
       "         1.12964044e+00,  1.14141033e+00,  1.15318022e+00,  1.16495011e+00,\n",
       "         1.17672000e+00]),\n",
       " <BarContainer object of 100 artists>)"
      ]
     },
     "execution_count": 46,
     "metadata": {},
     "output_type": "execute_result"
    },
    {
     "data": {
      "image/png": "[encoded data removed]",
      "text/plain": [
       "<Figure size 640x480 with 1 Axes>"
      ]
     },
     "metadata": {},
     "output_type": "display_data"
    }
   ],
   "source": [
    "plt.hist(mirai_interarrival['interarrival'], bins=100, color='blue', edgecolor='black')"
   ]
  },
  {
   "cell_type": "code",
   "execution_count": 47,
   "metadata": {},
   "outputs": [
    {
     "data": {
      "text/plain": [
       "(array([9.3722e+04, 6.4030e+03, 3.9780e+03, 3.5260e+03, 3.1720e+03,\n",
       "        3.3810e+03, 2.8900e+03, 2.6430e+03, 2.2900e+03, 2.2350e+03,\n",
       "        2.0740e+03, 1.8920e+03, 1.8120e+03, 1.8900e+03, 1.7420e+03,\n",
       "        1.4560e+03, 1.2570e+03, 1.2410e+03, 1.0900e+03, 1.0800e+03,\n",
       "        9.4900e+02, 9.3000e+02, 9.0400e+02, 8.0300e+02, 7.2100e+02,\n",
       "        7.2400e+02, 6.8200e+02, 7.0800e+02, 6.0100e+02, 5.7000e+02,\n",
       "        5.1800e+02, 5.0000e+02, 4.4500e+02, 4.3100e+02, 4.1200e+02,\n",
       "        3.7800e+02, 3.5600e+02, 3.3100e+02, 2.8400e+02, 2.7800e+02,\n",
       "        2.4900e+02, 2.2800e+02, 2.0400e+02, 2.0300e+02, 2.0500e+02,\n",
       "        1.7200e+02, 1.4900e+02, 1.4400e+02, 1.4700e+02, 1.1200e+02,\n",
       "        1.0000e+02, 1.5200e+02, 2.2900e+02, 4.2000e+01, 4.7000e+01,\n",
       "        3.7000e+01, 4.4000e+01, 3.2000e+01, 2.3000e+01, 2.4000e+01,\n",
       "        2.3000e+01, 1.7000e+01, 2.1000e+01, 1.5000e+01, 1.1000e+01,\n",
       "        1.7000e+01, 1.4000e+01, 1.4000e+01, 1.3000e+01, 1.5000e+01,\n",
       "        1.5000e+01, 7.0000e+00, 8.0000e+00, 9.0000e+00, 3.0000e+00,\n",
       "        2.0000e+00, 5.0000e+00, 5.0000e+00, 2.0000e+00, 5.0000e+00,\n",
       "        4.0000e+00, 2.0000e+00, 3.0000e+00, 2.0000e+00, 1.0000e+00,\n",
       "        3.0000e+00, 3.0000e+00, 3.0000e+00, 2.0000e+00, 1.0000e+00,\n",
       "        1.0000e+00, 0.0000e+00, 0.0000e+00, 0.0000e+00, 0.0000e+00,\n",
       "        0.0000e+00, 0.0000e+00, 0.0000e+00, 0.0000e+00, 1.0000e+00]),\n",
       " array([-2.69036187e-04,  7.51184574e-03,  1.52927277e-02,  2.30736096e-02,\n",
       "         3.08544915e-02,  3.86353735e-02,  4.64162554e-02,  5.41971373e-02,\n",
       "         6.19780192e-02,  6.97589012e-02,  7.75397831e-02,  8.53206650e-02,\n",
       "         9.31015469e-02,  1.00882429e-01,  1.08663311e-01,  1.16444193e-01,\n",
       "         1.24225075e-01,  1.32005957e-01,  1.39786839e-01,  1.47567720e-01,\n",
       "         1.55348602e-01,  1.63129484e-01,  1.70910366e-01,  1.78691248e-01,\n",
       "         1.86472130e-01,  1.94253012e-01,  2.02033894e-01,  2.09814776e-01,\n",
       "         2.17595658e-01,  2.25376540e-01,  2.33157422e-01,  2.40938304e-01,\n",
       "         2.48719186e-01,  2.56500067e-01,  2.64280949e-01,  2.72061831e-01,\n",
       "         2.79842713e-01,  2.87623595e-01,  2.95404477e-01,  3.03185359e-01,\n",
       "         3.10966241e-01,  3.18747123e-01,  3.26528005e-01,  3.34308887e-01,\n",
       "         3.42089769e-01,  3.49870651e-01,  3.57651533e-01,  3.65432414e-01,\n",
       "         3.73213296e-01,  3.80994178e-01,  3.88775060e-01,  3.96555942e-01,\n",
       "         4.04336824e-01,  4.12117706e-01,  4.19898588e-01,  4.27679470e-01,\n",
       "         4.35460352e-01,  4.43241234e-01,  4.51022116e-01,  4.58802998e-01,\n",
       "         4.66583879e-01,  4.74364761e-01,  4.82145643e-01,  4.89926525e-01,\n",
       "         4.97707407e-01,  5.05488289e-01,  5.13269171e-01,  5.21050053e-01,\n",
       "         5.28830935e-01,  5.36611817e-01,  5.44392699e-01,  5.52173581e-01,\n",
       "         5.59954463e-01,  5.67735345e-01,  5.75516226e-01,  5.83297108e-01,\n",
       "         5.91077990e-01,  5.98858872e-01,  6.06639754e-01,  6.14420636e-01,\n",
       "         6.22201518e-01,  6.29982400e-01,  6.37763282e-01,  6.45544164e-01,\n",
       "         6.53325046e-01,  6.61105928e-01,  6.68886810e-01,  6.76667692e-01,\n",
       "         6.84448573e-01,  6.92229455e-01,  7.00010337e-01,  7.07791219e-01,\n",
       "         7.15572101e-01,  7.23352983e-01,  7.31133865e-01,  7.38914747e-01,\n",
       "         7.46695629e-01,  7.54476511e-01,  7.62257393e-01,  7.70038275e-01,\n",
       "         7.77819157e-01]),\n",
       " <BarContainer object of 100 artists>)"
      ]
     },
     "execution_count": 47,
     "metadata": {},
     "output_type": "execute_result"
    },
    {
     "data": {
      "image/png": "[encoded data removed]",
      "text/plain": [
       "<Figure size 640x480 with 1 Axes>"
      ]
     },
     "metadata": {},
     "output_type": "display_data"
    }
   ],
   "source": [
    "plt.hist(mirai_interarrival[\"log_interarrival\"], bins=100, color=\"red\", edgecolor=\"black\")"
   ]
  },
  {
   "cell_type": "markdown",
   "metadata": {},
   "source": [
    "# Log transformation example\n",
    "Below there is a random number example that demonstrates the smoothening achieved by log transformation."
   ]
  },
  {
   "cell_type": "code",
   "execution_count": 44,
   "metadata": {},
   "outputs": [
    {
     "data": {
      "image/png": "[encoded data removed]",
      "text/plain": [
       "<Figure size 1200x600 with 2 Axes>"
      ]
     },
     "metadata": {},
     "output_type": "display_data"
    }
   ],
   "source": [
    "# Set a seed for reproducibility\n",
    "np.random.seed(42)\n",
    "\n",
    "# Generate long-tail interarrival rates\n",
    "interarrival_rates = np.random.exponential(scale=1.0, size=1000)\n",
    "long_tail_values = np.concatenate(\n",
    "    (interarrival_rates, np.random.exponential(scale=10.0, size=50))\n",
    ")\n",
    "\n",
    "# Plot the original distribution\n",
    "plt.figure(figsize=(12, 6))\n",
    "\n",
    "plt.subplot(1, 2, 1)\n",
    "plt.hist(interarrival_rates, bins=50, color=\"blue\", edgecolor=\"black\")\n",
    "plt.title(\"Original Interarrival Rates Distribution\")\n",
    "\n",
    "# Plot the long-tail distribution\n",
    "plt.subplot(1, 2, 2)\n",
    "plt.hist(long_tail_values, bins=50, color=\"red\", edgecolor=\"black\")\n",
    "plt.title(\"Long Tail Interarrival Rates Distribution\")\n",
    "\n",
    "plt.tight_layout()\n",
    "plt.show()"
   ]
  },
  {
   "cell_type": "code",
   "execution_count": 45,
   "metadata": {},
   "outputs": [
    {
     "data": {
      "image/png": "[encoded data removed]",
      "text/plain": [
       "<Figure size 800x600 with 1 Axes>"
      ]
     },
     "metadata": {},
     "output_type": "display_data"
    }
   ],
   "source": [
    "# Apply a log transform\n",
    "log_long_tail_values = np.log(long_tail_values)\n",
    "\n",
    "# Plot the log-transformed distribution\n",
    "plt.figure(figsize=(8, 6))\n",
    "\n",
    "plt.hist(log_long_tail_values, bins=50, color=\"green\", edgecolor=\"black\")\n",
    "plt.title(\"Log-Transformed Interarrival Rates Distribution\")\n",
    "\n",
    "plt.show()"
   ]
  },
  {
   "cell_type": "markdown",
   "metadata": {},
   "source": [
    "# ipaddress"
   ]
  },
  {
   "cell_type": "code",
   "execution_count": 48,
   "metadata": {},
   "outputs": [],
   "source": [
    "def ip_to_numeric(ip):\n",
    "    ip_obj = ipaddress.ip_interface(ip)\n",
    "    return int(ip_obj.network.network_address)"
   ]
  },
  {
   "cell_type": "code",
   "execution_count": 51,
   "metadata": {},
   "outputs": [],
   "source": [
    "def generate_random_ips(num_ips):\n",
    "    ips = []\n",
    "\n",
    "    # Define a list of public IP ranges and private IP ranges\n",
    "    public_ranges = [ipaddress.IPv4Network('8.8.8.0/24'), ipaddress.IPv4Network('203.0.113.0/24'), ipaddress.IPv4Network('42.42.0.0/16')]\n",
    "    private_ranges = [ipaddress.IPv4Network('192.168.1.0/24'), ipaddress.IPv4Network('10.0.0.0/8'), ipaddress.IPv4Network('172.16.0.0/12')]\n",
    "\n",
    "    # Add at least two IP addresses from the same private subnet\n",
    "    private_subnet = random.choice(private_ranges)\n",
    "    ips.append(str(private_subnet.network_address))\n",
    "    ips.append(str(private_subnet.network_address + 1))\n",
    "\n",
    "    # Generate the remaining random IP addresses\n",
    "    for _ in range(num_ips - 2):\n",
    "        if random.choice([True, False]):\n",
    "            # Choose a random public IP\n",
    "            ip = str(random.choice(public_ranges).network_address + random.randint(0, 255))\n",
    "        else:\n",
    "            # Choose a random private IP\n",
    "            ip = str(random.choice(private_ranges).network_address + random.randint(0, 255))\n",
    "\n",
    "        ips.append(ip)\n",
    "\n",
    "    return ips\n",
    "\n",
    "# Generate a list of 100 random IPs\n",
    "random_ips = generate_random_ips(10)\n"
   ]
  },
  {
   "cell_type": "code",
   "execution_count": 52,
   "metadata": {},
   "outputs": [
    {
     "name": "stdout",
     "output_type": "stream",
     "text": [
      "10.0.0.0 -> 167772160\n",
      "10.0.0.1 -> 167772161\n",
      "42.42.0.236 -> 707395820\n",
      "42.42.0.201 -> 707395785\n",
      "192.168.1.177 -> 3232235953\n",
      "192.168.1.108 -> 3232235884\n",
      "172.16.0.178 -> 2886729906\n",
      "192.168.1.49 -> 3232235825\n",
      "192.168.1.77 -> 3232235853\n",
      "8.8.8.197 -> 134744261\n"
     ]
    }
   ],
   "source": [
    "for ip in random_ips:\n",
    "    print(f\"{ip} -> {ip_to_numeric(ip)}\")"
   ]
  }
 ],
 "metadata": {
  "kernelspec": {
   "display_name": ".venv",
   "language": "python",
   "name": "python3"
  },
  "language_info": {
   "codemirror_mode": {
    "name": "ipython",
    "version": 3
   },
   "file_extension": ".py",
   "mimetype": "text/x-python",
   "name": "python",
   "nbconvert_exporter": "python",
   "pygments_lexer": "ipython3",
   "version": "3.10.6"
  }
 },
 "nbformat": 4,
 "nbformat_minor": 2
}
