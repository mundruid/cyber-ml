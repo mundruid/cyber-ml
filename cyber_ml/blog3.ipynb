{
 "cells": [
  {
   "cell_type": "code",
   "execution_count": null,
   "metadata": {},
   "outputs": [],
   "source": [
    "from syslogmp import parse\n",
    "\n",
    "def load_syslog(log_message: str) -> dict:\n",
    "    message = parse(log_message)\n",
    "\n",
    "    return {\n",
    "        'timestamp': message.timestamp,\n",
    "        'hostname': message.hostname,\n",
    "        'message': message.message,\n",
    "    }\n",
    "\n",
    "# Example usage:\n",
    "log_message = bytes('<133>Feb 25 14:09:07 webserver syslogd: restart', 'utf-8')\n",
    "log_data = load_syslog(log_message)\n",
    "print(log_data)\n"
   ]
  },
  {
   "cell_type": "code",
   "execution_count": null,
   "metadata": {},
   "outputs": [],
   "source": [
    "import re\n",
    "\n",
    "def process_syslog(log_message):\n",
    "    log_regex = r'^(\\w{3}\\s\\d{1,2}\\s\\d{2}:\\d{2}:\\d{2})\\s(\\S+)\\s(\\S+):\\s\\[(\\d+)\\]\\s(.*)$'\n",
    "    # The above regex pattern captures the following groups:\n",
    "    # 1. Timestamp\n",
    "    # 2. Hostname\n",
    "    # 3. Application\n",
    "    # 4. PID\n",
    "    # 5. Message\n",
    "\n",
    "    match = re.match(log_regex, log_message)\n",
    "    if not match:\n",
    "        return None\n",
    "\n",
    "    timestamp = match.group(1)\n",
    "    hostname = match.group(2)\n",
    "    application = match.group(3)\n",
    "    pid = int(match.group(4))\n",
    "    message = match.group(5)\n",
    "\n",
    "    return {\n",
    "        'timestamp': timestamp,\n",
    "        'hostname': hostname,\n",
    "        'application': application,\n",
    "        'pid': pid,\n",
    "        'message': message,\n",
    "    }\n",
    "\n",
    "# Example usage:\n",
    "log_message = 'Feb 28 14:21:30 example-hostname kernel: [12345] This is a log message'\n",
    "log_data = process_syslog(log_message)\n",
    "print(log_data)\n"
   ]
  },
  {
   "cell_type": "code",
   "execution_count": null,
   "metadata": {},
   "outputs": [],
   "source": [
    "import tldextract\n",
    "import pandas as pd\n",
    "\n",
    "legit_domains = pd.read_csv(\"../data/blog3/top-1m.csv\", names=[\"domain\"])\n",
    "legit_domains[\"tld\"] = [tldextract.extract(d).domain for d in legit_domains[\"domain\"]]\n",
    "legit_domains"
   ]
  },
  {
   "cell_type": "code",
   "execution_count": null,
   "metadata": {},
   "outputs": [],
   "source": [
    "import urlextract\n",
    "\n",
    "# Create an instance of URLExtract class\n",
    "url_extractor = urlextract.URLExtract()\n",
    "\n",
    "# Sample text containing URLs to be extracted\n",
    "text_with_urls = \"www.googleadservices.com: type A, class IN, addr 142.251.32.194\"\n",
    "\n",
    "# Extract URLs from the given text\n",
    "extracted_urls = url_extractor.find_urls(text_with_urls)\n",
    "\n",
    "print(\"Extracted URLs: \", extracted_urls)"
   ]
  },
  {
   "cell_type": "code",
   "execution_count": null,
   "metadata": {},
   "outputs": [],
   "source": [
    "import pandas as pd\n",
    "\n",
    "mirai_data = pd.read_csv(\"../data/blog3/mirai.csv\")\n"
   ]
  },
  {
   "cell_type": "code",
   "execution_count": 5,
   "metadata": {},
   "outputs": [],
   "source": [
    "from scapy.all import rdpcap"
   ]
  },
  {
   "cell_type": "code",
   "execution_count": null,
   "metadata": {},
   "outputs": [],
   "source": [
    "pcap = rdpcap(\"../data/blog3/2023-01-23-Google-ad-to-possible-TA505-activity.pcap\")\n",
    "type(pcap)"
   ]
  },
  {
   "cell_type": "code",
   "execution_count": 8,
   "metadata": {},
   "outputs": [
    {
     "name": "stdout",
     "output_type": "stream",
     "text": [
      "GET /download/AnyDeskSetup_26b30163.msi HTTP/1.1\n",
      "Host: anydeskcloud.tech\n",
      "Connection: keep-alive\n",
      "Upgrade-Insecure-Requests: 1\n",
      "User-Agent: Mozilla/5.0 (Windows NT 10.0; Win64; x64) AppleWebKit/537.36 (KHTML, like Gecko) Chrome/109.0.0.0 Safari/537.36 Edg/109.0.1518.55\n",
      "Accept: text/html,application/xhtml+xml,application/xml;q=0.9,image/webp,image/apng,*/*;q=0.8,application/signed-exchange;v=b3;q=0.9\n",
      "Accept-Encoding: gzip, deflate\n",
      "Accept-Language: en\n",
      "\n",
      "\n",
      "{'timestamp': '1674496371.956557', 'source_ip': '10.1.23.101', 'dest_ip': '191.101.13.129', 'source_port': 49845, 'dest_port': 80, 'method': 'GET', 'path': '/download/AnyDeskSetup_26b30163.msi', 'query_string': '', 'protocol': 'HTTP/1.1', 'headers': {'Host': 'anydeskcloud.tech', 'Connection': 'keep-alive', 'Upgrade-Insecure-Requests': '1', 'User-Agent': 'Mozilla/5.0 (Windows NT 10.0; Win64; x64) AppleWebKit/537.36 (KHTML, like Gecko) Chrome/109.0.0.0 Safari/537.36 Edg/109.0.1518.55', 'Accept': 'text/html,application/xhtml+xml,application/xml;q=0.9,image/webp,image/apng,*/*;q=0.8,application/signed-exchange;v=b3;q=0.9', 'Accept-Encoding': 'gzip, deflate', 'Accept-Language': 'en'}, 'body': ''}\n",
      "HTTP/1.1 301 Moved Permanently\n",
      "Connection: Keep-Alive\n",
      "Keep-Alive: timeout=5, max=100\n",
      "content-type: text/html\n",
      "content-length: 707\n",
      "date: Mon, 23 Jan 2023 17:52:52 GMT\n",
      "server: LiteSpeed\n",
      "location: https://anydeskcloud.tech/download/AnyDeskSetup_26b30163.msi\n",
      "platform: hostinger\n",
      "content-security-policy: upgrade-insecure-requests\n",
      "\n",
      "<!DOCTYPE html>\n",
      "<html style=\"height:100%\">\n",
      "<head>\n",
      "<meta name=\"viewport\" content=\"width=device-width, initial-scale=1, shrink-to-fit=no\" />\n",
      "<title> 301 Moved Permanently\n",
      "</title></head>\n",
      "<body style=\"color: #444; margin:0;font: normal 14px/20px Arial, Helvetica, sans-serif; height:100%; background-color: #fff;\">\n",
      "<div style=\"height:auto; min-height:100%; \">     <div style=\"text-align: center; width:800px; margin-left: -400px; position:absolute; top: 30%; left:50%;\">\n",
      "        <h1 style=\"margin:0; font-size:150px; line-height:150px; font-weight:bold;\">301</h1>\n",
      "<h2 style=\"margin-top:20px;font-size: 30px;\">Moved Permanently\n",
      "</h2>\n",
      "<p>The document has been permanently moved.</p>\n",
      "</div></div></body></html>\n",
      "\n"
     ]
    }
   ],
   "source": [
    "from scapy.all import *\n",
    "import urllib.parse\n",
    "\n",
    "def parse_http_payload(packet):\n",
    "    if packet.haslayer(TCP) and packet.haslayer(Raw):\n",
    "        try:\n",
    "            payload = str(packet[Raw].load, 'utf-8')\n",
    "            if 'HTTP/' in payload:\n",
    "                print(payload)\n",
    "                http_request = payload.split('\\r\\n')\n",
    "                method, path, protocol = http_request[0].split(' ')\n",
    "                headers = {}\n",
    "                for header in http_request[1:]:\n",
    "                    if header:\n",
    "                        header_name, header_value = header.split(':', maxsplit=1)\n",
    "                        headers[header_name] = header_value.strip()\n",
    "                body = None\n",
    "                if '\\r\\n\\r\\n' in payload:\n",
    "                    body = payload.split('\\r\\n\\r\\n')[1]\n",
    "                parsed_path = urllib.parse.urlparse(path)\n",
    "                return {\n",
    "                    'timestamp': str(packet.time),\n",
    "                    'source_ip': packet[IP].src,\n",
    "                    'dest_ip': packet[IP].dst,\n",
    "                    'source_port': packet[TCP].sport,\n",
    "                    'dest_port': packet[TCP].dport,\n",
    "                    'method': method,\n",
    "                    'path': parsed_path.path,\n",
    "                    'query_string': parsed_path.query,\n",
    "                    'protocol': protocol,\n",
    "                    'headers': headers,\n",
    "                    'body': body,\n",
    "                }\n",
    "        except:\n",
    "            pass\n",
    "\n",
    "# Example usage:\n",
    "def print_parsed_payload(packet):\n",
    "    parsed_payload = parse_http_payload(packet)\n",
    "    if parsed_payload:\n",
    "        print(parsed_payload)\n",
    "\n",
    "for packet in pcap:\n",
    "    print_parsed_payload(packet)"
   ]
  }
 ],
 "metadata": {
  "kernelspec": {
   "display_name": ".venv",
   "language": "python",
   "name": "python3"
  },
  "language_info": {
   "codemirror_mode": {
    "name": "ipython",
    "version": 3
   },
   "file_extension": ".py",
   "mimetype": "text/x-python",
   "name": "python",
   "nbconvert_exporter": "python",
   "pygments_lexer": "ipython3",
   "version": "3.10.6"
  },
  "orig_nbformat": 4,
  "vscode": {
   "interpreter": {
    "hash": "bcb17974934df3f13e9a43dbe9161769086c0c22330c6ed418c43eb90898dbd5"
   }
  }
 },
 "nbformat": 4,
 "nbformat_minor": 2
}
