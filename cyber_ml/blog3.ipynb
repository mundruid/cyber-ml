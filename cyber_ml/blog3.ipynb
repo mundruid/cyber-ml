{
 "cells": [
  {
   "cell_type": "code",
   "execution_count": null,
   "metadata": {},
   "outputs": [],
   "source": [
    "from syslogmp import parse\n",
    "\n",
    "def load_syslog(log_message: str) -> dict:\n",
    "    message = parse(log_message)\n",
    "\n",
    "    return {\n",
    "        'timestamp': message.timestamp,\n",
    "        'hostname': message.hostname,\n",
    "        'message': message.message,\n",
    "    }\n",
    "\n",
    "# Example usage:\n",
    "log_message = bytes('<133>Feb 25 14:09:07 webserver syslogd: restart', 'utf-8')\n",
    "log_data = load_syslog(log_message)\n",
    "print(log_data)\n"
   ]
  },
  {
   "cell_type": "code",
   "execution_count": null,
   "metadata": {},
   "outputs": [],
   "source": [
    "import re\n",
    "\n",
    "def process_syslog(log_message):\n",
    "    log_regex = r'^(\\w{3}\\s\\d{1,2}\\s\\d{2}:\\d{2}:\\d{2})\\s(\\S+)\\s(\\S+):\\s\\[(\\d+)\\]\\s(.*)$'\n",
    "    # The above regex pattern captures the following groups:\n",
    "    # 1. Timestamp\n",
    "    # 2. Hostname\n",
    "    # 3. Application\n",
    "    # 4. PID\n",
    "    # 5. Message\n",
    "\n",
    "    match = re.match(log_regex, log_message)\n",
    "    if not match:\n",
    "        return None\n",
    "\n",
    "    timestamp = match.group(1)\n",
    "    hostname = match.group(2)\n",
    "    application = match.group(3)\n",
    "    pid = int(match.group(4))\n",
    "    message = match.group(5)\n",
    "\n",
    "    return {\n",
    "        'timestamp': timestamp,\n",
    "        'hostname': hostname,\n",
    "        'application': application,\n",
    "        'pid': pid,\n",
    "        'message': message,\n",
    "    }\n",
    "\n",
    "# Example usage:\n",
    "log_message = 'Feb 28 14:21:30 example-hostname kernel: [12345] This is a log message'\n",
    "log_data = process_syslog(log_message)\n",
    "print(log_data)\n"
   ]
  }
 ],
 "metadata": {
  "kernelspec": {
   "display_name": ".venv",
   "language": "python",
   "name": "python3"
  },
  "language_info": {
   "codemirror_mode": {
    "name": "ipython",
    "version": 3
   },
   "file_extension": ".py",
   "mimetype": "text/x-python",
   "name": "python",
   "nbconvert_exporter": "python",
   "pygments_lexer": "ipython3",
   "version": "3.10.6"
  },
  "orig_nbformat": 4,
  "vscode": {
   "interpreter": {
    "hash": "bcb17974934df3f13e9a43dbe9161769086c0c22330c6ed418c43eb90898dbd5"
   }
  }
 },
 "nbformat": 4,
 "nbformat_minor": 2
}
