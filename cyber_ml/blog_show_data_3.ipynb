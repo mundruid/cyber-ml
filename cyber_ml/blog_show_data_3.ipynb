{
 "cells": [
  {
   "cell_type": "markdown",
   "metadata": {},
   "source": [
    "# Pcaps"
   ]
  },
  {
   "cell_type": "code",
   "execution_count": 1,
   "metadata": {},
   "outputs": [],
   "source": [
    "import urllib.parse\n",
    "import pprint\n",
    "\n",
    "from scapy.all import *"
   ]
  },
  {
   "cell_type": "code",
   "execution_count": 2,
   "metadata": {},
   "outputs": [
    {
     "data": {
      "text/plain": [
       "scapy.plist.PacketList"
      ]
     },
     "execution_count": 2,
     "metadata": {},
     "output_type": "execute_result"
    }
   ],
   "source": [
    "# read a malicious packet capture downloaded from https://malware-traffic-analysis.net/\n",
    "pcap = rdpcap(\n",
    "    \"../data/blog_show_data/2023-01-23-Google-ad-to-possible-TA505-activity.pcap\"\n",
    ")\n",
    "type(pcap)"
   ]
  },
  {
   "cell_type": "code",
   "execution_count": 34,
   "metadata": {},
   "outputs": [],
   "source": [
    "def parse_http_request(http_request: dict) -> dict:\n",
    "    \"\"\"_summary_\n",
    "\n",
    "    Args:\n",
    "        http_request (dict): _description_\n",
    "        body (str): _description_\n",
    "\n",
    "    Returns:\n",
    "        dict: _description_\n",
    "    \"\"\"\n",
    "    try:\n",
    "        # this generates a ValueError if the http request does not have the proper structure\n",
    "        method, path, protocol = http_request[\"http_fields\"][0].split(\" \")\n",
    "        headers = {}\n",
    "        for header in http_request[1:]:\n",
    "            if header:\n",
    "                header_name, header_value = header.split(\":\", maxsplit=1)\n",
    "                headers[header_name] = header_value.strip()\n",
    "        parsed_path = urllib.parse.urlparse(path)\n",
    "        return {\n",
    "            \"timestamp\": str(packet.time),\n",
    "            \"source_ip\": packet[IP].src,\n",
    "            \"dest_ip\": packet[IP].dst,\n",
    "            \"source_port\": packet[TCP].sport,\n",
    "            \"dest_port\": packet[TCP].dport,\n",
    "            \"method\": method,\n",
    "            \"path\": parsed_path.path,\n",
    "            \"query_string\": parsed_path.query,\n",
    "            \"protocol\": protocol,\n",
    "            \"headers\": headers,\n",
    "            \"body\": http_request.get(\"body\"),\n",
    "        }\n",
    "    except:\n",
    "        # http header may be non-standard, may have no method or may be  error code like 302\n",
    "        return {\n",
    "            \"timestamp\": str(packet.time),\n",
    "            \"source_ip\": packet[IP].src,\n",
    "            \"dest_ip\": packet[IP].dst,\n",
    "            \"source_port\": packet[TCP].sport,\n",
    "            \"dest_port\": packet[TCP].dport,\n",
    "            \"body\": http_request.get(\"body\"),\n",
    "        }"
   ]
  },
  {
   "cell_type": "code",
   "execution_count": 36,
   "metadata": {},
   "outputs": [],
   "source": [
    "def get_http(packet: scapy.layers.l2.Ether) -> dict:\n",
    "    \"\"\"_summary_\n",
    "\n",
    "    Args:\n",
    "        packet (scapy.layers.l2.Ether): _description_\n",
    "\n",
    "    Returns:\n",
    "        tuple: _description_\n",
    "    \"\"\"\n",
    "    http_fields = []\n",
    "    body = None\n",
    "\n",
    "    # check if there is payload in packet\n",
    "    if packet.haslayer(TCP) and packet.haslayer(Raw):\n",
    "        try:\n",
    "            # this generates UnicodeDecodeError if the Raw layer is not formatted properly\n",
    "            payload = str(packet[Raw].load, \"utf-8\")\n",
    "\n",
    "            if \"HTTP/\" in payload:\n",
    "                if \"\\r\\n\\r\\n\" in payload:\n",
    "                    body = payload.split(\"\\r\\n\\r\\n\")[1]\n",
    "                else:\n",
    "                    body = payload.split(\"<!DOCTYPE html>\")[1]\n",
    "\n",
    "                # split each row of each http request, make a list of strings with these rows\n",
    "                http_fields = payload.split(\"\\r\\n\")\n",
    "        except:\n",
    "            return\n",
    "\n",
    "    return {\"http_fields\": http_fields, \"body\": body}"
   ]
  },
  {
   "cell_type": "code",
   "execution_count": 37,
   "metadata": {},
   "outputs": [
    {
     "name": "stdout",
     "output_type": "stream",
     "text": [
      "{'body': '',\n",
      " 'dest_ip': '191.101.13.129',\n",
      " 'dest_port': 80,\n",
      " 'source_ip': '10.1.23.101',\n",
      " 'source_port': 49845,\n",
      " 'timestamp': '1674496371.956557'}\n",
      "{'body': '<!DOCTYPE html>\\n'\n",
      "         '<html style=\"height:100%\">\\n'\n",
      "         '<head>\\n'\n",
      "         '<meta name=\"viewport\" content=\"width=device-width, initial-scale=1, '\n",
      "         'shrink-to-fit=no\" />\\n'\n",
      "         '<title> 301 Moved Permanently\\r\\n'\n",
      "         '</title></head>\\n'\n",
      "         '<body style=\"color: #444; margin:0;font: normal 14px/20px Arial, '\n",
      "         'Helvetica, sans-serif; height:100%; background-color: #fff;\">\\n'\n",
      "         '<div style=\"height:auto; min-height:100%; \">     <div '\n",
      "         'style=\"text-align: center; width:800px; margin-left: -400px; '\n",
      "         'position:absolute; top: 30%; left:50%;\">\\n'\n",
      "         '        <h1 style=\"margin:0; font-size:150px; line-height:150px; '\n",
      "         'font-weight:bold;\">301</h1>\\n'\n",
      "         '<h2 style=\"margin-top:20px;font-size: 30px;\">Moved Permanently\\r\\n'\n",
      "         '</h2>\\n'\n",
      "         '<p>The document has been permanently moved.</p>\\n'\n",
      "         '</div></div></body></html>\\n',\n",
      " 'dest_ip': '10.1.23.101',\n",
      " 'dest_port': 49845,\n",
      " 'source_ip': '191.101.13.129',\n",
      " 'source_port': 80,\n",
      " 'timestamp': '1674496372.021590'}\n"
     ]
    }
   ],
   "source": [
    "for packet in pcap:\n",
    "    http_request = get_http(packet)\n",
    "    if http_request and http_request.get(\"http_fields\"):\n",
    "        parsed_payload = parse_http_request(http_request)\n",
    "        if parsed_payload != None:\n",
    "            pprint.pprint(parsed_payload)"
   ]
  },
  {
   "cell_type": "markdown",
   "metadata": {},
   "source": [
    "# Netflow"
   ]
  }
 ],
 "metadata": {
  "kernelspec": {
   "display_name": ".venv",
   "language": "python",
   "name": "python3"
  },
  "language_info": {
   "codemirror_mode": {
    "name": "ipython",
    "version": 3
   },
   "file_extension": ".py",
   "mimetype": "text/x-python",
   "name": "python",
   "nbconvert_exporter": "python",
   "pygments_lexer": "ipython3",
   "version": "3.10.6"
  }
 },
 "nbformat": 4,
 "nbformat_minor": 2
}
