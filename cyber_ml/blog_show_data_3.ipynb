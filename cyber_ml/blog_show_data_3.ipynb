{
 "cells": [
  {
   "cell_type": "code",
   "execution_count": null,
   "metadata": {},
   "outputs": [],
   "source": [
    "from scapy.all import rdpcap"
   ]
  },
  {
   "cell_type": "code",
   "execution_count": null,
   "metadata": {},
   "outputs": [],
   "source": [
    "pcap = rdpcap(\n",
    "    \"../data/blog_show_data/2023-01-23-Google-ad-to-possible-TA505-activity.pcap\"\n",
    ")\n",
    "type(pcap)"
   ]
  },
  {
   "cell_type": "code",
   "execution_count": null,
   "metadata": {},
   "outputs": [],
   "source": [
    "from scapy.all import *\n",
    "import urllib.parse\n",
    "\n",
    "\n",
    "def parse_http_payload(packet):\n",
    "    # check if there is payload in packet\n",
    "    if packet.haslayer(TCP) and packet.haslayer(Raw):\n",
    "        try:\n",
    "            payload = str(packet[Raw].load, \"utf-8\")\n",
    "\n",
    "            # is it http?\n",
    "            if \"HTTP/\" in payload:\n",
    "                print(payload)\n",
    "                body = None\n",
    "                if \"\\r\\n\\r\\n\" in payload:\n",
    "                    body = payload.split(\"\\r\\n\\r\\n\")[1]\n",
    "                else:\n",
    "                    body = payload.split(\"<!DOCTYPE html>\")[1]\n",
    "                http_request = payload.split(\"\\r\\n\")\n",
    "                try:\n",
    "                    # this generates a ValueError if the http request does not have the proper structure\n",
    "                    method, path, protocol = http_request[0].split(\" \")\n",
    "                    print(method, path, protocol)\n",
    "                    headers = {}\n",
    "                    for header in http_request[1:]:\n",
    "                        if header:\n",
    "                            header_name, header_value = header.split(\":\", maxsplit=1)\n",
    "                            headers[header_name] = header_value.strip()\n",
    "                    parsed_path = urllib.parse.urlparse(path)\n",
    "                    return {\n",
    "                        \"timestamp\": str(packet.time),\n",
    "                        \"source_ip\": packet[IP].src,\n",
    "                        \"dest_ip\": packet[IP].dst,\n",
    "                        \"source_port\": packet[TCP].sport,\n",
    "                        \"dest_port\": packet[TCP].dport,\n",
    "                        \"method\": method,\n",
    "                        \"path\": parsed_path.path,\n",
    "                        \"query_string\": parsed_path.query,\n",
    "                        \"protocol\": protocol,\n",
    "                        \"headers\": headers,\n",
    "                        \"body\": body,\n",
    "                    }\n",
    "                # else:\n",
    "                except:\n",
    "                    # http header may be non-standard, may have no method or may be  error code like 302\n",
    "                    return {\n",
    "                        \"timestamp\": str(packet.time),\n",
    "                        \"source_ip\": packet[IP].src,\n",
    "                        \"dest_ip\": packet[IP].dst,\n",
    "                        \"source_port\": packet[TCP].sport,\n",
    "                        \"dest_port\": packet[TCP].dport,\n",
    "                        \"body\": body,\n",
    "                    }\n",
    "        except:\n",
    "            pass\n",
    "\n",
    "\n",
    "# read a malicious packet capture downloaded from https://malware-traffic-analysis.net/\n",
    "pcap = rdpcap(\n",
    "    \"../data/blog_show_data/2023-01-23-Google-ad-to-possible-TA505-activity.pcap\"\n",
    ")\n",
    "\n",
    "for packet in pcap:\n",
    "    parsed_payload = parse_http_payload(packet)\n",
    "    if parsed_payload != None:\n",
    "        print(parsed_payload)"
   ]
  }
 ],
 "metadata": {
  "kernelspec": {
   "display_name": ".venv",
   "language": "python",
   "name": "python3"
  },
  "language_info": {
   "codemirror_mode": {
    "name": "ipython",
    "version": 3
   },
   "file_extension": ".py",
   "mimetype": "text/x-python",
   "name": "python",
   "nbconvert_exporter": "python",
   "pygments_lexer": "ipython3",
   "version": "3.10.6"
  }
 },
 "nbformat": 4,
 "nbformat_minor": 2
}
