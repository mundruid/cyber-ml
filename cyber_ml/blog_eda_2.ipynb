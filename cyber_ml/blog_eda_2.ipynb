{
 "cells": [
  {
   "cell_type": "code",
   "execution_count": null,
   "metadata": {},
   "outputs": [],
   "source": [
    "import pandas as pd\n",
    "\n",
    "scan = pd.read_csv(\"../data/blog_eda/scan.csv\")\n",
    "scan.shape"
   ]
  },
  {
   "cell_type": "code",
   "execution_count": null,
   "metadata": {},
   "outputs": [],
   "source": [
    "scan.columns"
   ]
  },
  {
   "cell_type": "code",
   "execution_count": null,
   "metadata": {},
   "outputs": [],
   "source": [
    "scan.dtypes"
   ]
  },
  {
   "cell_type": "code",
   "execution_count": null,
   "metadata": {},
   "outputs": [],
   "source": [
    "scan.describe()"
   ]
  },
  {
   "cell_type": "code",
   "execution_count": null,
   "metadata": {},
   "outputs": [],
   "source": [
    "mirai = pd.read_csv(\"../data/blog_eda/mirai.csv\")\n",
    "\n",
    "mirai.columns"
   ]
  },
  {
   "cell_type": "code",
   "execution_count": null,
   "metadata": {},
   "outputs": [],
   "source": [
    "def count_packets(df, column):\n",
    "    packets = df[column].value_counts()\n",
    "    return packets\n",
    "\n",
    "\n",
    "def count_bytes(df, column):\n",
    "    total_bytes = df.groupby(column)[\"Length\"].sum()\n",
    "    return total_bytes\n",
    "\n",
    "\n",
    "def count_packets_stream(df, source_ip, source_port):\n",
    "    return df[\n",
    "        (df[\"source ip\"] == source_ip) & (df[\"source port\"] == source_port)\n",
    "    ].shape[0]\n",
    "\n",
    "\n",
    "count_bytes(mirai, \"Source\")"
   ]
  },
  {
   "attachments": {},
   "cell_type": "markdown",
   "metadata": {},
   "source": [
    "# Stream aggregation:\n",
    "- H: Stats summarizing the recent traffic from this packet's host (IP)\n",
    "- HH: Stats summarizing the recent traffic going from this packet's host (IP) to the packet's destination host.\n",
    "- HpHp: Stats summarizing the recent traffic going from this packet's host+port (IP) to the packet's destination host+port. Example 192.168.4.2:1242 -> 192.168.4.12:80\n",
    "- HH_jit: Stats summarizing the jitter of the traffic going from this packet's host (IP) to the packet's destination host."
   ]
  },
  {
   "cell_type": "code",
   "execution_count": null,
   "metadata": {},
   "outputs": [],
   "source": [
    "# for i in $(seq -w 2 90); do wget -c https://csr.lanl.gov/data-fence/1683016924/ElHha1mJX7U61vfSYwpekwksQcc=/unified-host-network-dataset-2017/netflow/netflow_day-$i.bz2; done\n",
    "# for i in $(seq -w 1 90); do wget -c https://csr.lanl.gov/data-fence/1683016924/ElHha1mJX7U61vfSYwpekwksQcc=/unified-host-network-dataset-2017/wls/wls_day-$i.bz2; done"
   ]
  }
 ],
 "metadata": {
  "kernelspec": {
   "display_name": ".venv",
   "language": "python",
   "name": "python3"
  },
  "language_info": {
   "codemirror_mode": {
    "name": "ipython",
    "version": 3
   },
   "file_extension": ".py",
   "mimetype": "text/x-python",
   "name": "python",
   "nbconvert_exporter": "python",
   "pygments_lexer": "ipython3",
   "version": "3.10.6"
  }
 },
 "nbformat": 4,
 "nbformat_minor": 2
}
