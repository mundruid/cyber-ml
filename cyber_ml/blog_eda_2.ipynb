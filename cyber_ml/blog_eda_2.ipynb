{
 "cells": [
  {
   "cell_type": "code",
   "execution_count": 1,
   "metadata": {},
   "outputs": [],
   "source": [
    "import pandas as pd\n",
    "import numpy as np\n",
    "import sweetviz as sv\n",
    "import ipaddress\n",
    "import seaborn as sns\n",
    "\n",
    "from scapy.all import PcapReader, IP, TCP, UDP, ICMP\n",
    "from scipy.stats import ttest_ind, kstest, norm, skew, kurtosis, zscore\n",
    "from sklearn.linear_model import LinearRegression\n",
    "from sklearn.model_selection import KFold\n",
    "\n",
    "from skimpy import skim\n",
    "from summarytools import dfSummary\n",
    "from gensim.models import Word2Vec\n",
    "from gensim.utils import simple_preprocess"
   ]
  },
  {
   "cell_type": "code",
   "execution_count": 2,
   "metadata": {},
   "outputs": [],
   "source": [
    "pcap_reader_mirai = PcapReader(\"../data/blog_eda/mirai.pcap\")\n",
    "pcap_reader_benign = PcapReader(\"../data/blog_eda/benign.pcapng\")"
   ]
  },
  {
   "attachments": {},
   "cell_type": "markdown",
   "metadata": {},
   "source": [
    "# Preprocess\n",
    "\n",
    "- convert data to streams\n",
    "- collect some numbers"
   ]
  },
  {
   "cell_type": "code",
   "execution_count": 3,
   "metadata": {},
   "outputs": [],
   "source": [
    "def pcap_to_dataframe(pcap_reader: PcapReader) -> pd.DataFrame:\n",
    "    \"\"\"Converts raw packet capture to a Pandas dataframe.\n",
    "\n",
    "    Args:\n",
    "        pcap_reader (PcapReader): packet capture read using scapy\n",
    "\n",
    "    Returns:\n",
    "        pd.DataFrame: dataframe with pcap data\n",
    "    \"\"\"\n",
    "    # Create an empty list to store the data\n",
    "    data = []\n",
    "\n",
    "    # Iterate through the packets in the pcap file\n",
    "    for packet in pcap_reader:\n",
    "        # Get the source and destination IP addresses\n",
    "        if packet.haslayer(IP):\n",
    "            src_ip = packet[IP].src\n",
    "            dst_ip = packet[IP].dst\n",
    "            protocol = packet[IP].proto\n",
    "        else:\n",
    "            src_ip = None\n",
    "            dst_ip = None\n",
    "            protocol = None\n",
    "\n",
    "        # Get the source and destination ports and payload\n",
    "        if packet.haslayer(TCP):\n",
    "            src_port = packet[TCP].sport\n",
    "            dst_port = packet[TCP].dport\n",
    "            payload = str(packet[TCP].payload)\n",
    "            packet_len = len(packet[TCP])\n",
    "        elif packet.haslayer(UDP):\n",
    "            src_port = packet[UDP].sport\n",
    "            dst_port = packet[UDP].dport\n",
    "            payload = str(packet[UDP].payload)\n",
    "            packet_len = len(packet[UDP])\n",
    "        elif packet.haslayer(ICMP):\n",
    "            payload = str(packet[ICMP].payload)\n",
    "            packet_len = len(packet[ICMP])\n",
    "            src_port = None\n",
    "            dst_port = None\n",
    "        else:\n",
    "            src_port = None\n",
    "            dst_port = None\n",
    "            payload = str(packet.payload)\n",
    "            packet_len = len(packet)\n",
    "\n",
    "        # Append the data to the list\n",
    "        data.append(\n",
    "            [\n",
    "                packet.time,\n",
    "                src_ip,\n",
    "                dst_ip,\n",
    "                src_port,\n",
    "                dst_port,\n",
    "                payload,\n",
    "                packet_len,\n",
    "                protocol,\n",
    "            ]\n",
    "        )\n",
    "\n",
    "    # Convert the list to a pandas dataframe\n",
    "    df = pd.DataFrame(\n",
    "        data,\n",
    "        columns=[\n",
    "            \"Timestamp\",\n",
    "            \"Source IP\",\n",
    "            \"Destination IP\",\n",
    "            \"Source Port\",\n",
    "            \"Destination Port\",\n",
    "            \"Payload\",\n",
    "            \"Packet Length\",\n",
    "            \"Protocol\",\n",
    "        ],\n",
    "    )\n",
    "\n",
    "    return df"
   ]
  },
  {
   "cell_type": "code",
   "execution_count": 4,
   "metadata": {},
   "outputs": [],
   "source": [
    "# comment this out if this is the first run\n",
    "# because it takes too much time to convert to dataframe, use pkl on consequent runs\n",
    "# mirai_df = pcap_to_dataframe(pcap_reader_mirai)\n",
    "# benign_df = pcap_to_dataframe(pcap_reader_benign)"
   ]
  },
  {
   "cell_type": "code",
   "execution_count": 5,
   "metadata": {},
   "outputs": [],
   "source": [
    "# save to pkl since dataframe conversion takes a long time\n",
    "# mirai_df.to_pickle(\"../data/blog_eda/mirai.pkl\")\n",
    "# benign_df.to_pickle(\"../data/blog_eda/benign.pkl\")"
   ]
  },
  {
   "cell_type": "code",
   "execution_count": 6,
   "metadata": {},
   "outputs": [],
   "source": [
    "mirai_df = pd.read_pickle(\"../data/blog_eda/mirai.pkl\")\n",
    "benign_df = pd.read_pickle(\"../data/blog_eda/benign.pkl\")"
   ]
  },
  {
   "cell_type": "code",
   "execution_count": 7,
   "metadata": {},
   "outputs": [
    {
     "data": {
      "text/html": [
       "<div>\n",
       "<style scoped>\n",
       "    .dataframe tbody tr th:only-of-type {\n",
       "        vertical-align: middle;\n",
       "    }\n",
       "\n",
       "    .dataframe tbody tr th {\n",
       "        vertical-align: top;\n",
       "    }\n",
       "\n",
       "    .dataframe thead th {\n",
       "        text-align: right;\n",
       "    }\n",
       "</style>\n",
       "<table border=\"1\" class=\"dataframe\">\n",
       "  <thead>\n",
       "    <tr style=\"text-align: right;\">\n",
       "      <th></th>\n",
       "      <th>Timestamp</th>\n",
       "      <th>Source IP</th>\n",
       "      <th>Destination IP</th>\n",
       "      <th>Source Port</th>\n",
       "      <th>Destination Port</th>\n",
       "      <th>Payload</th>\n",
       "      <th>Packet Length</th>\n",
       "      <th>Protocol</th>\n",
       "    </tr>\n",
       "  </thead>\n",
       "  <tbody>\n",
       "    <tr>\n",
       "      <th>0</th>\n",
       "      <td>1540446382.933899</td>\n",
       "      <td>192.168.2.108</td>\n",
       "      <td>52.24.43.67</td>\n",
       "      <td>21074.0</td>\n",
       "      <td>80.0</td>\n",
       "      <td>Padding</td>\n",
       "      <td>26</td>\n",
       "      <td>6.0</td>\n",
       "    </tr>\n",
       "    <tr>\n",
       "      <th>1</th>\n",
       "      <td>1540446382.933904</td>\n",
       "      <td>192.168.2.108</td>\n",
       "      <td>52.25.66.250</td>\n",
       "      <td>20532.0</td>\n",
       "      <td>8280.0</td>\n",
       "      <td>Padding</td>\n",
       "      <td>26</td>\n",
       "      <td>6.0</td>\n",
       "    </tr>\n",
       "    <tr>\n",
       "      <th>2</th>\n",
       "      <td>1540446382.934426</td>\n",
       "      <td>192.168.2.1</td>\n",
       "      <td>192.168.2.108</td>\n",
       "      <td>NaN</td>\n",
       "      <td>NaN</td>\n",
       "      <td>IPerror / TCPerror</td>\n",
       "      <td>52</td>\n",
       "      <td>1.0</td>\n",
       "    </tr>\n",
       "    <tr>\n",
       "      <th>3</th>\n",
       "      <td>1540446382.934636</td>\n",
       "      <td>192.168.2.1</td>\n",
       "      <td>192.168.2.108</td>\n",
       "      <td>NaN</td>\n",
       "      <td>NaN</td>\n",
       "      <td>IPerror / TCPerror</td>\n",
       "      <td>52</td>\n",
       "      <td>1.0</td>\n",
       "    </tr>\n",
       "    <tr>\n",
       "      <th>4</th>\n",
       "      <td>1540446383.291054</td>\n",
       "      <td>None</td>\n",
       "      <td>None</td>\n",
       "      <td>NaN</td>\n",
       "      <td>NaN</td>\n",
       "      <td>ARP who has 192.168.2.106 says 192.168.2.109 /...</td>\n",
       "      <td>60</td>\n",
       "      <td>NaN</td>\n",
       "    </tr>\n",
       "    <tr>\n",
       "      <th>...</th>\n",
       "      <td>...</td>\n",
       "      <td>...</td>\n",
       "      <td>...</td>\n",
       "      <td>...</td>\n",
       "      <td>...</td>\n",
       "      <td>...</td>\n",
       "      <td>...</td>\n",
       "      <td>...</td>\n",
       "    </tr>\n",
       "    <tr>\n",
       "      <th>764132</th>\n",
       "      <td>1540453519.837515</td>\n",
       "      <td>None</td>\n",
       "      <td>None</td>\n",
       "      <td>NaN</td>\n",
       "      <td>NaN</td>\n",
       "      <td>ARP who has 192.168.2.165 says 192.168.2.110 /...</td>\n",
       "      <td>60</td>\n",
       "      <td>NaN</td>\n",
       "    </tr>\n",
       "    <tr>\n",
       "      <th>764133</th>\n",
       "      <td>1540453519.839396</td>\n",
       "      <td>None</td>\n",
       "      <td>None</td>\n",
       "      <td>NaN</td>\n",
       "      <td>NaN</td>\n",
       "      <td>ARP who has 192.168.2.166 says 192.168.2.110 /...</td>\n",
       "      <td>60</td>\n",
       "      <td>NaN</td>\n",
       "    </tr>\n",
       "    <tr>\n",
       "      <th>764134</th>\n",
       "      <td>1540453519.840611</td>\n",
       "      <td>None</td>\n",
       "      <td>None</td>\n",
       "      <td>NaN</td>\n",
       "      <td>NaN</td>\n",
       "      <td>ARP who has 192.168.2.167 says 192.168.2.110 /...</td>\n",
       "      <td>60</td>\n",
       "      <td>NaN</td>\n",
       "    </tr>\n",
       "    <tr>\n",
       "      <th>764135</th>\n",
       "      <td>1540453519.842369</td>\n",
       "      <td>None</td>\n",
       "      <td>None</td>\n",
       "      <td>NaN</td>\n",
       "      <td>NaN</td>\n",
       "      <td>ARP who has 192.168.2.168 says 192.168.2.110 /...</td>\n",
       "      <td>60</td>\n",
       "      <td>NaN</td>\n",
       "    </tr>\n",
       "    <tr>\n",
       "      <th>764136</th>\n",
       "      <td>1540453519.842464</td>\n",
       "      <td>192.168.2.115</td>\n",
       "      <td>192.168.2.1</td>\n",
       "      <td>3570.0</td>\n",
       "      <td>53.0</td>\n",
       "      <td>DNS Qry \"b'north-america.pool.ntp.org.Speedpor...</td>\n",
       "      <td>85</td>\n",
       "      <td>17.0</td>\n",
       "    </tr>\n",
       "  </tbody>\n",
       "</table>\n",
       "<p>764137 rows × 8 columns</p>\n",
       "</div>"
      ],
      "text/plain": [
       "                Timestamp      Source IP Destination IP  Source Port  \\\n",
       "0       1540446382.933899  192.168.2.108    52.24.43.67      21074.0   \n",
       "1       1540446382.933904  192.168.2.108   52.25.66.250      20532.0   \n",
       "2       1540446382.934426    192.168.2.1  192.168.2.108          NaN   \n",
       "3       1540446382.934636    192.168.2.1  192.168.2.108          NaN   \n",
       "4       1540446383.291054           None           None          NaN   \n",
       "...                   ...            ...            ...          ...   \n",
       "764132  1540453519.837515           None           None          NaN   \n",
       "764133  1540453519.839396           None           None          NaN   \n",
       "764134  1540453519.840611           None           None          NaN   \n",
       "764135  1540453519.842369           None           None          NaN   \n",
       "764136  1540453519.842464  192.168.2.115    192.168.2.1       3570.0   \n",
       "\n",
       "        Destination Port                                            Payload  \\\n",
       "0                   80.0                                            Padding   \n",
       "1                 8280.0                                            Padding   \n",
       "2                    NaN                                 IPerror / TCPerror   \n",
       "3                    NaN                                 IPerror / TCPerror   \n",
       "4                    NaN  ARP who has 192.168.2.106 says 192.168.2.109 /...   \n",
       "...                  ...                                                ...   \n",
       "764132               NaN  ARP who has 192.168.2.165 says 192.168.2.110 /...   \n",
       "764133               NaN  ARP who has 192.168.2.166 says 192.168.2.110 /...   \n",
       "764134               NaN  ARP who has 192.168.2.167 says 192.168.2.110 /...   \n",
       "764135               NaN  ARP who has 192.168.2.168 says 192.168.2.110 /...   \n",
       "764136              53.0  DNS Qry \"b'north-america.pool.ntp.org.Speedpor...   \n",
       "\n",
       "        Packet Length  Protocol  \n",
       "0                  26       6.0  \n",
       "1                  26       6.0  \n",
       "2                  52       1.0  \n",
       "3                  52       1.0  \n",
       "4                  60       NaN  \n",
       "...               ...       ...  \n",
       "764132             60       NaN  \n",
       "764133             60       NaN  \n",
       "764134             60       NaN  \n",
       "764135             60       NaN  \n",
       "764136             85      17.0  \n",
       "\n",
       "[764137 rows x 8 columns]"
      ]
     },
     "execution_count": 7,
     "metadata": {},
     "output_type": "execute_result"
    }
   ],
   "source": [
    "mirai_df"
   ]
  },
  {
   "cell_type": "code",
   "execution_count": 8,
   "metadata": {},
   "outputs": [
    {
     "data": {
      "text/html": [
       "<div>\n",
       "<style scoped>\n",
       "    .dataframe tbody tr th:only-of-type {\n",
       "        vertical-align: middle;\n",
       "    }\n",
       "\n",
       "    .dataframe tbody tr th {\n",
       "        vertical-align: top;\n",
       "    }\n",
       "\n",
       "    .dataframe thead th {\n",
       "        text-align: right;\n",
       "    }\n",
       "</style>\n",
       "<table border=\"1\" class=\"dataframe\">\n",
       "  <thead>\n",
       "    <tr style=\"text-align: right;\">\n",
       "      <th></th>\n",
       "      <th>Timestamp</th>\n",
       "      <th>Source IP</th>\n",
       "      <th>Destination IP</th>\n",
       "      <th>Source Port</th>\n",
       "      <th>Destination Port</th>\n",
       "      <th>Payload</th>\n",
       "      <th>Packet Length</th>\n",
       "      <th>Protocol</th>\n",
       "    </tr>\n",
       "  </thead>\n",
       "  <tbody>\n",
       "    <tr>\n",
       "      <th>0</th>\n",
       "      <td>1241422456.122475</td>\n",
       "      <td>None</td>\n",
       "      <td>None</td>\n",
       "      <td>NaN</td>\n",
       "      <td>NaN</td>\n",
       "      <td>Raw</td>\n",
       "      <td>60</td>\n",
       "      <td>NaN</td>\n",
       "    </tr>\n",
       "    <tr>\n",
       "      <th>1</th>\n",
       "      <td>1241422456.122475</td>\n",
       "      <td>None</td>\n",
       "      <td>None</td>\n",
       "      <td>NaN</td>\n",
       "      <td>NaN</td>\n",
       "      <td>Raw</td>\n",
       "      <td>60</td>\n",
       "      <td>NaN</td>\n",
       "    </tr>\n",
       "    <tr>\n",
       "      <th>2</th>\n",
       "      <td>1241422758.60905</td>\n",
       "      <td>None</td>\n",
       "      <td>None</td>\n",
       "      <td>NaN</td>\n",
       "      <td>NaN</td>\n",
       "      <td>Raw</td>\n",
       "      <td>60</td>\n",
       "      <td>NaN</td>\n",
       "    </tr>\n",
       "    <tr>\n",
       "      <th>3</th>\n",
       "      <td>1241422758.60905</td>\n",
       "      <td>None</td>\n",
       "      <td>None</td>\n",
       "      <td>NaN</td>\n",
       "      <td>NaN</td>\n",
       "      <td>Raw</td>\n",
       "      <td>60</td>\n",
       "      <td>NaN</td>\n",
       "    </tr>\n",
       "    <tr>\n",
       "      <th>4</th>\n",
       "      <td>1355253962.658551</td>\n",
       "      <td>10.0.0.1</td>\n",
       "      <td>224.0.0.2</td>\n",
       "      <td>646.0</td>\n",
       "      <td>646.0</td>\n",
       "      <td>Raw</td>\n",
       "      <td>42</td>\n",
       "      <td>17.0</td>\n",
       "    </tr>\n",
       "    <tr>\n",
       "      <th>...</th>\n",
       "      <td>...</td>\n",
       "      <td>...</td>\n",
       "      <td>...</td>\n",
       "      <td>...</td>\n",
       "      <td>...</td>\n",
       "      <td>...</td>\n",
       "      <td>...</td>\n",
       "      <td>...</td>\n",
       "    </tr>\n",
       "    <tr>\n",
       "      <th>38637</th>\n",
       "      <td>1671112304.885062</td>\n",
       "      <td>None</td>\n",
       "      <td>None</td>\n",
       "      <td>1812.0</td>\n",
       "      <td>43398.0</td>\n",
       "      <td>Radius</td>\n",
       "      <td>502</td>\n",
       "      <td>NaN</td>\n",
       "    </tr>\n",
       "    <tr>\n",
       "      <th>38638</th>\n",
       "      <td>1671112304.921208</td>\n",
       "      <td>None</td>\n",
       "      <td>None</td>\n",
       "      <td>43398.0</td>\n",
       "      <td>1812.0</td>\n",
       "      <td>Radius</td>\n",
       "      <td>225</td>\n",
       "      <td>NaN</td>\n",
       "    </tr>\n",
       "    <tr>\n",
       "      <th>38639</th>\n",
       "      <td>1671112304.926982</td>\n",
       "      <td>None</td>\n",
       "      <td>None</td>\n",
       "      <td>1812.0</td>\n",
       "      <td>43398.0</td>\n",
       "      <td>Radius</td>\n",
       "      <td>127</td>\n",
       "      <td>NaN</td>\n",
       "    </tr>\n",
       "    <tr>\n",
       "      <th>38640</th>\n",
       "      <td>1671112304.950305</td>\n",
       "      <td>None</td>\n",
       "      <td>None</td>\n",
       "      <td>43398.0</td>\n",
       "      <td>1812.0</td>\n",
       "      <td>Radius</td>\n",
       "      <td>180</td>\n",
       "      <td>NaN</td>\n",
       "    </tr>\n",
       "    <tr>\n",
       "      <th>38641</th>\n",
       "      <td>1671112304.954635</td>\n",
       "      <td>None</td>\n",
       "      <td>None</td>\n",
       "      <td>1812.0</td>\n",
       "      <td>43398.0</td>\n",
       "      <td>Radius</td>\n",
       "      <td>179</td>\n",
       "      <td>NaN</td>\n",
       "    </tr>\n",
       "  </tbody>\n",
       "</table>\n",
       "<p>38642 rows × 8 columns</p>\n",
       "</div>"
      ],
      "text/plain": [
       "               Timestamp Source IP Destination IP  Source Port  \\\n",
       "0      1241422456.122475      None           None          NaN   \n",
       "1      1241422456.122475      None           None          NaN   \n",
       "2       1241422758.60905      None           None          NaN   \n",
       "3       1241422758.60905      None           None          NaN   \n",
       "4      1355253962.658551  10.0.0.1      224.0.0.2        646.0   \n",
       "...                  ...       ...            ...          ...   \n",
       "38637  1671112304.885062      None           None       1812.0   \n",
       "38638  1671112304.921208      None           None      43398.0   \n",
       "38639  1671112304.926982      None           None       1812.0   \n",
       "38640  1671112304.950305      None           None      43398.0   \n",
       "38641  1671112304.954635      None           None       1812.0   \n",
       "\n",
       "       Destination Port Payload  Packet Length  Protocol  \n",
       "0                   NaN     Raw             60       NaN  \n",
       "1                   NaN     Raw             60       NaN  \n",
       "2                   NaN     Raw             60       NaN  \n",
       "3                   NaN     Raw             60       NaN  \n",
       "4                 646.0     Raw             42      17.0  \n",
       "...                 ...     ...            ...       ...  \n",
       "38637           43398.0  Radius            502       NaN  \n",
       "38638            1812.0  Radius            225       NaN  \n",
       "38639           43398.0  Radius            127       NaN  \n",
       "38640            1812.0  Radius            180       NaN  \n",
       "38641           43398.0  Radius            179       NaN  \n",
       "\n",
       "[38642 rows x 8 columns]"
      ]
     },
     "execution_count": 8,
     "metadata": {},
     "output_type": "execute_result"
    }
   ],
   "source": [
    "benign_df"
   ]
  },
  {
   "cell_type": "code",
   "execution_count": 9,
   "metadata": {},
   "outputs": [],
   "source": [
    "def extract_flows(df: pd.DataFrame) -> pd.DataFrame:\n",
    "    # Create an empty list to store stream data as separate dataframes\n",
    "    dfs = []\n",
    "\n",
    "    # Group packets by src/dst IP and src/dst port\n",
    "    grouped = df.groupby(\n",
    "        [\"Source IP\", \"Destination IP\", \"Source Port\", \"Destination Port\", \"Protocol\"]\n",
    "    )\n",
    "\n",
    "    # Iterate through each group to extract stream data\n",
    "    for name, group in grouped:\n",
    "        # Get source/destination IP, port, and protocol\n",
    "        src_ip, dst_ip, src_port, dst_port, proto = name\n",
    "\n",
    "        # Get number of packets, total length, and duration of the stream\n",
    "        num_packets = len(group)\n",
    "        total_length = group[\"Packet Length\"].sum()\n",
    "        start_time = group[\"Timestamp\"].min()\n",
    "        end_time = group[\"Timestamp\"].max()\n",
    "        duration = float(end_time - start_time)\n",
    "\n",
    "        # Create a new dataframe with the stream data\n",
    "        flow_df = pd.DataFrame(\n",
    "            {\n",
    "                \"Source IP\": [src_ip],\n",
    "                \"Destination IP\": [dst_ip],\n",
    "                \"Source Port\": [src_port],\n",
    "                \"Destination Port\": [dst_port],\n",
    "                \"Protocol\": [proto],\n",
    "                \"Number of Packets\": [num_packets],\n",
    "                \"Total Length\": [total_length],\n",
    "                \"Duration\": [duration],\n",
    "            }\n",
    "        )\n",
    "\n",
    "        # Add the new dataframe to the list\n",
    "        dfs.append(flow_df)\n",
    "\n",
    "    # Concatenate all the dataframes in the list into one dataframe\n",
    "    flow_df = pd.concat(dfs, ignore_index=True)\n",
    "\n",
    "    # Return the new dataframe with stream data\n",
    "    return flow_df"
   ]
  },
  {
   "cell_type": "code",
   "execution_count": 10,
   "metadata": {},
   "outputs": [],
   "source": [
    "mirai_flow_df = extract_flows(mirai_df)\n",
    "benign_flow_df = extract_flows(benign_df)"
   ]
  },
  {
   "attachments": {},
   "cell_type": "markdown",
   "metadata": {},
   "source": [
    "# EDA\n",
    "\n",
    "Exploratory Data Analysis approaches the dataset as a black box that we need to visualize and analyze statistically with the following goals:\n",
    "- get insights about our data\n",
    "- test hypotheses\n",
    "- decide on models and further processing, such as feature engineering.\n",
    "\n",
    "EDA can be performed for benign and malicious data. Here we are looking at EDA only for malicious data, however the same functions can be applied to benign."
   ]
  },
  {
   "attachments": {},
   "cell_type": "markdown",
   "metadata": {},
   "source": [
    "## Descriptive statistics & data\n",
    "\n",
    "- Describe columns and data types\n",
    "- Descriptive statistics\n",
    "  -  count, \n",
    "  -  mean, \n",
    "  -  standard deviation, \n",
    "  -  minimum, \n",
    "  -  25th percentile, \n",
    "  -  median (50th percentile), \n",
    "  -  75th percentile, and \n",
    "  -  maximum"
   ]
  },
  {
   "cell_type": "code",
   "execution_count": 11,
   "metadata": {},
   "outputs": [
    {
     "data": {
      "text/plain": [
       "Index(['Source IP', 'Destination IP', 'Source Port', 'Destination Port',\n",
       "       'Protocol', 'Number of Packets', 'Total Length', 'Duration'],\n",
       "      dtype='object')"
      ]
     },
     "execution_count": 11,
     "metadata": {},
     "output_type": "execute_result"
    }
   ],
   "source": [
    "# describe, summarize etc.\n",
    "mirai_flow_df.columns"
   ]
  },
  {
   "cell_type": "code",
   "execution_count": 12,
   "metadata": {},
   "outputs": [
    {
     "data": {
      "text/plain": [
       "Source IP             object\n",
       "Destination IP        object\n",
       "Source Port          float64\n",
       "Destination Port     float64\n",
       "Protocol             float64\n",
       "Number of Packets      int64\n",
       "Total Length           int64\n",
       "Duration             float64\n",
       "dtype: object"
      ]
     },
     "execution_count": 12,
     "metadata": {},
     "output_type": "execute_result"
    }
   ],
   "source": [
    "mirai_flow_df.dtypes"
   ]
  },
  {
   "cell_type": "code",
   "execution_count": 13,
   "metadata": {},
   "outputs": [
    {
     "data": {
      "text/html": [
       "<div>\n",
       "<style scoped>\n",
       "    .dataframe tbody tr th:only-of-type {\n",
       "        vertical-align: middle;\n",
       "    }\n",
       "\n",
       "    .dataframe tbody tr th {\n",
       "        vertical-align: top;\n",
       "    }\n",
       "\n",
       "    .dataframe thead th {\n",
       "        text-align: right;\n",
       "    }\n",
       "</style>\n",
       "<table border=\"1\" class=\"dataframe\">\n",
       "  <thead>\n",
       "    <tr style=\"text-align: right;\">\n",
       "      <th></th>\n",
       "      <th>Source Port</th>\n",
       "      <th>Destination Port</th>\n",
       "      <th>Protocol</th>\n",
       "      <th>Number of Packets</th>\n",
       "      <th>Total Length</th>\n",
       "      <th>Duration</th>\n",
       "    </tr>\n",
       "  </thead>\n",
       "  <tbody>\n",
       "    <tr>\n",
       "      <th>count</th>\n",
       "      <td>36585.000000</td>\n",
       "      <td>36585.000000</td>\n",
       "      <td>36585.000000</td>\n",
       "      <td>36585.000000</td>\n",
       "      <td>36585.000000</td>\n",
       "      <td>36585.000000</td>\n",
       "    </tr>\n",
       "    <tr>\n",
       "      <th>mean</th>\n",
       "      <td>35013.168484</td>\n",
       "      <td>2179.724915</td>\n",
       "      <td>12.997185</td>\n",
       "      <td>4.211835</td>\n",
       "      <td>190.795681</td>\n",
       "      <td>327.060315</td>\n",
       "    </tr>\n",
       "    <tr>\n",
       "      <th>std</th>\n",
       "      <td>20907.744322</td>\n",
       "      <td>6022.524810</td>\n",
       "      <td>5.292372</td>\n",
       "      <td>104.750186</td>\n",
       "      <td>4959.106974</td>\n",
       "      <td>1284.088269</td>\n",
       "    </tr>\n",
       "    <tr>\n",
       "      <th>min</th>\n",
       "      <td>0.000000</td>\n",
       "      <td>23.000000</td>\n",
       "      <td>6.000000</td>\n",
       "      <td>1.000000</td>\n",
       "      <td>26.000000</td>\n",
       "      <td>0.000000</td>\n",
       "    </tr>\n",
       "    <tr>\n",
       "      <th>25%</th>\n",
       "      <td>12435.000000</td>\n",
       "      <td>53.000000</td>\n",
       "      <td>6.000000</td>\n",
       "      <td>1.000000</td>\n",
       "      <td>40.000000</td>\n",
       "      <td>0.000000</td>\n",
       "    </tr>\n",
       "    <tr>\n",
       "      <th>50%</th>\n",
       "      <td>41283.000000</td>\n",
       "      <td>53.000000</td>\n",
       "      <td>17.000000</td>\n",
       "      <td>1.000000</td>\n",
       "      <td>49.000000</td>\n",
       "      <td>0.000000</td>\n",
       "    </tr>\n",
       "    <tr>\n",
       "      <th>75%</th>\n",
       "      <td>51545.000000</td>\n",
       "      <td>443.000000</td>\n",
       "      <td>17.000000</td>\n",
       "      <td>3.000000</td>\n",
       "      <td>104.000000</td>\n",
       "      <td>2.992908</td>\n",
       "    </tr>\n",
       "    <tr>\n",
       "      <th>max</th>\n",
       "      <td>65267.000000</td>\n",
       "      <td>65267.000000</td>\n",
       "      <td>17.000000</td>\n",
       "      <td>7853.000000</td>\n",
       "      <td>376944.000000</td>\n",
       "      <td>7135.502403</td>\n",
       "    </tr>\n",
       "  </tbody>\n",
       "</table>\n",
       "</div>"
      ],
      "text/plain": [
       "        Source Port  Destination Port      Protocol  Number of Packets  \\\n",
       "count  36585.000000      36585.000000  36585.000000       36585.000000   \n",
       "mean   35013.168484       2179.724915     12.997185           4.211835   \n",
       "std    20907.744322       6022.524810      5.292372         104.750186   \n",
       "min        0.000000         23.000000      6.000000           1.000000   \n",
       "25%    12435.000000         53.000000      6.000000           1.000000   \n",
       "50%    41283.000000         53.000000     17.000000           1.000000   \n",
       "75%    51545.000000        443.000000     17.000000           3.000000   \n",
       "max    65267.000000      65267.000000     17.000000        7853.000000   \n",
       "\n",
       "        Total Length      Duration  \n",
       "count   36585.000000  36585.000000  \n",
       "mean      190.795681    327.060315  \n",
       "std      4959.106974   1284.088269  \n",
       "min        26.000000      0.000000  \n",
       "25%        40.000000      0.000000  \n",
       "50%        49.000000      0.000000  \n",
       "75%       104.000000      2.992908  \n",
       "max    376944.000000   7135.502403  "
      ]
     },
     "execution_count": 13,
     "metadata": {},
     "output_type": "execute_result"
    }
   ],
   "source": [
    "# descriptive statistics\n",
    "mirai_flow_df.describe()"
   ]
  },
  {
   "cell_type": "code",
   "execution_count": 14,
   "metadata": {},
   "outputs": [
    {
     "name": "stderr",
     "output_type": "stream",
     "text": [
      "/tmp/ipykernel_17450/3893345276.py:2: FutureWarning: The default value of numeric_only in DataFrame.corr is deprecated. In a future version, it will default to False. Select only valid columns or specify the value of numeric_only to silence this warning.\n",
      "  mirai_flow_df.corr()\n"
     ]
    },
    {
     "data": {
      "text/html": [
       "<div>\n",
       "<style scoped>\n",
       "    .dataframe tbody tr th:only-of-type {\n",
       "        vertical-align: middle;\n",
       "    }\n",
       "\n",
       "    .dataframe tbody tr th {\n",
       "        vertical-align: top;\n",
       "    }\n",
       "\n",
       "    .dataframe thead th {\n",
       "        text-align: right;\n",
       "    }\n",
       "</style>\n",
       "<table border=\"1\" class=\"dataframe\">\n",
       "  <thead>\n",
       "    <tr style=\"text-align: right;\">\n",
       "      <th></th>\n",
       "      <th>Source Port</th>\n",
       "      <th>Destination Port</th>\n",
       "      <th>Protocol</th>\n",
       "      <th>Number of Packets</th>\n",
       "      <th>Total Length</th>\n",
       "      <th>Duration</th>\n",
       "    </tr>\n",
       "  </thead>\n",
       "  <tbody>\n",
       "    <tr>\n",
       "      <th>Source Port</th>\n",
       "      <td>1.000000</td>\n",
       "      <td>-0.137491</td>\n",
       "      <td>-0.280543</td>\n",
       "      <td>-0.006830</td>\n",
       "      <td>-0.008757</td>\n",
       "      <td>-0.352542</td>\n",
       "    </tr>\n",
       "    <tr>\n",
       "      <th>Destination Port</th>\n",
       "      <td>-0.137491</td>\n",
       "      <td>1.000000</td>\n",
       "      <td>-0.213777</td>\n",
       "      <td>0.030570</td>\n",
       "      <td>0.028732</td>\n",
       "      <td>-0.030991</td>\n",
       "    </tr>\n",
       "    <tr>\n",
       "      <th>Protocol</th>\n",
       "      <td>-0.280543</td>\n",
       "      <td>-0.213777</td>\n",
       "      <td>1.000000</td>\n",
       "      <td>0.002669</td>\n",
       "      <td>0.010510</td>\n",
       "      <td>0.183307</td>\n",
       "    </tr>\n",
       "    <tr>\n",
       "      <th>Number of Packets</th>\n",
       "      <td>-0.006830</td>\n",
       "      <td>0.030570</td>\n",
       "      <td>0.002669</td>\n",
       "      <td>1.000000</td>\n",
       "      <td>0.988055</td>\n",
       "      <td>0.099866</td>\n",
       "    </tr>\n",
       "    <tr>\n",
       "      <th>Total Length</th>\n",
       "      <td>-0.008757</td>\n",
       "      <td>0.028732</td>\n",
       "      <td>0.010510</td>\n",
       "      <td>0.988055</td>\n",
       "      <td>1.000000</td>\n",
       "      <td>0.105296</td>\n",
       "    </tr>\n",
       "    <tr>\n",
       "      <th>Duration</th>\n",
       "      <td>-0.352542</td>\n",
       "      <td>-0.030991</td>\n",
       "      <td>0.183307</td>\n",
       "      <td>0.099866</td>\n",
       "      <td>0.105296</td>\n",
       "      <td>1.000000</td>\n",
       "    </tr>\n",
       "  </tbody>\n",
       "</table>\n",
       "</div>"
      ],
      "text/plain": [
       "                   Source Port  Destination Port  Protocol  Number of Packets  \\\n",
       "Source Port           1.000000         -0.137491 -0.280543          -0.006830   \n",
       "Destination Port     -0.137491          1.000000 -0.213777           0.030570   \n",
       "Protocol             -0.280543         -0.213777  1.000000           0.002669   \n",
       "Number of Packets    -0.006830          0.030570  0.002669           1.000000   \n",
       "Total Length         -0.008757          0.028732  0.010510           0.988055   \n",
       "Duration             -0.352542         -0.030991  0.183307           0.099866   \n",
       "\n",
       "                   Total Length  Duration  \n",
       "Source Port           -0.008757 -0.352542  \n",
       "Destination Port       0.028732 -0.030991  \n",
       "Protocol               0.010510  0.183307  \n",
       "Number of Packets      0.988055  0.099866  \n",
       "Total Length           1.000000  0.105296  \n",
       "Duration               0.105296  1.000000  "
      ]
     },
     "execution_count": 14,
     "metadata": {},
     "output_type": "execute_result"
    }
   ],
   "source": [
    "# correlation matrix for numerical values in dataframe\n",
    "mirai_flow_df.corr()"
   ]
  },
  {
   "attachments": {},
   "cell_type": "markdown",
   "metadata": {},
   "source": [
    "## Hypothesis testing\n",
    "\n",
    "- Is the difference between two groups or variables statistically significant?\n",
    "- Use t-test to compare means of two groups\n",
    "  - assumes that data follows normal distribution\n",
    "- Types of variables\n",
    "  - dependent: the effect of a phenomenon. For example, how does number of HTTP requests mean that a network is compromised?\n",
    "  - independent: the cause. The number of HTTP requests affects whether a network is compromised."
   ]
  },
  {
   "cell_type": "code",
   "execution_count": 15,
   "metadata": {},
   "outputs": [],
   "source": [
    "def hypothesis_testing(df1, df2, col):\n",
    "    group1 = df1[col]\n",
    "    group2 = df2[col]\n",
    "    pvalue = ttest_ind(group1, group2)[1]\n",
    "    if pvalue < 0.05:\n",
    "        return \"The difference between benign and mirai traffic {} is statistically significant (p < 0.05)\".format(\n",
    "            col\n",
    "        )\n",
    "    else:\n",
    "        return \"The difference between benign and mirai traffic {} is not statistically significant (p >= 0.05)\".format(\n",
    "            col\n",
    "        )"
   ]
  },
  {
   "cell_type": "code",
   "execution_count": 16,
   "metadata": {},
   "outputs": [
    {
     "data": {
      "text/plain": [
       "'The difference between benign and mirai traffic Number of Packets is statistically significant (p < 0.05)'"
      ]
     },
     "execution_count": 16,
     "metadata": {},
     "output_type": "execute_result"
    }
   ],
   "source": [
    "hypothesis_testing(mirai_flow_df, benign_flow_df, \"Number of Packets\")"
   ]
  },
  {
   "attachments": {},
   "cell_type": "markdown",
   "metadata": {},
   "source": [
    "## Outliers\n",
    "\n",
    "- observation that significantly differs from others in a dataset\n",
    "- Causes\n",
    "  - measurement errors\n",
    "  - extreme rare values\n",
    "- significant impact in statistical analysis\n",
    "- measurements\n",
    "  - z-score: `(x - mean) / std_dev`\n",
    "  - IQR method: this method identifies outliers as observations that are below `Q1 - 1.5IQR` or above `Q3 + 1.5IQR`, where Q1 and Q3 are the first and third quartiles, and IQR is the interquartile range (the difference between Q3 and Q1).\n",
    "  - visual inspection"
   ]
  },
  {
   "cell_type": "code",
   "execution_count": 17,
   "metadata": {},
   "outputs": [],
   "source": [
    "def detect_outliers_zscore(df, column, threshold=3):\n",
    "    zscores = np.abs(zscore(df[column]))\n",
    "    return df[zscores > threshold]"
   ]
  },
  {
   "cell_type": "code",
   "execution_count": 18,
   "metadata": {},
   "outputs": [
    {
     "name": "stdout",
     "output_type": "stream",
     "text": [
      "           Source IP   Destination IP  Source Port  Destination Port  \\\n",
      "1        192.168.2.1    192.168.2.110         23.0           21897.0   \n",
      "3651     192.168.2.1  239.255.255.250       1900.0            1900.0   \n",
      "3652     192.168.2.1  255.255.255.255         67.0              68.0   \n",
      "3653   192.168.2.101    192.168.2.110         23.0           21897.0   \n",
      "3673   192.168.2.103    192.168.2.110         23.0           21897.0   \n",
      "4928   192.168.2.107    192.168.2.110         23.0           21897.0   \n",
      "4933   192.168.2.108   122.226.84.253      32761.0           10240.0   \n",
      "4934   192.168.2.108  122.248.234.207      32761.0           10240.0   \n",
      "4935   192.168.2.108    46.137.188.54      32761.0           10240.0   \n",
      "4936   192.168.2.108    50.19.254.134      32761.0           10240.0   \n",
      "8014   192.168.2.108    61.188.37.216      32761.0           10240.0   \n",
      "16232  192.168.2.110      192.168.2.1      21897.0              23.0   \n",
      "18022  192.168.2.110    192.168.2.101      21897.0              23.0   \n",
      "18026  192.168.2.110    192.168.2.103      21897.0              23.0   \n",
      "18038  192.168.2.110    192.168.2.107         23.0           57206.0   \n",
      "18039  192.168.2.110    192.168.2.107      21897.0              23.0   \n",
      "18043  192.168.2.110    192.168.2.118      21897.0              23.0   \n",
      "26628  192.168.2.113   104.199.156.58      50861.0           10240.0   \n",
      "27188  192.168.2.113  114.215.137.159      50861.0           10240.0   \n",
      "27419  192.168.2.113    120.24.59.150      50861.0           10240.0   \n",
      "27776  192.168.2.113   122.226.84.253      50861.0           10240.0   \n",
      "28070  192.168.2.113  122.248.234.207      50861.0           10240.0   \n",
      "29089  192.168.2.113    46.137.188.54      50861.0           10240.0   \n",
      "29383  192.168.2.113    50.19.254.134      50861.0           10240.0   \n",
      "29684  192.168.2.113    61.188.37.216      50861.0           10240.0   \n",
      "34018  192.168.2.115  239.255.255.250       1215.0            1900.0   \n",
      "34169  192.168.2.118    192.168.2.110         23.0           21897.0   \n",
      "36572  192.168.2.196    192.168.2.101      53781.0           51009.0   \n",
      "\n",
      "       Protocol  Number of Packets  Total Length     Duration  \n",
      "1           6.0               1432         37232  2375.572448  \n",
      "3651       17.0                264         43824  6284.687568  \n",
      "3652       17.0                136         22576  7101.037963  \n",
      "3653        6.0               1431         37206  2376.723766  \n",
      "3673        6.0               1431         37206  2376.723102  \n",
      "4928        6.0               1432         37232  2376.719531  \n",
      "4933       17.0               7813        375024  7135.501055  \n",
      "4934       17.0               7853        376944  7135.502403  \n",
      "4935       17.0               7853        376944  7135.501165  \n",
      "4936       17.0               7853        376944  7135.502301  \n",
      "8014       17.0               7804        374592  7135.501056  \n",
      "16232       6.0               1432         37232  2375.572289  \n",
      "18022       6.0               1431         37206  2376.723879  \n",
      "18026       6.0               2862         74412  2376.732041  \n",
      "18038       6.0                284         16692   368.594927  \n",
      "18039       6.0               1432         37232  2376.719463  \n",
      "18043       6.0               1146         29796  2376.550166  \n",
      "26628      17.0               2926        140448  7118.438750  \n",
      "27188      17.0               2926        140448  7118.437637  \n",
      "27419      17.0               2926        140448  7118.436806  \n",
      "27776      17.0               2926        140448  7118.435486  \n",
      "28070      17.0               2926        140448  7118.433272  \n",
      "29089      17.0               2926        140448  7118.433271  \n",
      "29383      17.0               2926        140448  7118.433310  \n",
      "29684      17.0               2926        140448  7118.436230  \n",
      "34018      17.0                714        118524  7111.128903  \n",
      "34169       6.0               1146         22920  2376.550201  \n",
      "36572      17.0                240         39840  2408.542301  \n"
     ]
    }
   ],
   "source": [
    "outliers = detect_outliers_zscore(mirai_flow_df, \"Total Length\", threshold=3)\n",
    "print(outliers)"
   ]
  },
  {
   "attachments": {},
   "cell_type": "markdown",
   "metadata": {},
   "source": [
    "# Feature Engineering"
   ]
  },
  {
   "attachments": {},
   "cell_type": "markdown",
   "metadata": {},
   "source": [
    "## Numerical"
   ]
  },
  {
   "cell_type": "code",
   "execution_count": 19,
   "metadata": {},
   "outputs": [],
   "source": [
    "# convert ip address to numeric values\n",
    "def ip_to_numeric(ip):\n",
    "    ip_obj = ipaddress.ip_interface(ip)\n",
    "    return int(ip_obj.network.network_address)"
   ]
  },
  {
   "cell_type": "code",
   "execution_count": 20,
   "metadata": {},
   "outputs": [],
   "source": [
    "# convert IPs to numeric mirai data\n",
    "mirai_flow_df[\"Source IP Numeric\"] = mirai_flow_df[\"Source IP\"].apply(ip_to_numeric)\n",
    "mirai_flow_df[\"Destination IP Numeric\"] = mirai_flow_df[\"Destination IP\"].apply(\n",
    "    ip_to_numeric\n",
    ")"
   ]
  },
  {
   "cell_type": "code",
   "execution_count": 21,
   "metadata": {},
   "outputs": [],
   "source": [
    "# convert IPs to numeric benign data\n",
    "benign_flow_df[\"Source IP Numeric\"] = benign_flow_df[\"Source IP\"].apply(ip_to_numeric)\n",
    "benign_flow_df[\"Destination IP Numeric\"] = benign_flow_df[\"Destination IP\"].apply(\n",
    "    ip_to_numeric\n",
    ")"
   ]
  },
  {
   "cell_type": "code",
   "execution_count": 22,
   "metadata": {},
   "outputs": [],
   "source": [
    "# get rid of non numeric columns for IPs\n",
    "mirai_flow_df_numeric = mirai_flow_df.drop(columns=[\"Source IP\", \"Destination IP\"])\n",
    "benign_flow_df_numeric = benign_flow_df.drop(columns=[\"Source IP\", \"Destination IP\"])"
   ]
  },
  {
   "cell_type": "code",
   "execution_count": 23,
   "metadata": {},
   "outputs": [],
   "source": [
    "# convert duration from object to float\n",
    "mirai_flow_df[\"Duration\"] = mirai_flow_df_numeric[\"Duration\"].astype(float)\n",
    "benign_flow_df[\"Duration\"] = benign_flow_df_numeric[\"Duration\"].astype(float)"
   ]
  },
  {
   "cell_type": "code",
   "execution_count": 24,
   "metadata": {},
   "outputs": [
    {
     "data": {
      "text/plain": [
       "Source Port               float64\n",
       "Destination Port          float64\n",
       "Protocol                  float64\n",
       "Number of Packets           int64\n",
       "Total Length                int64\n",
       "Duration                  float64\n",
       "Source IP Numeric           int64\n",
       "Destination IP Numeric      int64\n",
       "dtype: object"
      ]
     },
     "execution_count": 24,
     "metadata": {},
     "output_type": "execute_result"
    }
   ],
   "source": [
    "# check if all data types are numeric now\n",
    "mirai_flow_df_numeric.dtypes"
   ]
  },
  {
   "cell_type": "code",
   "execution_count": 25,
   "metadata": {},
   "outputs": [],
   "source": [
    "# save dataframes to pickles, can be used in the next blog\n",
    "mirai_flow_df_numeric.to_pickle(\"../data/blog_eda/mirai_flow_numeric.pkl\")\n",
    "benign_flow_df_numeric.to_pickle(\"../data/blog_eda/benign_flow_numeric.pkl\")"
   ]
  },
  {
   "cell_type": "code",
   "execution_count": 26,
   "metadata": {},
   "outputs": [],
   "source": [
    "mirai_flow_df_numeric = pd.read_pickle(\"../data/blog_eda/mirai_flow_numeric.pkl\")\n",
    "benign_flow_df_numeric = pd.read_pickle(\"../data/blog_eda/mirai_flow_numeric.pkl\")"
   ]
  },
  {
   "cell_type": "markdown",
   "metadata": {},
   "source": [
    "# More EDA\n",
    "After converting all columns to numerical, we can do more exploration."
   ]
  },
  {
   "cell_type": "markdown",
   "metadata": {},
   "source": [
    "## Correlation"
   ]
  },
  {
   "cell_type": "code",
   "execution_count": 27,
   "metadata": {},
   "outputs": [
    {
     "name": "stdout",
     "output_type": "stream",
     "text": [
      "Correlation Matrix:\n",
      "                        Source Port  Destination Port  Protocol  \\\n",
      "Source Port                1.000000         -0.137491 -0.280543   \n",
      "Destination Port          -0.137491          1.000000 -0.213777   \n",
      "Protocol                  -0.280543         -0.213777  1.000000   \n",
      "Number of Packets         -0.006830          0.030570  0.002669   \n",
      "Total Length              -0.008757          0.028732  0.010510   \n",
      "Duration                  -0.352542         -0.030991  0.183307   \n",
      "Source IP Numeric          0.008740          0.001834 -0.003955   \n",
      "Destination IP Numeric    -0.390018         -0.106866  0.506925   \n",
      "\n",
      "                        Number of Packets  Total Length  Duration  \\\n",
      "Source Port                     -0.006830     -0.008757 -0.352542   \n",
      "Destination Port                 0.030570      0.028732 -0.030991   \n",
      "Protocol                         0.002669      0.010510  0.183307   \n",
      "Number of Packets                1.000000      0.988055  0.099866   \n",
      "Total Length                     0.988055      1.000000  0.105296   \n",
      "Duration                         0.099866      0.105296  1.000000   \n",
      "Source IP Numeric               -0.001137     -0.004524 -0.023632   \n",
      "Destination IP Numeric          -0.006417     -0.003126  0.206981   \n",
      "\n",
      "                        Source IP Numeric  Destination IP Numeric  \n",
      "Source Port                      0.008740               -0.390018  \n",
      "Destination Port                 0.001834               -0.106866  \n",
      "Protocol                        -0.003955                0.506925  \n",
      "Number of Packets               -0.001137               -0.006417  \n",
      "Total Length                    -0.004524               -0.003126  \n",
      "Duration                        -0.023632                0.206981  \n",
      "Source IP Numeric                1.000000               -0.009815  \n",
      "Destination IP Numeric          -0.009815                1.000000  \n"
     ]
    }
   ],
   "source": [
    "# Calculate the correlation matrix\n",
    "correlation_matrix = mirai_flow_df_numeric.corr()\n",
    "\n",
    "# Print the correlation matrix and autocorrelation\n",
    "print(\"Correlation Matrix:\")\n",
    "print(correlation_matrix)"
   ]
  },
  {
   "cell_type": "code",
   "execution_count": 28,
   "metadata": {},
   "outputs": [
    {
     "ename": "NameError",
     "evalue": "name 'benign_df_numeric' is not defined",
     "output_type": "error",
     "traceback": [
      "\u001b[0;31m---------------------------------------------------------------------------\u001b[0m",
      "\u001b[0;31mNameError\u001b[0m                                 Traceback (most recent call last)",
      "Cell \u001b[0;32mIn[28], line 2\u001b[0m\n\u001b[1;32m      1\u001b[0m \u001b[39m# Calculate the correlation matrix\u001b[39;00m\n\u001b[0;32m----> 2\u001b[0m correlation_matrix \u001b[39m=\u001b[39m benign_df_numeric\u001b[39m.\u001b[39mcorr()\n\u001b[1;32m      4\u001b[0m \u001b[39m# Print the correlation matrix and autocorrelation\u001b[39;00m\n\u001b[1;32m      5\u001b[0m \u001b[39mprint\u001b[39m(\u001b[39m\"\u001b[39m\u001b[39mCorrelation Matrix:\u001b[39m\u001b[39m\"\u001b[39m)\n",
      "\u001b[0;31mNameError\u001b[0m: name 'benign_df_numeric' is not defined"
     ]
    }
   ],
   "source": [
    "# Calculate the correlation matrix\n",
    "correlation_matrix = benign_df_numeric.corr()\n",
    "\n",
    "# Print the correlation matrix and autocorrelation\n",
    "print(\"Correlation Matrix:\")\n",
    "print(correlation_matrix)"
   ]
  },
  {
   "cell_type": "code",
   "execution_count": null,
   "metadata": {},
   "outputs": [],
   "source": [
    "# get random subset of dataframe\n",
    "mirai_flow_df_numeric_sample = mirai_flow_df_numeric.sample(1000)\n",
    "mirai_flow_df_numeric_sample"
   ]
  },
  {
   "cell_type": "code",
   "execution_count": null,
   "metadata": {},
   "outputs": [],
   "source": [
    "# Create the default pairplot\n",
    "# this is an alternative way to look at correlation\n",
    "# very useful when there are outliers in data and correlation may be misleading\n",
    "sns.pairplot(mirai_flow_df_numeric_sample)"
   ]
  },
  {
   "cell_type": "code",
   "execution_count": null,
   "metadata": {},
   "outputs": [],
   "source": [
    "# get random subset of dataframe\n",
    "benign_flow_df_numeric_sample = benign_flow_df_numeric.sample(1000)"
   ]
  },
  {
   "cell_type": "code",
   "execution_count": null,
   "metadata": {},
   "outputs": [],
   "source": [
    "sns.pairplot(benign_flow_df_numeric_sample)"
   ]
  },
  {
   "cell_type": "markdown",
   "metadata": {},
   "source": [
    "## Autocorrelation"
   ]
  },
  {
   "cell_type": "code",
   "execution_count": null,
   "metadata": {},
   "outputs": [],
   "source": [
    "# Calculate the autocorrelation for a specific column (e.g., 'Number of Packets')\n",
    "autocorrelation = mirai_flow_df_numeric[\"Number of Packets\"].autocorr()\n",
    "\n",
    "print(\"\\nAutocorrelation for 'Number of Packets':\")\n",
    "print(autocorrelation)"
   ]
  },
  {
   "cell_type": "code",
   "execution_count": null,
   "metadata": {},
   "outputs": [],
   "source": [
    "# Calculate the autocorrelation for a specific column (e.g., 'Number of Packets')\n",
    "autocorrelation = benign_flow_df_numeric[\"Number of Packets\"].autocorr()\n",
    "\n",
    "print(\"\\nAutocorrelation for 'Number of Packets':\")\n",
    "print(autocorrelation)"
   ]
  },
  {
   "attachments": {},
   "cell_type": "markdown",
   "metadata": {},
   "source": [
    "# Summaries & Visualizations"
   ]
  },
  {
   "cell_type": "code",
   "execution_count": null,
   "metadata": {},
   "outputs": [],
   "source": [
    "skim(mirai_flow_df_numeric)"
   ]
  },
  {
   "cell_type": "code",
   "execution_count": null,
   "metadata": {},
   "outputs": [],
   "source": [
    "skim(benign_flow_df_numeric)"
   ]
  },
  {
   "cell_type": "code",
   "execution_count": null,
   "metadata": {},
   "outputs": [],
   "source": [
    "dfSummary(mirai_flow_df_numeric)"
   ]
  },
  {
   "cell_type": "code",
   "execution_count": null,
   "metadata": {},
   "outputs": [],
   "source": [
    "dfSummary(benign_flow_df_numeric)"
   ]
  },
  {
   "cell_type": "code",
   "execution_count": null,
   "metadata": {},
   "outputs": [],
   "source": [
    "my_report = sv.analyze(mirai_flow_df_numeric)\n",
    "my_report.show_html()"
   ]
  },
  {
   "cell_type": "code",
   "execution_count": null,
   "metadata": {},
   "outputs": [],
   "source": [
    "my_report = sv.analyze(benign_flow_df_numeric)\n",
    "my_report.show_html()"
   ]
  }
 ],
 "metadata": {
  "kernelspec": {
   "display_name": ".venv",
   "language": "python",
   "name": "python3"
  },
  "language_info": {
   "codemirror_mode": {
    "name": "ipython",
    "version": 3
   },
   "file_extension": ".py",
   "mimetype": "text/x-python",
   "name": "python",
   "nbconvert_exporter": "python",
   "pygments_lexer": "ipython3",
   "version": "3.10.6"
  }
 },
 "nbformat": 4,
 "nbformat_minor": 2
}
