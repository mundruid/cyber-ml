{
 "cells": [
  {
   "cell_type": "code",
   "execution_count": 1,
   "metadata": {},
   "outputs": [],
   "source": [
    "import pandas as pd\n",
    "import numpy as np"
   ]
  },
  {
   "cell_type": "code",
   "execution_count": 2,
   "metadata": {},
   "outputs": [],
   "source": [
    "mirai_df = pd.read_pickle(\"../data/blog_eda/mirai.pkl\")\n",
    "benign_df = pd.read_pickle(\"../data/blog_eda/benign.pkl\")"
   ]
  },
  {
   "cell_type": "code",
   "execution_count": 4,
   "metadata": {},
   "outputs": [],
   "source": [
    "from sklearn.preprocessing import LabelEncoder\n",
    "\n",
    "mirai_df[\"protocol_encoded\"] = LabelEncoder().fit_transform(mirai_df[\"Protocol\"])\n",
    "benign_df[\"protocol_encoded\"] = LabelEncoder().fit_transform(benign_df[\"Protocol\"])"
   ]
  },
  {
   "cell_type": "code",
   "execution_count": 5,
   "metadata": {},
   "outputs": [
    {
     "data": {
      "text/html": [
       "<div>\n",
       "<style scoped>\n",
       "    .dataframe tbody tr th:only-of-type {\n",
       "        vertical-align: middle;\n",
       "    }\n",
       "\n",
       "    .dataframe tbody tr th {\n",
       "        vertical-align: top;\n",
       "    }\n",
       "\n",
       "    .dataframe thead th {\n",
       "        text-align: right;\n",
       "    }\n",
       "</style>\n",
       "<table border=\"1\" class=\"dataframe\">\n",
       "  <thead>\n",
       "    <tr style=\"text-align: right;\">\n",
       "      <th></th>\n",
       "      <th>Timestamp</th>\n",
       "      <th>Source IP</th>\n",
       "      <th>Destination IP</th>\n",
       "      <th>Source Port</th>\n",
       "      <th>Destination Port</th>\n",
       "      <th>Payload</th>\n",
       "      <th>Packet Length</th>\n",
       "      <th>Protocol</th>\n",
       "      <th>protocol_encoded</th>\n",
       "    </tr>\n",
       "  </thead>\n",
       "  <tbody>\n",
       "    <tr>\n",
       "      <th>764132</th>\n",
       "      <td>1540453519.837515</td>\n",
       "      <td>None</td>\n",
       "      <td>None</td>\n",
       "      <td>NaN</td>\n",
       "      <td>NaN</td>\n",
       "      <td>ARP who has 192.168.2.165 says 192.168.2.110 /...</td>\n",
       "      <td>60</td>\n",
       "      <td>NaN</td>\n",
       "      <td>4</td>\n",
       "    </tr>\n",
       "    <tr>\n",
       "      <th>764133</th>\n",
       "      <td>1540453519.839396</td>\n",
       "      <td>None</td>\n",
       "      <td>None</td>\n",
       "      <td>NaN</td>\n",
       "      <td>NaN</td>\n",
       "      <td>ARP who has 192.168.2.166 says 192.168.2.110 /...</td>\n",
       "      <td>60</td>\n",
       "      <td>NaN</td>\n",
       "      <td>4</td>\n",
       "    </tr>\n",
       "    <tr>\n",
       "      <th>764134</th>\n",
       "      <td>1540453519.840611</td>\n",
       "      <td>None</td>\n",
       "      <td>None</td>\n",
       "      <td>NaN</td>\n",
       "      <td>NaN</td>\n",
       "      <td>ARP who has 192.168.2.167 says 192.168.2.110 /...</td>\n",
       "      <td>60</td>\n",
       "      <td>NaN</td>\n",
       "      <td>4</td>\n",
       "    </tr>\n",
       "    <tr>\n",
       "      <th>764135</th>\n",
       "      <td>1540453519.842369</td>\n",
       "      <td>None</td>\n",
       "      <td>None</td>\n",
       "      <td>NaN</td>\n",
       "      <td>NaN</td>\n",
       "      <td>ARP who has 192.168.2.168 says 192.168.2.110 /...</td>\n",
       "      <td>60</td>\n",
       "      <td>NaN</td>\n",
       "      <td>4</td>\n",
       "    </tr>\n",
       "    <tr>\n",
       "      <th>764136</th>\n",
       "      <td>1540453519.842464</td>\n",
       "      <td>192.168.2.115</td>\n",
       "      <td>192.168.2.1</td>\n",
       "      <td>3570.0</td>\n",
       "      <td>53.0</td>\n",
       "      <td>DNS Qry \"b'north-america.pool.ntp.org.Speedpor...</td>\n",
       "      <td>85</td>\n",
       "      <td>17.0</td>\n",
       "      <td>3</td>\n",
       "    </tr>\n",
       "  </tbody>\n",
       "</table>\n",
       "</div>"
      ],
      "text/plain": [
       "                Timestamp      Source IP Destination IP  Source Port  \\\n",
       "764132  1540453519.837515           None           None          NaN   \n",
       "764133  1540453519.839396           None           None          NaN   \n",
       "764134  1540453519.840611           None           None          NaN   \n",
       "764135  1540453519.842369           None           None          NaN   \n",
       "764136  1540453519.842464  192.168.2.115    192.168.2.1       3570.0   \n",
       "\n",
       "        Destination Port                                            Payload  \\\n",
       "764132               NaN  ARP who has 192.168.2.165 says 192.168.2.110 /...   \n",
       "764133               NaN  ARP who has 192.168.2.166 says 192.168.2.110 /...   \n",
       "764134               NaN  ARP who has 192.168.2.167 says 192.168.2.110 /...   \n",
       "764135               NaN  ARP who has 192.168.2.168 says 192.168.2.110 /...   \n",
       "764136              53.0  DNS Qry \"b'north-america.pool.ntp.org.Speedpor...   \n",
       "\n",
       "        Packet Length  Protocol  protocol_encoded  \n",
       "764132             60       NaN                 4  \n",
       "764133             60       NaN                 4  \n",
       "764134             60       NaN                 4  \n",
       "764135             60       NaN                 4  \n",
       "764136             85      17.0                 3  "
      ]
     },
     "execution_count": 5,
     "metadata": {},
     "output_type": "execute_result"
    }
   ],
   "source": [
    "mirai_df.tail()"
   ]
  },
  {
   "cell_type": "code",
   "execution_count": null,
   "metadata": {},
   "outputs": [],
   "source": []
  }
 ],
 "metadata": {
  "kernelspec": {
   "display_name": ".venv",
   "language": "python",
   "name": "python3"
  },
  "language_info": {
   "codemirror_mode": {
    "name": "ipython",
    "version": 3
   },
   "file_extension": ".py",
   "mimetype": "text/x-python",
   "name": "python",
   "nbconvert_exporter": "python",
   "pygments_lexer": "ipython3",
   "version": "3.10.6"
  }
 },
 "nbformat": 4,
 "nbformat_minor": 2
}
